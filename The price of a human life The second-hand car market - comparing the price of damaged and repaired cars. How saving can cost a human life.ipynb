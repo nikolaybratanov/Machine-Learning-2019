{
 "cells": [
  {
   "cell_type": "code",
   "execution_count": 3,
   "metadata": {},
   "outputs": [],
   "source": [
    "%matplotlib inline"
   ]
  },
  {
   "cell_type": "code",
   "execution_count": 211,
   "metadata": {},
   "outputs": [
    {
     "ename": "ModuleNotFoundError",
     "evalue": "No module named 'scikitplot'",
     "output_type": "error",
     "traceback": [
      "\u001b[0;31m---------------------------------------------------------------------------\u001b[0m",
      "\u001b[0;31mModuleNotFoundError\u001b[0m                       Traceback (most recent call last)",
      "\u001b[0;32m<ipython-input-211-e0a9510431cc>\u001b[0m in \u001b[0;36m<module>\u001b[0;34m\u001b[0m\n\u001b[1;32m     12\u001b[0m \u001b[0;34m\u001b[0m\u001b[0m\n\u001b[1;32m     13\u001b[0m \u001b[0;32mfrom\u001b[0m \u001b[0mscipy\u001b[0m\u001b[0;34m.\u001b[0m\u001b[0mstats\u001b[0m \u001b[0;32mimport\u001b[0m \u001b[0mttest_ind\u001b[0m\u001b[0;34m,\u001b[0m \u001b[0mchisquare\u001b[0m\u001b[0;34m\u001b[0m\u001b[0;34m\u001b[0m\u001b[0m\n\u001b[0;32m---> 14\u001b[0;31m \u001b[0;32mimport\u001b[0m \u001b[0mscikitplot\u001b[0m \u001b[0;32mas\u001b[0m \u001b[0mskplt\u001b[0m\u001b[0;34m\u001b[0m\u001b[0;34m\u001b[0m\u001b[0m\n\u001b[0m\u001b[1;32m     15\u001b[0m \u001b[0;34m\u001b[0m\u001b[0m\n\u001b[1;32m     16\u001b[0m \u001b[0;32mimport\u001b[0m \u001b[0mpickle\u001b[0m\u001b[0;34m\u001b[0m\u001b[0;34m\u001b[0m\u001b[0m\n",
      "\u001b[0;31mModuleNotFoundError\u001b[0m: No module named 'scikitplot'"
     ]
    }
   ],
   "source": [
    "import pandas as pd\n",
    "import numpy as np\n",
    "import matplotlib.pyplot as plt\n",
    "\n",
    "from sklearn.model_selection import train_test_split, StratifiedKFold, GridSearchCV\n",
    "from sklearn.linear_model import LinearRegression, LogisticRegression, Ridge, Lasso\n",
    "from sklearn.preprocessing import MinMaxScaler, PolynomialFeatures\n",
    "from sklearn.metrics import f1_score, make_scorer, classification_report, confusion_matrix, roc_curve\n",
    "from sklearn.tree import DecisionTreeClassifier\n",
    "from sklearn.ensemble import RandomForestClassifier, AdaBoostClassifier\n",
    "from sklearn.svm import SVC\n",
    "\n",
    "from scipy.stats import ttest_ind, chisquare\n",
    "import scikitplot as skplt\n",
    "\n",
    "import pickle\n",
    "\n",
    "np.random.seed(24680)"
   ]
  },
  {
   "cell_type": "markdown",
   "metadata": {},
   "source": [
    "# The price of a human life\n",
    "## The second-hand car market - comparing the price of damaged and repaired cars. How saving can cost a human life?\n",
    "### Author: Nikolay Bratanov"
   ]
  },
  {
   "cell_type": "markdown",
   "metadata": {},
   "source": [
    "### __Content__\n",
    "\n",
    "I. Abstract\n",
    "<br>\n",
    "II. Introduction\n",
    "<br>\n",
    "III. Cars Dataset\n",
    "<br>\n",
    "&emsp;1.Data cleaning and manipulation\n",
    "<br>\n",
    "&emsp;2.Data Visualization\n",
    "<br>\n",
    "&emsp;3.Hypothesis Testing\n",
    "<br>\n",
    "&emsp;4.Data Modelation\n",
    "<br>\n",
    "&emsp;&emsp;4.1 Simple Linear Regression\n",
    "<br>\n",
    "&emsp;&emsp;4.2 Tuned Simple Linear Regression\n",
    "<br>\n",
    "&emsp;&emsp;4.3 Polynomial regression\n",
    "<br>\n",
    "&emsp;&emsp;4.4 Ridge Regression\n",
    "<br>\n",
    "&emsp;&emsp;4.5 Lasso Regression\n",
    "<br>\n",
    "&emsp;5.Models Comparison\n",
    "<br>\n",
    "&emsp;6.Conclusion\n",
    "<br>\n",
    "IV. Airbag Dataset\n",
    "<br>\n",
    "&emsp;1.Data Cleaning and Manipulation\n",
    "<br>\n",
    "&emsp;2.Data Visualization\n",
    "<br>\n",
    "&emsp;3.Hypothesis Testing\n",
    "<br>\n",
    "&emsp;&emsp;3.1 Female vs Male\n",
    "<br>\n",
    "&emsp;&emsp;3.2 Belted vs not Belted\n",
    "<br>\n",
    "&emsp;&emsp;3.3 Airbag vs no Airbag\n",
    "<br>\n",
    "&emsp;4.Data modelation\n",
    "<br>\n",
    "&emsp;&emsp;4.1 Logistic regression\n",
    "<br>\n",
    "&emsp;&emsp;4.2 Decision Tree\n",
    "<br>\n",
    "&emsp;&emsp;4.3 Random Forest\n",
    "<br>\n",
    "&emsp;&emsp;4.4 AdaBoost Classifier\n",
    "<br>\n",
    "&emsp;&emsp;4.5 Gaussian SVM\n",
    "<br>\n",
    "&emsp;5.Models Comparison on Test Data\n",
    "<br>\n",
    "&emsp;6.Bonus Tuning\n",
    "<br>\n",
    "&emsp;7.Conclusion\n",
    "<br>\n",
    "V. Conclusion\n",
    "<br>\n",
    "VI. Limitations\n",
    "<br>\n",
    "V. Implementation Ideas"
   ]
  },
  {
   "cell_type": "markdown",
   "metadata": {},
   "source": [
    "\n",
    "# I. Abstract\n",
    "\n",
    "In this work I explored two datasets. The first one consists of car ads in Germany. I explored how the price of a damaged car differs from the price of an undamaged car and I tested this statement usint a hypothesis testing. Then I predicted the exact price difference between a damaged and undamaged car. For this reason I used 5 different linear regression models in order to get a good accuracy.\n",
    "In the second part of this work I explored a dataset with data showing how important are the airbag and the seatbelt during an accident. Using the data, I trained 6 different models in an attempt to create a model that can predict whether a person died in an accident given certain factors. Unfortunately, all the models performed bad on new data, although some of them performed really good on training data. "
   ]
  },
  {
   "cell_type": "markdown",
   "metadata": {},
   "source": [
    "# II. Introduction\n",
    "\n",
    "The market for used cars in Europe is huge. Countries like Poland, Bulgaria, Romania, Bosnia etc. import intensively second-hand cars from Germany, most of which are damaged. Then they get repaired and resold again to a consumer. However, in order to decrease the cost and increase the profit, many of the dealers resell apply some tricks, for example they return the mileage of the vehicle or dont repair the open airbag.\n",
    "According to the report of Öko-Institut in Germany (https://www.oeko.de/oekodoc/1114/2011-005-en.pdf) Bulgaria is in top 5 of the countries in Europe with highest import of second hand cars from Western Europe. Furthermore, the most preferable cars are at least 10 years old and with a damage. \n",
    "This has very bad consequences of course. According to the Eurostat, Bulgaria \"ranks highest in the passenger car category with 64 deaths in road traffic accidents per million inhabitants (2016 data), which is almost six times the lowest rate, that of Malta (11, also 2016 data)\"(http://www.bta.bg/en/c/DF/id/2063669). Of course, the car dealers did not cause all these. There is a complex combination of factors (like high corruption, low road control, bad traffic organization, bad road conditions etc), but dead cases could have been fewer if the cars did have working airbags and were new cars without previous accidents.\n",
    "In this work I want to prove my statements, that damaged cars are much cheaper than undamaged cars and to show the importance of the airbag and the seatbelt during an accident through a visualization. At the end I will try to create a model that can predict correctly whether a person is alive after an accident.\n"
   ]
  },
  {
   "cell_type": "markdown",
   "metadata": {},
   "source": [
    "# III. Cars Dataset"
   ]
  },
  {
   "cell_type": "markdown",
   "metadata": {},
   "source": [
    "## 1. Data Cleaning and Manipulation\n"
   ]
  },
  {
   "cell_type": "markdown",
   "metadata": {},
   "source": [
    "First I will read my dataset and will check the content of some of columns. Then I will delete some of them which will be needless for my model."
   ]
  },
  {
   "cell_type": "code",
   "execution_count": 5,
   "metadata": {},
   "outputs": [],
   "source": [
    "car_data = pd.read_csv(\"data/autos.csv\", encoding =\"ISO-8859-1\")"
   ]
  },
  {
   "cell_type": "code",
   "execution_count": 6,
   "metadata": {},
   "outputs": [
    {
     "data": {
      "text/html": [
       "<div>\n",
       "<style scoped>\n",
       "    .dataframe tbody tr th:only-of-type {\n",
       "        vertical-align: middle;\n",
       "    }\n",
       "\n",
       "    .dataframe tbody tr th {\n",
       "        vertical-align: top;\n",
       "    }\n",
       "\n",
       "    .dataframe thead th {\n",
       "        text-align: right;\n",
       "    }\n",
       "</style>\n",
       "<table border=\"1\" class=\"dataframe\">\n",
       "  <thead>\n",
       "    <tr style=\"text-align: right;\">\n",
       "      <th></th>\n",
       "      <th>dateCrawled</th>\n",
       "      <th>name</th>\n",
       "      <th>seller</th>\n",
       "      <th>offerType</th>\n",
       "      <th>price</th>\n",
       "      <th>abtest</th>\n",
       "      <th>vehicleType</th>\n",
       "      <th>yearOfRegistration</th>\n",
       "      <th>gearbox</th>\n",
       "      <th>powerPS</th>\n",
       "      <th>model</th>\n",
       "      <th>kilometer</th>\n",
       "      <th>monthOfRegistration</th>\n",
       "      <th>fuelType</th>\n",
       "      <th>brand</th>\n",
       "      <th>notRepairedDamage</th>\n",
       "      <th>dateCreated</th>\n",
       "      <th>nrOfPictures</th>\n",
       "      <th>postalCode</th>\n",
       "      <th>lastSeen</th>\n",
       "    </tr>\n",
       "  </thead>\n",
       "  <tbody>\n",
       "    <tr>\n",
       "      <th>0</th>\n",
       "      <td>2016-03-24 11:52:17</td>\n",
       "      <td>Golf_3_1.6</td>\n",
       "      <td>privat</td>\n",
       "      <td>Angebot</td>\n",
       "      <td>480</td>\n",
       "      <td>test</td>\n",
       "      <td>NaN</td>\n",
       "      <td>1993</td>\n",
       "      <td>manuell</td>\n",
       "      <td>0</td>\n",
       "      <td>golf</td>\n",
       "      <td>150000</td>\n",
       "      <td>0</td>\n",
       "      <td>benzin</td>\n",
       "      <td>volkswagen</td>\n",
       "      <td>NaN</td>\n",
       "      <td>2016-03-24 00:00:00</td>\n",
       "      <td>0</td>\n",
       "      <td>70435</td>\n",
       "      <td>2016-04-07 03:16:57</td>\n",
       "    </tr>\n",
       "    <tr>\n",
       "      <th>1</th>\n",
       "      <td>2016-03-24 10:58:45</td>\n",
       "      <td>A5_Sportback_2.7_Tdi</td>\n",
       "      <td>privat</td>\n",
       "      <td>Angebot</td>\n",
       "      <td>18300</td>\n",
       "      <td>test</td>\n",
       "      <td>coupe</td>\n",
       "      <td>2011</td>\n",
       "      <td>manuell</td>\n",
       "      <td>190</td>\n",
       "      <td>NaN</td>\n",
       "      <td>125000</td>\n",
       "      <td>5</td>\n",
       "      <td>diesel</td>\n",
       "      <td>audi</td>\n",
       "      <td>ja</td>\n",
       "      <td>2016-03-24 00:00:00</td>\n",
       "      <td>0</td>\n",
       "      <td>66954</td>\n",
       "      <td>2016-04-07 01:46:50</td>\n",
       "    </tr>\n",
       "    <tr>\n",
       "      <th>2</th>\n",
       "      <td>2016-03-14 12:52:21</td>\n",
       "      <td>Jeep_Grand_Cherokee_\"Overland\"</td>\n",
       "      <td>privat</td>\n",
       "      <td>Angebot</td>\n",
       "      <td>9800</td>\n",
       "      <td>test</td>\n",
       "      <td>suv</td>\n",
       "      <td>2004</td>\n",
       "      <td>automatik</td>\n",
       "      <td>163</td>\n",
       "      <td>grand</td>\n",
       "      <td>125000</td>\n",
       "      <td>8</td>\n",
       "      <td>diesel</td>\n",
       "      <td>jeep</td>\n",
       "      <td>NaN</td>\n",
       "      <td>2016-03-14 00:00:00</td>\n",
       "      <td>0</td>\n",
       "      <td>90480</td>\n",
       "      <td>2016-04-05 12:47:46</td>\n",
       "    </tr>\n",
       "    <tr>\n",
       "      <th>3</th>\n",
       "      <td>2016-03-17 16:54:04</td>\n",
       "      <td>GOLF_4_1_4__3TÜRER</td>\n",
       "      <td>privat</td>\n",
       "      <td>Angebot</td>\n",
       "      <td>1500</td>\n",
       "      <td>test</td>\n",
       "      <td>kleinwagen</td>\n",
       "      <td>2001</td>\n",
       "      <td>manuell</td>\n",
       "      <td>75</td>\n",
       "      <td>golf</td>\n",
       "      <td>150000</td>\n",
       "      <td>6</td>\n",
       "      <td>benzin</td>\n",
       "      <td>volkswagen</td>\n",
       "      <td>nein</td>\n",
       "      <td>2016-03-17 00:00:00</td>\n",
       "      <td>0</td>\n",
       "      <td>91074</td>\n",
       "      <td>2016-03-17 17:40:17</td>\n",
       "    </tr>\n",
       "    <tr>\n",
       "      <th>4</th>\n",
       "      <td>2016-03-31 17:25:20</td>\n",
       "      <td>Skoda_Fabia_1.4_TDI_PD_Classic</td>\n",
       "      <td>privat</td>\n",
       "      <td>Angebot</td>\n",
       "      <td>3600</td>\n",
       "      <td>test</td>\n",
       "      <td>kleinwagen</td>\n",
       "      <td>2008</td>\n",
       "      <td>manuell</td>\n",
       "      <td>69</td>\n",
       "      <td>fabia</td>\n",
       "      <td>90000</td>\n",
       "      <td>7</td>\n",
       "      <td>diesel</td>\n",
       "      <td>skoda</td>\n",
       "      <td>nein</td>\n",
       "      <td>2016-03-31 00:00:00</td>\n",
       "      <td>0</td>\n",
       "      <td>60437</td>\n",
       "      <td>2016-04-06 10:17:21</td>\n",
       "    </tr>\n",
       "  </tbody>\n",
       "</table>\n",
       "</div>"
      ],
      "text/plain": [
       "           dateCrawled                            name  seller offerType  \\\n",
       "0  2016-03-24 11:52:17                      Golf_3_1.6  privat   Angebot   \n",
       "1  2016-03-24 10:58:45            A5_Sportback_2.7_Tdi  privat   Angebot   \n",
       "2  2016-03-14 12:52:21  Jeep_Grand_Cherokee_\"Overland\"  privat   Angebot   \n",
       "3  2016-03-17 16:54:04              GOLF_4_1_4__3TÜRER  privat   Angebot   \n",
       "4  2016-03-31 17:25:20  Skoda_Fabia_1.4_TDI_PD_Classic  privat   Angebot   \n",
       "\n",
       "   price abtest vehicleType  yearOfRegistration    gearbox  powerPS  model  \\\n",
       "0    480   test         NaN                1993    manuell        0   golf   \n",
       "1  18300   test       coupe                2011    manuell      190    NaN   \n",
       "2   9800   test         suv                2004  automatik      163  grand   \n",
       "3   1500   test  kleinwagen                2001    manuell       75   golf   \n",
       "4   3600   test  kleinwagen                2008    manuell       69  fabia   \n",
       "\n",
       "   kilometer  monthOfRegistration fuelType       brand notRepairedDamage  \\\n",
       "0     150000                    0   benzin  volkswagen               NaN   \n",
       "1     125000                    5   diesel        audi                ja   \n",
       "2     125000                    8   diesel        jeep               NaN   \n",
       "3     150000                    6   benzin  volkswagen              nein   \n",
       "4      90000                    7   diesel       skoda              nein   \n",
       "\n",
       "           dateCreated  nrOfPictures  postalCode             lastSeen  \n",
       "0  2016-03-24 00:00:00             0       70435  2016-04-07 03:16:57  \n",
       "1  2016-03-24 00:00:00             0       66954  2016-04-07 01:46:50  \n",
       "2  2016-03-14 00:00:00             0       90480  2016-04-05 12:47:46  \n",
       "3  2016-03-17 00:00:00             0       91074  2016-03-17 17:40:17  \n",
       "4  2016-03-31 00:00:00             0       60437  2016-04-06 10:17:21  "
      ]
     },
     "execution_count": 6,
     "metadata": {},
     "output_type": "execute_result"
    }
   ],
   "source": [
    "car_data.head()"
   ]
  },
  {
   "cell_type": "code",
   "execution_count": 7,
   "metadata": {},
   "outputs": [
    {
     "data": {
      "text/plain": [
       "Angebot    371516\n",
       "Gesuch         12\n",
       "Name: offerType, dtype: int64"
      ]
     },
     "execution_count": 7,
     "metadata": {},
     "output_type": "execute_result"
    }
   ],
   "source": [
    "car_data.offerType.value_counts()"
   ]
  },
  {
   "cell_type": "code",
   "execution_count": 8,
   "metadata": {},
   "outputs": [
    {
     "data": {
      "text/html": [
       "<div>\n",
       "<style scoped>\n",
       "    .dataframe tbody tr th:only-of-type {\n",
       "        vertical-align: middle;\n",
       "    }\n",
       "\n",
       "    .dataframe tbody tr th {\n",
       "        vertical-align: top;\n",
       "    }\n",
       "\n",
       "    .dataframe thead th {\n",
       "        text-align: right;\n",
       "    }\n",
       "</style>\n",
       "<table border=\"1\" class=\"dataframe\">\n",
       "  <thead>\n",
       "    <tr style=\"text-align: right;\">\n",
       "      <th></th>\n",
       "      <th>dateCrawled</th>\n",
       "      <th>name</th>\n",
       "      <th>seller</th>\n",
       "      <th>offerType</th>\n",
       "      <th>price</th>\n",
       "      <th>abtest</th>\n",
       "      <th>vehicleType</th>\n",
       "      <th>yearOfRegistration</th>\n",
       "      <th>gearbox</th>\n",
       "      <th>powerPS</th>\n",
       "      <th>model</th>\n",
       "      <th>kilometer</th>\n",
       "      <th>monthOfRegistration</th>\n",
       "      <th>fuelType</th>\n",
       "      <th>brand</th>\n",
       "      <th>notRepairedDamage</th>\n",
       "      <th>dateCreated</th>\n",
       "      <th>nrOfPictures</th>\n",
       "      <th>postalCode</th>\n",
       "      <th>lastSeen</th>\n",
       "    </tr>\n",
       "  </thead>\n",
       "  <tbody>\n",
       "    <tr>\n",
       "      <th>16744</th>\n",
       "      <td>2016-04-03 15:48:33</td>\n",
       "      <td>Suche_VW_T5_Multivan</td>\n",
       "      <td>privat</td>\n",
       "      <td>Gesuch</td>\n",
       "      <td>0</td>\n",
       "      <td>test</td>\n",
       "      <td>bus</td>\n",
       "      <td>2005</td>\n",
       "      <td>NaN</td>\n",
       "      <td>0</td>\n",
       "      <td>transporter</td>\n",
       "      <td>150000</td>\n",
       "      <td>0</td>\n",
       "      <td>NaN</td>\n",
       "      <td>volkswagen</td>\n",
       "      <td>NaN</td>\n",
       "      <td>2016-04-03 00:00:00</td>\n",
       "      <td>0</td>\n",
       "      <td>29690</td>\n",
       "      <td>2016-04-05 15:16:06</td>\n",
       "    </tr>\n",
       "    <tr>\n",
       "      <th>90921</th>\n",
       "      <td>2016-03-27 14:55:45</td>\n",
       "      <td>Suche_einen_originalen_VW_Golf_2_Fire_and_Ice_G60</td>\n",
       "      <td>privat</td>\n",
       "      <td>Gesuch</td>\n",
       "      <td>19999</td>\n",
       "      <td>control</td>\n",
       "      <td>NaN</td>\n",
       "      <td>1990</td>\n",
       "      <td>NaN</td>\n",
       "      <td>0</td>\n",
       "      <td>golf</td>\n",
       "      <td>5000</td>\n",
       "      <td>0</td>\n",
       "      <td>NaN</td>\n",
       "      <td>volkswagen</td>\n",
       "      <td>NaN</td>\n",
       "      <td>2016-03-27 00:00:00</td>\n",
       "      <td>0</td>\n",
       "      <td>50181</td>\n",
       "      <td>2016-04-07 11:45:18</td>\n",
       "    </tr>\n",
       "    <tr>\n",
       "      <th>144154</th>\n",
       "      <td>2016-03-14 18:51:39</td>\n",
       "      <td>[SUCHE]_BMW_e46_Coupe_330ci_M_Paket_Facelift__...</td>\n",
       "      <td>privat</td>\n",
       "      <td>Gesuch</td>\n",
       "      <td>0</td>\n",
       "      <td>test</td>\n",
       "      <td>coupe</td>\n",
       "      <td>2004</td>\n",
       "      <td>manuell</td>\n",
       "      <td>0</td>\n",
       "      <td>3er</td>\n",
       "      <td>150000</td>\n",
       "      <td>1</td>\n",
       "      <td>benzin</td>\n",
       "      <td>bmw</td>\n",
       "      <td>nein</td>\n",
       "      <td>2016-03-14 00:00:00</td>\n",
       "      <td>0</td>\n",
       "      <td>86956</td>\n",
       "      <td>2016-03-25 06:17:06</td>\n",
       "    </tr>\n",
       "    <tr>\n",
       "      <th>150400</th>\n",
       "      <td>2016-03-07 21:37:03</td>\n",
       "      <td>Suche_Mercedes_300D__W124__Silberdistel_metall...</td>\n",
       "      <td>privat</td>\n",
       "      <td>Gesuch</td>\n",
       "      <td>0</td>\n",
       "      <td>control</td>\n",
       "      <td>NaN</td>\n",
       "      <td>1985</td>\n",
       "      <td>NaN</td>\n",
       "      <td>109</td>\n",
       "      <td>e_klasse</td>\n",
       "      <td>150000</td>\n",
       "      <td>0</td>\n",
       "      <td>NaN</td>\n",
       "      <td>mercedes_benz</td>\n",
       "      <td>NaN</td>\n",
       "      <td>2016-03-07 00:00:00</td>\n",
       "      <td>0</td>\n",
       "      <td>68169</td>\n",
       "      <td>2016-03-07 21:37:03</td>\n",
       "    </tr>\n",
       "    <tr>\n",
       "      <th>164788</th>\n",
       "      <td>2016-03-28 15:56:38</td>\n",
       "      <td>Suche_bitte_hilfe</td>\n",
       "      <td>privat</td>\n",
       "      <td>Gesuch</td>\n",
       "      <td>0</td>\n",
       "      <td>control</td>\n",
       "      <td>NaN</td>\n",
       "      <td>2016</td>\n",
       "      <td>manuell</td>\n",
       "      <td>0</td>\n",
       "      <td>astra</td>\n",
       "      <td>20000</td>\n",
       "      <td>2</td>\n",
       "      <td>diesel</td>\n",
       "      <td>opel</td>\n",
       "      <td>nein</td>\n",
       "      <td>2016-03-28 00:00:00</td>\n",
       "      <td>0</td>\n",
       "      <td>26215</td>\n",
       "      <td>2016-03-28 15:56:38</td>\n",
       "    </tr>\n",
       "    <tr>\n",
       "      <th>183716</th>\n",
       "      <td>2016-03-11 10:57:56</td>\n",
       "      <td>Clio_3_Bremsen_vorne_und_hinten_wechseln__EILT!!</td>\n",
       "      <td>privat</td>\n",
       "      <td>Gesuch</td>\n",
       "      <td>0</td>\n",
       "      <td>test</td>\n",
       "      <td>kleinwagen</td>\n",
       "      <td>2005</td>\n",
       "      <td>manuell</td>\n",
       "      <td>0</td>\n",
       "      <td>clio</td>\n",
       "      <td>150000</td>\n",
       "      <td>12</td>\n",
       "      <td>benzin</td>\n",
       "      <td>renault</td>\n",
       "      <td>nein</td>\n",
       "      <td>2016-03-11 00:00:00</td>\n",
       "      <td>0</td>\n",
       "      <td>79423</td>\n",
       "      <td>2016-03-11 23:46:30</td>\n",
       "    </tr>\n",
       "    <tr>\n",
       "      <th>251359</th>\n",
       "      <td>2016-03-21 07:55:59</td>\n",
       "      <td>SZUKAM_taniego_TRANSPORTU_auta_do_Polski</td>\n",
       "      <td>privat</td>\n",
       "      <td>Gesuch</td>\n",
       "      <td>150</td>\n",
       "      <td>control</td>\n",
       "      <td>NaN</td>\n",
       "      <td>2000</td>\n",
       "      <td>NaN</td>\n",
       "      <td>0</td>\n",
       "      <td>NaN</td>\n",
       "      <td>5000</td>\n",
       "      <td>1</td>\n",
       "      <td>NaN</td>\n",
       "      <td>sonstige_autos</td>\n",
       "      <td>NaN</td>\n",
       "      <td>2016-03-21 00:00:00</td>\n",
       "      <td>0</td>\n",
       "      <td>50129</td>\n",
       "      <td>2016-03-22 11:45:33</td>\n",
       "    </tr>\n",
       "    <tr>\n",
       "      <th>285243</th>\n",
       "      <td>2016-03-15 18:55:15</td>\n",
       "      <td>Trabant_gesucht!!!!</td>\n",
       "      <td>privat</td>\n",
       "      <td>Gesuch</td>\n",
       "      <td>2000</td>\n",
       "      <td>control</td>\n",
       "      <td>NaN</td>\n",
       "      <td>1980</td>\n",
       "      <td>NaN</td>\n",
       "      <td>0</td>\n",
       "      <td>andere</td>\n",
       "      <td>50000</td>\n",
       "      <td>0</td>\n",
       "      <td>NaN</td>\n",
       "      <td>trabant</td>\n",
       "      <td>NaN</td>\n",
       "      <td>2016-03-15 00:00:00</td>\n",
       "      <td>0</td>\n",
       "      <td>1609</td>\n",
       "      <td>2016-03-20 16:16:04</td>\n",
       "    </tr>\n",
       "    <tr>\n",
       "      <th>315232</th>\n",
       "      <td>2016-03-28 19:55:44</td>\n",
       "      <td>Ford_Fiesta_2005_mit_Unfallschaden</td>\n",
       "      <td>privat</td>\n",
       "      <td>Gesuch</td>\n",
       "      <td>1550</td>\n",
       "      <td>control</td>\n",
       "      <td>kleinwagen</td>\n",
       "      <td>2005</td>\n",
       "      <td>manuell</td>\n",
       "      <td>90</td>\n",
       "      <td>fiesta</td>\n",
       "      <td>150000</td>\n",
       "      <td>3</td>\n",
       "      <td>diesel</td>\n",
       "      <td>ford</td>\n",
       "      <td>ja</td>\n",
       "      <td>2016-03-28 00:00:00</td>\n",
       "      <td>0</td>\n",
       "      <td>30827</td>\n",
       "      <td>2016-03-28 19:55:44</td>\n",
       "    </tr>\n",
       "    <tr>\n",
       "      <th>327204</th>\n",
       "      <td>2016-03-13 07:52:29</td>\n",
       "      <td>Kaufe_Bastlerfahrzeuge_aller_art.</td>\n",
       "      <td>privat</td>\n",
       "      <td>Gesuch</td>\n",
       "      <td>555</td>\n",
       "      <td>test</td>\n",
       "      <td>NaN</td>\n",
       "      <td>2000</td>\n",
       "      <td>manuell</td>\n",
       "      <td>55</td>\n",
       "      <td>NaN</td>\n",
       "      <td>150000</td>\n",
       "      <td>3</td>\n",
       "      <td>NaN</td>\n",
       "      <td>sonstige_autos</td>\n",
       "      <td>ja</td>\n",
       "      <td>2016-03-13 00:00:00</td>\n",
       "      <td>0</td>\n",
       "      <td>34308</td>\n",
       "      <td>2016-03-25 12:48:34</td>\n",
       "    </tr>\n",
       "    <tr>\n",
       "      <th>357794</th>\n",
       "      <td>2016-03-25 20:50:32</td>\n",
       "      <td>Suche_BMW_e46_M3_Coupé_!_kein_M1_M4_M5_M6</td>\n",
       "      <td>privat</td>\n",
       "      <td>Gesuch</td>\n",
       "      <td>20000</td>\n",
       "      <td>control</td>\n",
       "      <td>NaN</td>\n",
       "      <td>2005</td>\n",
       "      <td>NaN</td>\n",
       "      <td>0</td>\n",
       "      <td>NaN</td>\n",
       "      <td>5000</td>\n",
       "      <td>0</td>\n",
       "      <td>NaN</td>\n",
       "      <td>bmw</td>\n",
       "      <td>NaN</td>\n",
       "      <td>2016-03-25 00:00:00</td>\n",
       "      <td>0</td>\n",
       "      <td>66111</td>\n",
       "      <td>2016-04-07 03:17:44</td>\n",
       "    </tr>\n",
       "    <tr>\n",
       "      <th>360583</th>\n",
       "      <td>2016-03-26 14:42:50</td>\n",
       "      <td>Tausche_oder_verkaufe_Ford_Galaxy_2_3_Liter_Be...</td>\n",
       "      <td>privat</td>\n",
       "      <td>Gesuch</td>\n",
       "      <td>0</td>\n",
       "      <td>control</td>\n",
       "      <td>bus</td>\n",
       "      <td>1998</td>\n",
       "      <td>manuell</td>\n",
       "      <td>147</td>\n",
       "      <td>galaxy</td>\n",
       "      <td>150000</td>\n",
       "      <td>6</td>\n",
       "      <td>benzin</td>\n",
       "      <td>ford</td>\n",
       "      <td>nein</td>\n",
       "      <td>2016-03-26 00:00:00</td>\n",
       "      <td>0</td>\n",
       "      <td>53819</td>\n",
       "      <td>2016-03-31 09:45:35</td>\n",
       "    </tr>\n",
       "  </tbody>\n",
       "</table>\n",
       "</div>"
      ],
      "text/plain": [
       "                dateCrawled  \\\n",
       "16744   2016-04-03 15:48:33   \n",
       "90921   2016-03-27 14:55:45   \n",
       "144154  2016-03-14 18:51:39   \n",
       "150400  2016-03-07 21:37:03   \n",
       "164788  2016-03-28 15:56:38   \n",
       "183716  2016-03-11 10:57:56   \n",
       "251359  2016-03-21 07:55:59   \n",
       "285243  2016-03-15 18:55:15   \n",
       "315232  2016-03-28 19:55:44   \n",
       "327204  2016-03-13 07:52:29   \n",
       "357794  2016-03-25 20:50:32   \n",
       "360583  2016-03-26 14:42:50   \n",
       "\n",
       "                                                     name  seller offerType  \\\n",
       "16744                                Suche_VW_T5_Multivan  privat    Gesuch   \n",
       "90921   Suche_einen_originalen_VW_Golf_2_Fire_and_Ice_G60  privat    Gesuch   \n",
       "144154  [SUCHE]_BMW_e46_Coupe_330ci_M_Paket_Facelift__...  privat    Gesuch   \n",
       "150400  Suche_Mercedes_300D__W124__Silberdistel_metall...  privat    Gesuch   \n",
       "164788                                  Suche_bitte_hilfe  privat    Gesuch   \n",
       "183716   Clio_3_Bremsen_vorne_und_hinten_wechseln__EILT!!  privat    Gesuch   \n",
       "251359           SZUKAM_taniego_TRANSPORTU_auta_do_Polski  privat    Gesuch   \n",
       "285243                                Trabant_gesucht!!!!  privat    Gesuch   \n",
       "315232                 Ford_Fiesta_2005_mit_Unfallschaden  privat    Gesuch   \n",
       "327204                  Kaufe_Bastlerfahrzeuge_aller_art.  privat    Gesuch   \n",
       "357794          Suche_BMW_e46_M3_Coupé_!_kein_M1_M4_M5_M6  privat    Gesuch   \n",
       "360583  Tausche_oder_verkaufe_Ford_Galaxy_2_3_Liter_Be...  privat    Gesuch   \n",
       "\n",
       "        price   abtest vehicleType  yearOfRegistration  gearbox  powerPS  \\\n",
       "16744       0     test         bus                2005      NaN        0   \n",
       "90921   19999  control         NaN                1990      NaN        0   \n",
       "144154      0     test       coupe                2004  manuell        0   \n",
       "150400      0  control         NaN                1985      NaN      109   \n",
       "164788      0  control         NaN                2016  manuell        0   \n",
       "183716      0     test  kleinwagen                2005  manuell        0   \n",
       "251359    150  control         NaN                2000      NaN        0   \n",
       "285243   2000  control         NaN                1980      NaN        0   \n",
       "315232   1550  control  kleinwagen                2005  manuell       90   \n",
       "327204    555     test         NaN                2000  manuell       55   \n",
       "357794  20000  control         NaN                2005      NaN        0   \n",
       "360583      0  control         bus                1998  manuell      147   \n",
       "\n",
       "              model  kilometer  monthOfRegistration fuelType           brand  \\\n",
       "16744   transporter     150000                    0      NaN      volkswagen   \n",
       "90921          golf       5000                    0      NaN      volkswagen   \n",
       "144154          3er     150000                    1   benzin             bmw   \n",
       "150400     e_klasse     150000                    0      NaN   mercedes_benz   \n",
       "164788        astra      20000                    2   diesel            opel   \n",
       "183716         clio     150000                   12   benzin         renault   \n",
       "251359          NaN       5000                    1      NaN  sonstige_autos   \n",
       "285243       andere      50000                    0      NaN         trabant   \n",
       "315232       fiesta     150000                    3   diesel            ford   \n",
       "327204          NaN     150000                    3      NaN  sonstige_autos   \n",
       "357794          NaN       5000                    0      NaN             bmw   \n",
       "360583       galaxy     150000                    6   benzin            ford   \n",
       "\n",
       "       notRepairedDamage          dateCreated  nrOfPictures  postalCode  \\\n",
       "16744                NaN  2016-04-03 00:00:00             0       29690   \n",
       "90921                NaN  2016-03-27 00:00:00             0       50181   \n",
       "144154              nein  2016-03-14 00:00:00             0       86956   \n",
       "150400               NaN  2016-03-07 00:00:00             0       68169   \n",
       "164788              nein  2016-03-28 00:00:00             0       26215   \n",
       "183716              nein  2016-03-11 00:00:00             0       79423   \n",
       "251359               NaN  2016-03-21 00:00:00             0       50129   \n",
       "285243               NaN  2016-03-15 00:00:00             0        1609   \n",
       "315232                ja  2016-03-28 00:00:00             0       30827   \n",
       "327204                ja  2016-03-13 00:00:00             0       34308   \n",
       "357794               NaN  2016-03-25 00:00:00             0       66111   \n",
       "360583              nein  2016-03-26 00:00:00             0       53819   \n",
       "\n",
       "                   lastSeen  \n",
       "16744   2016-04-05 15:16:06  \n",
       "90921   2016-04-07 11:45:18  \n",
       "144154  2016-03-25 06:17:06  \n",
       "150400  2016-03-07 21:37:03  \n",
       "164788  2016-03-28 15:56:38  \n",
       "183716  2016-03-11 23:46:30  \n",
       "251359  2016-03-22 11:45:33  \n",
       "285243  2016-03-20 16:16:04  \n",
       "315232  2016-03-28 19:55:44  \n",
       "327204  2016-03-25 12:48:34  \n",
       "357794  2016-04-07 03:17:44  \n",
       "360583  2016-03-31 09:45:35  "
      ]
     },
     "execution_count": 8,
     "metadata": {},
     "output_type": "execute_result"
    }
   ],
   "source": [
    "car_data[car_data[\"offerType\"] == \"Gesuch\"]"
   ]
  },
  {
   "cell_type": "code",
   "execution_count": 9,
   "metadata": {},
   "outputs": [
    {
     "data": {
      "text/plain": [
       "test       192585\n",
       "control    178943\n",
       "Name: abtest, dtype: int64"
      ]
     },
     "execution_count": 9,
     "metadata": {},
     "output_type": "execute_result"
    }
   ],
   "source": [
    "car_data.abtest.value_counts()"
   ]
  },
  {
   "cell_type": "code",
   "execution_count": 10,
   "metadata": {},
   "outputs": [
    {
     "data": {
      "text/plain": [
       "manuell      274214\n",
       "automatik     77105\n",
       "Name: gearbox, dtype: int64"
      ]
     },
     "execution_count": 10,
     "metadata": {},
     "output_type": "execute_result"
    }
   ],
   "source": [
    "car_data.gearbox.value_counts()"
   ]
  },
  {
   "cell_type": "code",
   "execution_count": 11,
   "metadata": {},
   "outputs": [
    {
     "data": {
      "text/plain": [
       "privat        371525\n",
       "gewerblich         3\n",
       "Name: seller, dtype: int64"
      ]
     },
     "execution_count": 11,
     "metadata": {},
     "output_type": "execute_result"
    }
   ],
   "source": [
    "car_data.seller.value_counts()"
   ]
  },
  {
   "cell_type": "code",
   "execution_count": 12,
   "metadata": {},
   "outputs": [
    {
     "data": {
      "text/plain": [
       "array([0])"
      ]
     },
     "execution_count": 12,
     "metadata": {},
     "output_type": "execute_result"
    }
   ],
   "source": [
    "car_data.nrOfPictures.unique()"
   ]
  },
  {
   "cell_type": "markdown",
   "metadata": {},
   "source": [
    "I will drop the following columns:\n",
    "\n",
    "- dateCrawled and dateCreated: As all the ads are for the same year, I will not further explore price drop for the year or any other correlation of the date with the other features. The main reason is that the price of the used cars does not drop soo drastically within one year and I still have the year of the first registration as a feature which will keep the most important information about the age of the car.\n",
    "- postalCode: Postal code of the region where the car is sold also will not be a subject of my exploration. There might be some difference between Munich and Berlin (for example), but there is no free lunch and for this reason the difference will not be huge.\n",
    "- lastSeen: This feature will also be excluded from my dataset as it will not bring me any important information for the model.\n",
    "- offerType: As shown above, many of the searching ads (not selling ads) are with missing values or not realistic. For this reason I will drop the column offerType, because it contains only one lable - \"Angebot\" = selling ad.\n",
    "- name: Name of the ad will also not be needed for my exploration. Specific words might catch attention and thus increase the interest, but such marketing tricks might be a subject of another analysis.\n",
    "- seller: As shown above, only three of the ads are \"gewerblich\" (business) and all other are \"privat\" (private). For this reason I will remove this feature too.\n",
    "- nr_of_pictures: the only value in this column is 0 and for this reason I will drop this column.\n"
   ]
  },
  {
   "cell_type": "code",
   "execution_count": 13,
   "metadata": {},
   "outputs": [],
   "source": [
    "car_data = car_data.drop([\"dateCrawled\", \"dateCreated\", \"postalCode\", \"lastSeen\", \"offerType\", \"name\", \"seller\", \"nrOfPictures\"], axis =1)"
   ]
  },
  {
   "cell_type": "code",
   "execution_count": 14,
   "metadata": {},
   "outputs": [
    {
     "data": {
      "text/html": [
       "<div>\n",
       "<style scoped>\n",
       "    .dataframe tbody tr th:only-of-type {\n",
       "        vertical-align: middle;\n",
       "    }\n",
       "\n",
       "    .dataframe tbody tr th {\n",
       "        vertical-align: top;\n",
       "    }\n",
       "\n",
       "    .dataframe thead th {\n",
       "        text-align: right;\n",
       "    }\n",
       "</style>\n",
       "<table border=\"1\" class=\"dataframe\">\n",
       "  <thead>\n",
       "    <tr style=\"text-align: right;\">\n",
       "      <th></th>\n",
       "      <th>price</th>\n",
       "      <th>abtest</th>\n",
       "      <th>vehicleType</th>\n",
       "      <th>yearOfRegistration</th>\n",
       "      <th>gearbox</th>\n",
       "      <th>powerPS</th>\n",
       "      <th>model</th>\n",
       "      <th>kilometer</th>\n",
       "      <th>monthOfRegistration</th>\n",
       "      <th>fuelType</th>\n",
       "      <th>brand</th>\n",
       "      <th>notRepairedDamage</th>\n",
       "    </tr>\n",
       "  </thead>\n",
       "  <tbody>\n",
       "    <tr>\n",
       "      <th>0</th>\n",
       "      <td>480</td>\n",
       "      <td>test</td>\n",
       "      <td>NaN</td>\n",
       "      <td>1993</td>\n",
       "      <td>manuell</td>\n",
       "      <td>0</td>\n",
       "      <td>golf</td>\n",
       "      <td>150000</td>\n",
       "      <td>0</td>\n",
       "      <td>benzin</td>\n",
       "      <td>volkswagen</td>\n",
       "      <td>NaN</td>\n",
       "    </tr>\n",
       "    <tr>\n",
       "      <th>1</th>\n",
       "      <td>18300</td>\n",
       "      <td>test</td>\n",
       "      <td>coupe</td>\n",
       "      <td>2011</td>\n",
       "      <td>manuell</td>\n",
       "      <td>190</td>\n",
       "      <td>NaN</td>\n",
       "      <td>125000</td>\n",
       "      <td>5</td>\n",
       "      <td>diesel</td>\n",
       "      <td>audi</td>\n",
       "      <td>ja</td>\n",
       "    </tr>\n",
       "    <tr>\n",
       "      <th>2</th>\n",
       "      <td>9800</td>\n",
       "      <td>test</td>\n",
       "      <td>suv</td>\n",
       "      <td>2004</td>\n",
       "      <td>automatik</td>\n",
       "      <td>163</td>\n",
       "      <td>grand</td>\n",
       "      <td>125000</td>\n",
       "      <td>8</td>\n",
       "      <td>diesel</td>\n",
       "      <td>jeep</td>\n",
       "      <td>NaN</td>\n",
       "    </tr>\n",
       "    <tr>\n",
       "      <th>3</th>\n",
       "      <td>1500</td>\n",
       "      <td>test</td>\n",
       "      <td>kleinwagen</td>\n",
       "      <td>2001</td>\n",
       "      <td>manuell</td>\n",
       "      <td>75</td>\n",
       "      <td>golf</td>\n",
       "      <td>150000</td>\n",
       "      <td>6</td>\n",
       "      <td>benzin</td>\n",
       "      <td>volkswagen</td>\n",
       "      <td>nein</td>\n",
       "    </tr>\n",
       "    <tr>\n",
       "      <th>4</th>\n",
       "      <td>3600</td>\n",
       "      <td>test</td>\n",
       "      <td>kleinwagen</td>\n",
       "      <td>2008</td>\n",
       "      <td>manuell</td>\n",
       "      <td>69</td>\n",
       "      <td>fabia</td>\n",
       "      <td>90000</td>\n",
       "      <td>7</td>\n",
       "      <td>diesel</td>\n",
       "      <td>skoda</td>\n",
       "      <td>nein</td>\n",
       "    </tr>\n",
       "  </tbody>\n",
       "</table>\n",
       "</div>"
      ],
      "text/plain": [
       "   price abtest vehicleType  yearOfRegistration    gearbox  powerPS  model  \\\n",
       "0    480   test         NaN                1993    manuell        0   golf   \n",
       "1  18300   test       coupe                2011    manuell      190    NaN   \n",
       "2   9800   test         suv                2004  automatik      163  grand   \n",
       "3   1500   test  kleinwagen                2001    manuell       75   golf   \n",
       "4   3600   test  kleinwagen                2008    manuell       69  fabia   \n",
       "\n",
       "   kilometer  monthOfRegistration fuelType       brand notRepairedDamage  \n",
       "0     150000                    0   benzin  volkswagen               NaN  \n",
       "1     125000                    5   diesel        audi                ja  \n",
       "2     125000                    8   diesel        jeep               NaN  \n",
       "3     150000                    6   benzin  volkswagen              nein  \n",
       "4      90000                    7   diesel       skoda              nein  "
      ]
     },
     "execution_count": 14,
     "metadata": {},
     "output_type": "execute_result"
    }
   ],
   "source": [
    "car_data.head()"
   ]
  },
  {
   "cell_type": "markdown",
   "metadata": {},
   "source": [
    "The dataset now looks much bette, but I want to fix some more things:\n",
    "1. I will rename all the columns following the pythonic way.\n",
    "2. In the same time I will sort the columns.\n",
    "3. I will check the shape.\n",
    "4. I will check the data types.\n",
    "5. I will check for NaN values."
   ]
  },
  {
   "cell_type": "code",
   "execution_count": 15,
   "metadata": {},
   "outputs": [],
   "source": [
    "car_data = car_data[[\"brand\", \"model\", \"vehicleType\", \"yearOfRegistration\", \"monthOfRegistration\", \"kilometer\", \"fuelType\", \"powerPS\", \"gearbox\", \"notRepairedDamage\", \"abtest\", \"price\"]]"
   ]
  },
  {
   "cell_type": "code",
   "execution_count": 16,
   "metadata": {},
   "outputs": [],
   "source": [
    "car_data.columns = [\"brand\", \"model\", \"vehicle_type\", \"year_of_registration\", \"month_of_registration\", \"kilometer\", \"fuel_type\", \"power_ps\", \"gearbox\", \"not_repaired_damage\", \"abtest\", \"price\"]"
   ]
  },
  {
   "cell_type": "code",
   "execution_count": 17,
   "metadata": {},
   "outputs": [
    {
     "data": {
      "text/html": [
       "<div>\n",
       "<style scoped>\n",
       "    .dataframe tbody tr th:only-of-type {\n",
       "        vertical-align: middle;\n",
       "    }\n",
       "\n",
       "    .dataframe tbody tr th {\n",
       "        vertical-align: top;\n",
       "    }\n",
       "\n",
       "    .dataframe thead th {\n",
       "        text-align: right;\n",
       "    }\n",
       "</style>\n",
       "<table border=\"1\" class=\"dataframe\">\n",
       "  <thead>\n",
       "    <tr style=\"text-align: right;\">\n",
       "      <th></th>\n",
       "      <th>brand</th>\n",
       "      <th>model</th>\n",
       "      <th>vehicle_type</th>\n",
       "      <th>year_of_registration</th>\n",
       "      <th>month_of_registration</th>\n",
       "      <th>kilometer</th>\n",
       "      <th>fuel_type</th>\n",
       "      <th>power_ps</th>\n",
       "      <th>gearbox</th>\n",
       "      <th>not_repaired_damage</th>\n",
       "      <th>abtest</th>\n",
       "      <th>price</th>\n",
       "    </tr>\n",
       "  </thead>\n",
       "  <tbody>\n",
       "    <tr>\n",
       "      <th>0</th>\n",
       "      <td>volkswagen</td>\n",
       "      <td>golf</td>\n",
       "      <td>NaN</td>\n",
       "      <td>1993</td>\n",
       "      <td>0</td>\n",
       "      <td>150000</td>\n",
       "      <td>benzin</td>\n",
       "      <td>0</td>\n",
       "      <td>manuell</td>\n",
       "      <td>NaN</td>\n",
       "      <td>test</td>\n",
       "      <td>480</td>\n",
       "    </tr>\n",
       "    <tr>\n",
       "      <th>1</th>\n",
       "      <td>audi</td>\n",
       "      <td>NaN</td>\n",
       "      <td>coupe</td>\n",
       "      <td>2011</td>\n",
       "      <td>5</td>\n",
       "      <td>125000</td>\n",
       "      <td>diesel</td>\n",
       "      <td>190</td>\n",
       "      <td>manuell</td>\n",
       "      <td>ja</td>\n",
       "      <td>test</td>\n",
       "      <td>18300</td>\n",
       "    </tr>\n",
       "    <tr>\n",
       "      <th>2</th>\n",
       "      <td>jeep</td>\n",
       "      <td>grand</td>\n",
       "      <td>suv</td>\n",
       "      <td>2004</td>\n",
       "      <td>8</td>\n",
       "      <td>125000</td>\n",
       "      <td>diesel</td>\n",
       "      <td>163</td>\n",
       "      <td>automatik</td>\n",
       "      <td>NaN</td>\n",
       "      <td>test</td>\n",
       "      <td>9800</td>\n",
       "    </tr>\n",
       "    <tr>\n",
       "      <th>3</th>\n",
       "      <td>volkswagen</td>\n",
       "      <td>golf</td>\n",
       "      <td>kleinwagen</td>\n",
       "      <td>2001</td>\n",
       "      <td>6</td>\n",
       "      <td>150000</td>\n",
       "      <td>benzin</td>\n",
       "      <td>75</td>\n",
       "      <td>manuell</td>\n",
       "      <td>nein</td>\n",
       "      <td>test</td>\n",
       "      <td>1500</td>\n",
       "    </tr>\n",
       "    <tr>\n",
       "      <th>4</th>\n",
       "      <td>skoda</td>\n",
       "      <td>fabia</td>\n",
       "      <td>kleinwagen</td>\n",
       "      <td>2008</td>\n",
       "      <td>7</td>\n",
       "      <td>90000</td>\n",
       "      <td>diesel</td>\n",
       "      <td>69</td>\n",
       "      <td>manuell</td>\n",
       "      <td>nein</td>\n",
       "      <td>test</td>\n",
       "      <td>3600</td>\n",
       "    </tr>\n",
       "  </tbody>\n",
       "</table>\n",
       "</div>"
      ],
      "text/plain": [
       "        brand  model vehicle_type  year_of_registration  \\\n",
       "0  volkswagen   golf          NaN                  1993   \n",
       "1        audi    NaN        coupe                  2011   \n",
       "2        jeep  grand          suv                  2004   \n",
       "3  volkswagen   golf   kleinwagen                  2001   \n",
       "4       skoda  fabia   kleinwagen                  2008   \n",
       "\n",
       "   month_of_registration  kilometer fuel_type  power_ps    gearbox  \\\n",
       "0                      0     150000    benzin         0    manuell   \n",
       "1                      5     125000    diesel       190    manuell   \n",
       "2                      8     125000    diesel       163  automatik   \n",
       "3                      6     150000    benzin        75    manuell   \n",
       "4                      7      90000    diesel        69    manuell   \n",
       "\n",
       "  not_repaired_damage abtest  price  \n",
       "0                 NaN   test    480  \n",
       "1                  ja   test  18300  \n",
       "2                 NaN   test   9800  \n",
       "3                nein   test   1500  \n",
       "4                nein   test   3600  "
      ]
     },
     "execution_count": 17,
     "metadata": {},
     "output_type": "execute_result"
    }
   ],
   "source": [
    "car_data.head()"
   ]
  },
  {
   "cell_type": "markdown",
   "metadata": {},
   "source": [
    "*I leave the brand and the model. This might lead to overfitting my data, but I still want to try and if the data gets overfit I will create another model without these features."
   ]
  },
  {
   "cell_type": "code",
   "execution_count": 18,
   "metadata": {},
   "outputs": [
    {
     "data": {
      "text/plain": [
       "(371528, 12)"
      ]
     },
     "execution_count": 18,
     "metadata": {},
     "output_type": "execute_result"
    }
   ],
   "source": [
    "car_data.shape"
   ]
  },
  {
   "cell_type": "code",
   "execution_count": 19,
   "metadata": {},
   "outputs": [
    {
     "data": {
      "text/plain": [
       "brand                    object\n",
       "model                    object\n",
       "vehicle_type             object\n",
       "year_of_registration      int64\n",
       "month_of_registration     int64\n",
       "kilometer                 int64\n",
       "fuel_type                object\n",
       "power_ps                  int64\n",
       "gearbox                  object\n",
       "not_repaired_damage      object\n",
       "abtest                   object\n",
       "price                     int64\n",
       "dtype: object"
      ]
     },
     "execution_count": 19,
     "metadata": {},
     "output_type": "execute_result"
    }
   ],
   "source": [
    "car_data.dtypes"
   ]
  },
  {
   "cell_type": "code",
   "execution_count": 20,
   "metadata": {},
   "outputs": [
    {
     "data": {
      "text/plain": [
       "brand                        0\n",
       "model                    20484\n",
       "vehicle_type             37869\n",
       "year_of_registration         0\n",
       "month_of_registration        0\n",
       "kilometer                    0\n",
       "fuel_type                33386\n",
       "power_ps                     0\n",
       "gearbox                  20209\n",
       "not_repaired_damage      72060\n",
       "abtest                       0\n",
       "price                        0\n",
       "dtype: int64"
      ]
     },
     "execution_count": 20,
     "metadata": {},
     "output_type": "execute_result"
    }
   ],
   "source": [
    "car_data.isna().sum()"
   ]
  },
  {
   "cell_type": "code",
   "execution_count": 21,
   "metadata": {
    "scrolled": true
   },
   "outputs": [
    {
     "data": {
      "text/plain": [
       "brand                     0.000000\n",
       "model                     5.513447\n",
       "vehicle_type             10.192771\n",
       "year_of_registration      0.000000\n",
       "month_of_registration     0.000000\n",
       "kilometer                 0.000000\n",
       "fuel_type                 8.986133\n",
       "power_ps                  0.000000\n",
       "gearbox                   5.439429\n",
       "not_repaired_damage      19.395577\n",
       "abtest                    0.000000\n",
       "price                     0.000000\n",
       "dtype: float64"
      ]
     },
     "execution_count": 21,
     "metadata": {},
     "output_type": "execute_result"
    }
   ],
   "source": [
    "car_data.isna().sum()/len(car_data)*100"
   ]
  },
  {
   "cell_type": "markdown",
   "metadata": {},
   "source": [
    "Data types are OK, but some of the features (like \"gearbox\", \"not_repaired_damage\" and \"fuel_type\") can be transformed to a boolean. This will be done a bit later.\n",
    "The bad new is that there are too many NaN that should be handled somehow.\n",
    "\n",
    "NaN in the feature model can not be filled neither with the mean nor with the median. Filling it manually is also impossible. For this reason I will drop all of them. The same goes for vehicle type. There are many missing values, but in this case this approach is the only way to avoid high bias later."
   ]
  },
  {
   "cell_type": "code",
   "execution_count": 22,
   "metadata": {},
   "outputs": [],
   "source": [
    "car_data = car_data.dropna(subset=[\"model\", \"vehicle_type\"])"
   ]
  },
  {
   "cell_type": "code",
   "execution_count": 23,
   "metadata": {},
   "outputs": [
    {
     "data": {
      "text/plain": [
       "brand                        0\n",
       "model                        0\n",
       "vehicle_type                 0\n",
       "year_of_registration         0\n",
       "month_of_registration        0\n",
       "kilometer                    0\n",
       "fuel_type                12970\n",
       "power_ps                     0\n",
       "gearbox                   8943\n",
       "not_repaired_damage      46667\n",
       "abtest                       0\n",
       "price                        0\n",
       "dtype: int64"
      ]
     },
     "execution_count": 23,
     "metadata": {},
     "output_type": "execute_result"
    }
   ],
   "source": [
    "car_data.isna().sum()"
   ]
  },
  {
   "cell_type": "code",
   "execution_count": 24,
   "metadata": {},
   "outputs": [
    {
     "data": {
      "text/plain": [
       "(320092, 12)"
      ]
     },
     "execution_count": 24,
     "metadata": {},
     "output_type": "execute_result"
    }
   ],
   "source": [
    "car_data.shape"
   ]
  },
  {
   "cell_type": "markdown",
   "metadata": {},
   "source": [
    "It looks a bit better now, but there are still a lot of missing values especially in the not_repaired_damage column. Unfortunately, replacing is not a good approach, because categorizing a damaged car as not damaged will lead to a high bias. For this reason I will drop all observations with missing values in the columns \"not_repaired_damage\" and \"fuel_type\". Then I will check the unique values in the columns \"model\", \"brand\", \"vehicle_type\" and \"power_ps\"."
   ]
  },
  {
   "cell_type": "code",
   "execution_count": 25,
   "metadata": {},
   "outputs": [],
   "source": [
    "car_data = car_data.dropna(subset=[\"fuel_type\", \"not_repaired_damage\"])"
   ]
  },
  {
   "cell_type": "code",
   "execution_count": 26,
   "metadata": {},
   "outputs": [
    {
     "data": {
      "text/plain": [
       "array(['kleinwagen', 'limousine', 'cabrio', 'kombi', 'suv', 'bus',\n",
       "       'coupe', 'andere'], dtype=object)"
      ]
     },
     "execution_count": 26,
     "metadata": {},
     "output_type": "execute_result"
    }
   ],
   "source": [
    "car_data.vehicle_type.unique()"
   ]
  },
  {
   "cell_type": "code",
   "execution_count": 27,
   "metadata": {},
   "outputs": [
    {
     "data": {
      "text/plain": [
       "array(['golf', 'fabia', '3er', '2_reihe', 'andere', '3_reihe', 'passat',\n",
       "       'navara', 'twingo', 'c_max', 'a_klasse', 'scirocco', '5er',\n",
       "       'arosa', 'civic', 'transporter', 'punto', 'e_klasse', 'one',\n",
       "       'clio', '1er', 'b_klasse', 'astra', 'fortwo', 'a8', 'jetta',\n",
       "       'polo', 'fiesta', 'c_klasse', 'micra', 'vito', 'sprinter', '156',\n",
       "       'escort', 'forester', 'scenic', 'a1', 'combo', 'focus', 'tt', 'a6',\n",
       "       'jazz', 'slk', '7er', '80', '147', 'glk', 'meriva', 'z_reihe',\n",
       "       'v40', 'ibiza', 'mustang', 'eos', 'a4', 'touran', 'getz',\n",
       "       'insignia', 'a3', 'megane', 'lupo', 'r19', 'colt', 'corsa',\n",
       "       'vectra', 'berlingo', 'm_klasse', 'tiguan', 'sharan', '6_reihe',\n",
       "       'c4', 'panda', 'up', 'i_reihe', 'ceed', 'kangoo', '5_reihe',\n",
       "       'yeti', 'octavia', 'zafira', 'mii', 'rx_reihe', 'mondeo', '6er',\n",
       "       'fox', 'matiz', 'beetle', 'rio', 'touareg', 'logan', 'omega',\n",
       "       'cuore', 's_max', 'modus', 'a2', 'x_reihe', 'a5', 'galaxy', 'c3',\n",
       "       'viano', 's_klasse', 'avensis', 'sl', 'roomster', 'q5', 'kaefer',\n",
       "       'santa', 'cooper', 'leon', 'sportage', 'caddy', 'clk', 'primera',\n",
       "       '4_reihe', 'espace', 'exeo', 'juke', '1_reihe', 'accord',\n",
       "       'corolla', 'grand', 'phaeton', 'boxster', 'cordoba', 'verso',\n",
       "       'swift', 'rav', 'kuga', 'qashqai', '159', 'picanto', 'superb',\n",
       "       'stilo', 'alhambra', 'laguna', '911', 'ka', 'm_reihe', 'transit',\n",
       "       'roadster', 'ypsilon', 'galant', 'impreza', 'sirion', 'signum',\n",
       "       'crossfire', 'agila', 'duster', 'sorento', 'v50', 'mx_reihe',\n",
       "       '500', 'discovery', 'c_reihe', 'v_klasse', 'yaris', 'c5', 'aygo',\n",
       "       'almera', 'cc', 'bora', 'forfour', '100', 'cl', 'tigra', '300c',\n",
       "       'ptcruiser', 'cr_reihe', 'xc_reihe', 'spark', 'x_type', 'ducato',\n",
       "       's_type', 'x_trail', 'toledo', 'altea', 'voyager', 'carnival',\n",
       "       'v70', 'bravo', 'range_rover', 'carisma', 'antara', 'q7', 'c1',\n",
       "       'kadett', 'citigo', 'jimny', 'cx_reihe', 'cayenne', 'wrangler',\n",
       "       'lybra', 'lancer', 'freelander', 'captiva', 'fusion',\n",
       "       'range_rover_evoque', 'sandero', 'note', 'q3', 'spider', '90',\n",
       "       'defender', 'cherokee', 'seicento', 'clubman', 'legacy', 'pajero',\n",
       "       'c2', 'niva', 's60', '900', 'nubira', 'vivaro', 'lanos', 'tucson',\n",
       "       'g_klasse', 'auris', 'lodgy', '850', 'range_rover_sport', '601',\n",
       "       'justy', 'serie_2', 'calibra', 'charade', 'croma', 'outlander',\n",
       "       'gl', 'doblo', 'amarok', 'musa', '9000', 'kalos', 'v60', '200',\n",
       "       'b_max', 'delta', '145', 'aveo', 'terios', 'move', 'materia',\n",
       "       'kalina', 'samara', 'elefantino', 'i3', 'rangerover', 'serie_3',\n",
       "       'kappa', 'discovery_sport'], dtype=object)"
      ]
     },
     "execution_count": 27,
     "metadata": {},
     "output_type": "execute_result"
    }
   ],
   "source": [
    "car_data.model.unique()"
   ]
  },
  {
   "cell_type": "code",
   "execution_count": 28,
   "metadata": {},
   "outputs": [
    {
     "data": {
      "text/plain": [
       "array(['volkswagen', 'skoda', 'bmw', 'peugeot', 'mazda', 'nissan',\n",
       "       'renault', 'ford', 'mercedes_benz', 'seat', 'honda', 'fiat',\n",
       "       'mini', 'opel', 'smart', 'audi', 'alfa_romeo', 'subaru',\n",
       "       'mitsubishi', 'hyundai', 'volvo', 'lancia', 'porsche', 'citroen',\n",
       "       'toyota', 'kia', 'chevrolet', 'dacia', 'suzuki', 'daihatsu',\n",
       "       'chrysler', 'jaguar', 'rover', 'jeep', 'saab', 'daewoo',\n",
       "       'land_rover', 'trabant', 'lada'], dtype=object)"
      ]
     },
     "execution_count": 28,
     "metadata": {},
     "output_type": "execute_result"
    }
   ],
   "source": [
    "car_data.brand.unique()"
   ]
  },
  {
   "cell_type": "code",
   "execution_count": 29,
   "metadata": {},
   "outputs": [
    {
     "data": {
      "text/plain": [
       "array([   75,    69,   102,   109,    50,   105,   140,   190,   136,\n",
       "         160,   231,   118,   193,    99,    60,   113,     0,   218,\n",
       "         122,   129,    70,    95,   177,   306,    61,   101,   232,\n",
       "         156,    80,    82,   204,   155,   150,    87,    86,   131,\n",
       "         143,   303,   125,   224,   235,   200,   178,   265,   163,\n",
       "          77,   110,   120,    54,   286,   170,   116,   184,    88,\n",
       "          64,   305,   197,   179,    90,   250,   313,    41,    45,\n",
       "          98,   115,   130,   114,   211,    56,   326,   201,   213,\n",
       "         107,   174,   220,   185,    73,   192,    66,    58,    52,\n",
       "         510,   147,    71,    97,    65,   239,   295,    68,   203,\n",
       "         144,   300,   103,    85,   245,   258,   292,   320,    63,\n",
       "          81,   148,   354,    44,   145,   180,   280,   260,   457,\n",
       "         104,   409,   333,   117,   141,    55,   132,   165,   234,\n",
       "         158,    39,   272,    92,   135,   230,    53,   435,    84,\n",
       "         209,   146,    67,   106,   276,   344,   349,   100,   299,\n",
       "          72,   237,   194,   111,   279,    23,   310,   256,   175,\n",
       "          96,   226,   126,   301,   166,   334,    83,   128,   124,\n",
       "         219,   241,   167,   182,    74,   196,   238,   277,  1398,\n",
       "         228,    48,   133,    33,   139,  1799,    79,   243,   252,\n",
       "         340,   121,   222,   315,   198,   450,   233,   387,   347,\n",
       "         172,   137,    94,   212,   476,   314,     7,   173,   370,\n",
       "         290,   188,   207,   385,   205,    78,    89,   186,   108,\n",
       "         325,    76,    43,   420,   953,   171,   142,    91,   199,\n",
       "         112,   152,    57,    59,   367,   298,   240,   208,   408,\n",
       "         275,    46,   127,   400,    26,   176,   514,   161,   284,\n",
       "          40,   603,   307,   268,   355,   487,   416,   273,   507,\n",
       "         223,   255,   151,   123,   154,   149,   500,   266,   345,\n",
       "         480,   360,    34,   242,   162,  1753,   329,   396,    51,\n",
       "         483,   330,   247,   164,   168, 10317,    47,   215,    18,\n",
       "          62,   210,   432,   225,   328,   138,   183,   254,   134,\n",
       "          15,   321,   430,   952,   169,    37,   119,   388,   426,\n",
       "         249,   271,   343,   462,   364,   379,   449,   373,   264,\n",
       "          22,    42,   195,   309,   381,   189,  2729,    21,   587,\n",
       "        1240,   521,  1900,   374,    29,   382,    38,   270,    14,\n",
       "         504,   331,   363,   261,   253, 10520,   549,   376,   377,\n",
       "         227,   421,   311,    27,   585,   551,   579,   415,   217,\n",
       "         350,    20,   751,   530,    11,   581,   352,   157,    25,\n",
       "         394,    12,   560,   181,    35,   555,   405,   296,   495,\n",
       "          49,   515,  1659,     4,   216,   294,     1,   187,   517,\n",
       "         246,     5,   327,    17,  1625,   368,   371,   259,    24,\n",
       "         520,    16,   392,     9,   540,    30,   443,   572,   401,\n",
       "           8,   411,   900,   287,    19,   214,   525,   441,   557,\n",
       "          28,   236,   436,    93,   600,   206,   570, 17322,   335,\n",
       "        1360,   202,  3750,   632,  1062,    10,   159,  1024, 11530,\n",
       "        1796,   721,  1780,   650,   485,   700,   316,  2005,  1800,\n",
       "        1399,   502,   278,   431,   257,   544,   580,   353,   455,\n",
       "         288,   191,   281,   375,  1500,   386,    32,  1001,  1436,\n",
       "        1405,   434,   262,   274,   571,  1288,  1055,   351,   380,\n",
       "         629,  6226,  1115,   341,  1223,  1968,   383,   338,   445,\n",
       "        1920,  4400,     6,  1164,   269,   428, 11635,   304,   390,\n",
       "         348,  1703,  1910,   620,   676,   518,    31,   575,  1403,\n",
       "         489,  5575,   466,   490,   285,   283,  1000,   550,   612,\n",
       "         740,   851,  4700,   319,  1600,   251,  2331,    36,   468,\n",
       "         519,   589,   610,  6006,  5815,   153,  1781,  1506, 15020,\n",
       "        5867,  1598,   317,   506, 17410,   398,  1363,   322,  1054,\n",
       "         318,  1700,   604,   324,   221, 15001,   332,  6045,     2,\n",
       "         365,   425,   702,   453,   680,  6010,   475,   903,  2000,\n",
       "         362,   248,   505,   606,  1521,   601,   308,  1998,   501,\n",
       "        1230,  8259,   748,   545,   871,   909,  1595,   776, 17700,\n",
       "       11011,   672,   407,  1199,   357,  1162, 15033,   339,   289,\n",
       "       16312,   336, 20000,   678,   950,  1021, 11620, 13636,  9710,\n",
       "        2009,  6062,  1275,   481,   244,   399,  1016,  2402,  1362,\n",
       "         359,   645,   907,   625,   366,  1995,  1003,  1432,   424,\n",
       "         999,  2018,  1433,   801,  1701,  1502,  1239,  1160,  1783,\n",
       "         229,  9007,   356,  1149,   850,   704,  2017,  5420,   470,\n",
       "        7511,  1011,  1079,   998,    13,  1100,  1933,   508,   529,\n",
       "       16311,   417,  2200,  1707,  1416,  8500,  1012,   293,   574,\n",
       "        7518,   440,  1004,  2007,  1241,   473,     3])"
      ]
     },
     "execution_count": 29,
     "metadata": {},
     "output_type": "execute_result"
    }
   ],
   "source": [
    "car_data.power_ps.unique()"
   ]
  },
  {
   "cell_type": "markdown",
   "metadata": {},
   "source": [
    "It looks like there are cars with more than 10000 PS which is impossible so I will first look closer at the cars that seem to have to high PS. The same goes for cars that have PS fewer than 20 (for example)."
   ]
  },
  {
   "cell_type": "code",
   "execution_count": 30,
   "metadata": {},
   "outputs": [
    {
     "data": {
      "text/html": [
       "<div>\n",
       "<style scoped>\n",
       "    .dataframe tbody tr th:only-of-type {\n",
       "        vertical-align: middle;\n",
       "    }\n",
       "\n",
       "    .dataframe tbody tr th {\n",
       "        vertical-align: top;\n",
       "    }\n",
       "\n",
       "    .dataframe thead th {\n",
       "        text-align: right;\n",
       "    }\n",
       "</style>\n",
       "<table border=\"1\" class=\"dataframe\">\n",
       "  <thead>\n",
       "    <tr style=\"text-align: right;\">\n",
       "      <th></th>\n",
       "      <th>brand</th>\n",
       "      <th>model</th>\n",
       "      <th>vehicle_type</th>\n",
       "      <th>year_of_registration</th>\n",
       "      <th>month_of_registration</th>\n",
       "      <th>kilometer</th>\n",
       "      <th>fuel_type</th>\n",
       "      <th>power_ps</th>\n",
       "      <th>gearbox</th>\n",
       "      <th>not_repaired_damage</th>\n",
       "      <th>abtest</th>\n",
       "      <th>price</th>\n",
       "    </tr>\n",
       "  </thead>\n",
       "  <tbody>\n",
       "    <tr>\n",
       "      <th>1898</th>\n",
       "      <td>toyota</td>\n",
       "      <td>corolla</td>\n",
       "      <td>kleinwagen</td>\n",
       "      <td>2004</td>\n",
       "      <td>6</td>\n",
       "      <td>5000</td>\n",
       "      <td>benzin</td>\n",
       "      <td>1398</td>\n",
       "      <td>manuell</td>\n",
       "      <td>nein</td>\n",
       "      <td>control</td>\n",
       "      <td>3200</td>\n",
       "    </tr>\n",
       "    <tr>\n",
       "      <th>2199</th>\n",
       "      <td>opel</td>\n",
       "      <td>vectra</td>\n",
       "      <td>limousine</td>\n",
       "      <td>1999</td>\n",
       "      <td>1</td>\n",
       "      <td>150000</td>\n",
       "      <td>benzin</td>\n",
       "      <td>1799</td>\n",
       "      <td>NaN</td>\n",
       "      <td>ja</td>\n",
       "      <td>control</td>\n",
       "      <td>0</td>\n",
       "    </tr>\n",
       "    <tr>\n",
       "      <th>10368</th>\n",
       "      <td>ford</td>\n",
       "      <td>focus</td>\n",
       "      <td>kombi</td>\n",
       "      <td>2003</td>\n",
       "      <td>1</td>\n",
       "      <td>150000</td>\n",
       "      <td>diesel</td>\n",
       "      <td>1753</td>\n",
       "      <td>manuell</td>\n",
       "      <td>ja</td>\n",
       "      <td>test</td>\n",
       "      <td>550</td>\n",
       "    </tr>\n",
       "    <tr>\n",
       "      <th>11577</th>\n",
       "      <td>fiat</td>\n",
       "      <td>andere</td>\n",
       "      <td>limousine</td>\n",
       "      <td>1998</td>\n",
       "      <td>8</td>\n",
       "      <td>150000</td>\n",
       "      <td>benzin</td>\n",
       "      <td>10317</td>\n",
       "      <td>manuell</td>\n",
       "      <td>nein</td>\n",
       "      <td>test</td>\n",
       "      <td>0</td>\n",
       "    </tr>\n",
       "    <tr>\n",
       "      <th>20022</th>\n",
       "      <td>bmw</td>\n",
       "      <td>5er</td>\n",
       "      <td>kombi</td>\n",
       "      <td>2005</td>\n",
       "      <td>7</td>\n",
       "      <td>150000</td>\n",
       "      <td>diesel</td>\n",
       "      <td>2729</td>\n",
       "      <td>automatik</td>\n",
       "      <td>nein</td>\n",
       "      <td>test</td>\n",
       "      <td>9750</td>\n",
       "    </tr>\n",
       "    <tr>\n",
       "      <th>20783</th>\n",
       "      <td>nissan</td>\n",
       "      <td>micra</td>\n",
       "      <td>limousine</td>\n",
       "      <td>2009</td>\n",
       "      <td>3</td>\n",
       "      <td>60000</td>\n",
       "      <td>benzin</td>\n",
       "      <td>1240</td>\n",
       "      <td>manuell</td>\n",
       "      <td>nein</td>\n",
       "      <td>test</td>\n",
       "      <td>3390</td>\n",
       "    </tr>\n",
       "    <tr>\n",
       "      <th>21261</th>\n",
       "      <td>citroen</td>\n",
       "      <td>c5</td>\n",
       "      <td>kombi</td>\n",
       "      <td>2003</td>\n",
       "      <td>9</td>\n",
       "      <td>150000</td>\n",
       "      <td>diesel</td>\n",
       "      <td>1900</td>\n",
       "      <td>manuell</td>\n",
       "      <td>ja</td>\n",
       "      <td>test</td>\n",
       "      <td>2000</td>\n",
       "    </tr>\n",
       "    <tr>\n",
       "      <th>26429</th>\n",
       "      <td>volkswagen</td>\n",
       "      <td>caddy</td>\n",
       "      <td>bus</td>\n",
       "      <td>2009</td>\n",
       "      <td>6</td>\n",
       "      <td>150000</td>\n",
       "      <td>diesel</td>\n",
       "      <td>10520</td>\n",
       "      <td>manuell</td>\n",
       "      <td>nein</td>\n",
       "      <td>control</td>\n",
       "      <td>10900</td>\n",
       "    </tr>\n",
       "    <tr>\n",
       "      <th>34342</th>\n",
       "      <td>chevrolet</td>\n",
       "      <td>andere</td>\n",
       "      <td>bus</td>\n",
       "      <td>1986</td>\n",
       "      <td>12</td>\n",
       "      <td>40000</td>\n",
       "      <td>benzin</td>\n",
       "      <td>1659</td>\n",
       "      <td>automatik</td>\n",
       "      <td>nein</td>\n",
       "      <td>control</td>\n",
       "      <td>9500</td>\n",
       "    </tr>\n",
       "    <tr>\n",
       "      <th>35992</th>\n",
       "      <td>ford</td>\n",
       "      <td>escort</td>\n",
       "      <td>kleinwagen</td>\n",
       "      <td>1995</td>\n",
       "      <td>2</td>\n",
       "      <td>150000</td>\n",
       "      <td>benzin</td>\n",
       "      <td>1625</td>\n",
       "      <td>manuell</td>\n",
       "      <td>ja</td>\n",
       "      <td>test</td>\n",
       "      <td>220</td>\n",
       "    </tr>\n",
       "    <tr>\n",
       "      <th>55501</th>\n",
       "      <td>bmw</td>\n",
       "      <td>x_reihe</td>\n",
       "      <td>suv</td>\n",
       "      <td>2009</td>\n",
       "      <td>2</td>\n",
       "      <td>125000</td>\n",
       "      <td>diesel</td>\n",
       "      <td>17322</td>\n",
       "      <td>automatik</td>\n",
       "      <td>nein</td>\n",
       "      <td>control</td>\n",
       "      <td>23333</td>\n",
       "    </tr>\n",
       "    <tr>\n",
       "      <th>56556</th>\n",
       "      <td>citroen</td>\n",
       "      <td>andere</td>\n",
       "      <td>kleinwagen</td>\n",
       "      <td>2000</td>\n",
       "      <td>1</td>\n",
       "      <td>150000</td>\n",
       "      <td>benzin</td>\n",
       "      <td>1360</td>\n",
       "      <td>manuell</td>\n",
       "      <td>ja</td>\n",
       "      <td>test</td>\n",
       "      <td>550</td>\n",
       "    </tr>\n",
       "    <tr>\n",
       "      <th>57242</th>\n",
       "      <td>volkswagen</td>\n",
       "      <td>polo</td>\n",
       "      <td>kleinwagen</td>\n",
       "      <td>1996</td>\n",
       "      <td>4</td>\n",
       "      <td>125000</td>\n",
       "      <td>benzin</td>\n",
       "      <td>3750</td>\n",
       "      <td>manuell</td>\n",
       "      <td>ja</td>\n",
       "      <td>control</td>\n",
       "      <td>100</td>\n",
       "    </tr>\n",
       "    <tr>\n",
       "      <th>57496</th>\n",
       "      <td>opel</td>\n",
       "      <td>vectra</td>\n",
       "      <td>limousine</td>\n",
       "      <td>2003</td>\n",
       "      <td>1</td>\n",
       "      <td>150000</td>\n",
       "      <td>diesel</td>\n",
       "      <td>1062</td>\n",
       "      <td>automatik</td>\n",
       "      <td>nein</td>\n",
       "      <td>test</td>\n",
       "      <td>2250</td>\n",
       "    </tr>\n",
       "    <tr>\n",
       "      <th>59622</th>\n",
       "      <td>seat</td>\n",
       "      <td>leon</td>\n",
       "      <td>limousine</td>\n",
       "      <td>2007</td>\n",
       "      <td>5</td>\n",
       "      <td>125000</td>\n",
       "      <td>benzin</td>\n",
       "      <td>1024</td>\n",
       "      <td>manuell</td>\n",
       "      <td>nein</td>\n",
       "      <td>test</td>\n",
       "      <td>4900</td>\n",
       "    </tr>\n",
       "    <tr>\n",
       "      <th>59735</th>\n",
       "      <td>ford</td>\n",
       "      <td>focus</td>\n",
       "      <td>kombi</td>\n",
       "      <td>2002</td>\n",
       "      <td>1</td>\n",
       "      <td>150000</td>\n",
       "      <td>benzin</td>\n",
       "      <td>11530</td>\n",
       "      <td>manuell</td>\n",
       "      <td>nein</td>\n",
       "      <td>test</td>\n",
       "      <td>1995</td>\n",
       "    </tr>\n",
       "    <tr>\n",
       "      <th>59989</th>\n",
       "      <td>mercedes_benz</td>\n",
       "      <td>c_klasse</td>\n",
       "      <td>kombi</td>\n",
       "      <td>2003</td>\n",
       "      <td>12</td>\n",
       "      <td>150000</td>\n",
       "      <td>benzin</td>\n",
       "      <td>1796</td>\n",
       "      <td>manuell</td>\n",
       "      <td>nein</td>\n",
       "      <td>control</td>\n",
       "      <td>3990</td>\n",
       "    </tr>\n",
       "    <tr>\n",
       "      <th>65721</th>\n",
       "      <td>citroen</td>\n",
       "      <td>berlingo</td>\n",
       "      <td>kombi</td>\n",
       "      <td>2002</td>\n",
       "      <td>6</td>\n",
       "      <td>150000</td>\n",
       "      <td>benzin</td>\n",
       "      <td>1780</td>\n",
       "      <td>manuell</td>\n",
       "      <td>nein</td>\n",
       "      <td>test</td>\n",
       "      <td>800</td>\n",
       "    </tr>\n",
       "    <tr>\n",
       "      <th>67980</th>\n",
       "      <td>mercedes_benz</td>\n",
       "      <td>sprinter</td>\n",
       "      <td>kombi</td>\n",
       "      <td>2008</td>\n",
       "      <td>1</td>\n",
       "      <td>150000</td>\n",
       "      <td>diesel</td>\n",
       "      <td>2005</td>\n",
       "      <td>manuell</td>\n",
       "      <td>nein</td>\n",
       "      <td>test</td>\n",
       "      <td>10000</td>\n",
       "    </tr>\n",
       "    <tr>\n",
       "      <th>68316</th>\n",
       "      <td>opel</td>\n",
       "      <td>vectra</td>\n",
       "      <td>kleinwagen</td>\n",
       "      <td>2000</td>\n",
       "      <td>7</td>\n",
       "      <td>150000</td>\n",
       "      <td>benzin</td>\n",
       "      <td>1800</td>\n",
       "      <td>automatik</td>\n",
       "      <td>nein</td>\n",
       "      <td>test</td>\n",
       "      <td>1450</td>\n",
       "    </tr>\n",
       "    <tr>\n",
       "      <th>68596</th>\n",
       "      <td>kia</td>\n",
       "      <td>rio</td>\n",
       "      <td>kleinwagen</td>\n",
       "      <td>2005</td>\n",
       "      <td>12</td>\n",
       "      <td>70000</td>\n",
       "      <td>benzin</td>\n",
       "      <td>1399</td>\n",
       "      <td>manuell</td>\n",
       "      <td>nein</td>\n",
       "      <td>control</td>\n",
       "      <td>3700</td>\n",
       "    </tr>\n",
       "    <tr>\n",
       "      <th>81867</th>\n",
       "      <td>bmw</td>\n",
       "      <td>3er</td>\n",
       "      <td>kombi</td>\n",
       "      <td>2004</td>\n",
       "      <td>12</td>\n",
       "      <td>150000</td>\n",
       "      <td>diesel</td>\n",
       "      <td>1500</td>\n",
       "      <td>automatik</td>\n",
       "      <td>nein</td>\n",
       "      <td>test</td>\n",
       "      <td>4700</td>\n",
       "    </tr>\n",
       "    <tr>\n",
       "      <th>83188</th>\n",
       "      <td>mercedes_benz</td>\n",
       "      <td>a_klasse</td>\n",
       "      <td>kleinwagen</td>\n",
       "      <td>2000</td>\n",
       "      <td>3</td>\n",
       "      <td>150000</td>\n",
       "      <td>benzin</td>\n",
       "      <td>1001</td>\n",
       "      <td>automatik</td>\n",
       "      <td>nein</td>\n",
       "      <td>control</td>\n",
       "      <td>1650</td>\n",
       "    </tr>\n",
       "    <tr>\n",
       "      <th>84632</th>\n",
       "      <td>bmw</td>\n",
       "      <td>3er</td>\n",
       "      <td>kombi</td>\n",
       "      <td>2004</td>\n",
       "      <td>7</td>\n",
       "      <td>125000</td>\n",
       "      <td>benzin</td>\n",
       "      <td>1436</td>\n",
       "      <td>manuell</td>\n",
       "      <td>nein</td>\n",
       "      <td>control</td>\n",
       "      <td>6700</td>\n",
       "    </tr>\n",
       "    <tr>\n",
       "      <th>85623</th>\n",
       "      <td>volkswagen</td>\n",
       "      <td>passat</td>\n",
       "      <td>kombi</td>\n",
       "      <td>2006</td>\n",
       "      <td>1</td>\n",
       "      <td>150000</td>\n",
       "      <td>diesel</td>\n",
       "      <td>1405</td>\n",
       "      <td>manuell</td>\n",
       "      <td>nein</td>\n",
       "      <td>control</td>\n",
       "      <td>5400</td>\n",
       "    </tr>\n",
       "    <tr>\n",
       "      <th>88328</th>\n",
       "      <td>mercedes_benz</td>\n",
       "      <td>c_klasse</td>\n",
       "      <td>limousine</td>\n",
       "      <td>2013</td>\n",
       "      <td>11</td>\n",
       "      <td>90000</td>\n",
       "      <td>diesel</td>\n",
       "      <td>1288</td>\n",
       "      <td>manuell</td>\n",
       "      <td>nein</td>\n",
       "      <td>test</td>\n",
       "      <td>18550</td>\n",
       "    </tr>\n",
       "    <tr>\n",
       "      <th>88809</th>\n",
       "      <td>opel</td>\n",
       "      <td>astra</td>\n",
       "      <td>kombi</td>\n",
       "      <td>2007</td>\n",
       "      <td>8</td>\n",
       "      <td>125000</td>\n",
       "      <td>benzin</td>\n",
       "      <td>1055</td>\n",
       "      <td>manuell</td>\n",
       "      <td>nein</td>\n",
       "      <td>control</td>\n",
       "      <td>5000</td>\n",
       "    </tr>\n",
       "    <tr>\n",
       "      <th>92107</th>\n",
       "      <td>smart</td>\n",
       "      <td>fortwo</td>\n",
       "      <td>kleinwagen</td>\n",
       "      <td>2004</td>\n",
       "      <td>5</td>\n",
       "      <td>125000</td>\n",
       "      <td>benzin</td>\n",
       "      <td>6226</td>\n",
       "      <td>automatik</td>\n",
       "      <td>nein</td>\n",
       "      <td>control</td>\n",
       "      <td>2550</td>\n",
       "    </tr>\n",
       "    <tr>\n",
       "      <th>92303</th>\n",
       "      <td>mazda</td>\n",
       "      <td>6_reihe</td>\n",
       "      <td>limousine</td>\n",
       "      <td>1999</td>\n",
       "      <td>6</td>\n",
       "      <td>150000</td>\n",
       "      <td>benzin</td>\n",
       "      <td>1115</td>\n",
       "      <td>manuell</td>\n",
       "      <td>nein</td>\n",
       "      <td>test</td>\n",
       "      <td>1000</td>\n",
       "    </tr>\n",
       "    <tr>\n",
       "      <th>96055</th>\n",
       "      <td>bmw</td>\n",
       "      <td>1er</td>\n",
       "      <td>limousine</td>\n",
       "      <td>2006</td>\n",
       "      <td>9</td>\n",
       "      <td>150000</td>\n",
       "      <td>diesel</td>\n",
       "      <td>1223</td>\n",
       "      <td>manuell</td>\n",
       "      <td>ja</td>\n",
       "      <td>control</td>\n",
       "      <td>3800</td>\n",
       "    </tr>\n",
       "    <tr>\n",
       "      <th>...</th>\n",
       "      <td>...</td>\n",
       "      <td>...</td>\n",
       "      <td>...</td>\n",
       "      <td>...</td>\n",
       "      <td>...</td>\n",
       "      <td>...</td>\n",
       "      <td>...</td>\n",
       "      <td>...</td>\n",
       "      <td>...</td>\n",
       "      <td>...</td>\n",
       "      <td>...</td>\n",
       "      <td>...</td>\n",
       "    </tr>\n",
       "    <tr>\n",
       "      <th>280883</th>\n",
       "      <td>renault</td>\n",
       "      <td>twingo</td>\n",
       "      <td>kleinwagen</td>\n",
       "      <td>1994</td>\n",
       "      <td>11</td>\n",
       "      <td>150000</td>\n",
       "      <td>benzin</td>\n",
       "      <td>1239</td>\n",
       "      <td>manuell</td>\n",
       "      <td>nein</td>\n",
       "      <td>test</td>\n",
       "      <td>400</td>\n",
       "    </tr>\n",
       "    <tr>\n",
       "      <th>284209</th>\n",
       "      <td>bmw</td>\n",
       "      <td>3er</td>\n",
       "      <td>limousine</td>\n",
       "      <td>1996</td>\n",
       "      <td>11</td>\n",
       "      <td>125000</td>\n",
       "      <td>benzin</td>\n",
       "      <td>1160</td>\n",
       "      <td>manuell</td>\n",
       "      <td>nein</td>\n",
       "      <td>test</td>\n",
       "      <td>800</td>\n",
       "    </tr>\n",
       "    <tr>\n",
       "      <th>287262</th>\n",
       "      <td>renault</td>\n",
       "      <td>laguna</td>\n",
       "      <td>kombi</td>\n",
       "      <td>2002</td>\n",
       "      <td>2</td>\n",
       "      <td>150000</td>\n",
       "      <td>benzin</td>\n",
       "      <td>1783</td>\n",
       "      <td>manuell</td>\n",
       "      <td>nein</td>\n",
       "      <td>control</td>\n",
       "      <td>777</td>\n",
       "    </tr>\n",
       "    <tr>\n",
       "      <th>287328</th>\n",
       "      <td>volkswagen</td>\n",
       "      <td>transporter</td>\n",
       "      <td>bus</td>\n",
       "      <td>1999</td>\n",
       "      <td>1</td>\n",
       "      <td>150000</td>\n",
       "      <td>diesel</td>\n",
       "      <td>1021</td>\n",
       "      <td>automatik</td>\n",
       "      <td>nein</td>\n",
       "      <td>test</td>\n",
       "      <td>5300</td>\n",
       "    </tr>\n",
       "    <tr>\n",
       "      <th>290631</th>\n",
       "      <td>ford</td>\n",
       "      <td>c_max</td>\n",
       "      <td>bus</td>\n",
       "      <td>2005</td>\n",
       "      <td>2</td>\n",
       "      <td>150000</td>\n",
       "      <td>benzin</td>\n",
       "      <td>9007</td>\n",
       "      <td>manuell</td>\n",
       "      <td>nein</td>\n",
       "      <td>test</td>\n",
       "      <td>2890</td>\n",
       "    </tr>\n",
       "    <tr>\n",
       "      <th>295604</th>\n",
       "      <td>renault</td>\n",
       "      <td>twingo</td>\n",
       "      <td>kleinwagen</td>\n",
       "      <td>2002</td>\n",
       "      <td>9</td>\n",
       "      <td>150000</td>\n",
       "      <td>benzin</td>\n",
       "      <td>1149</td>\n",
       "      <td>manuell</td>\n",
       "      <td>nein</td>\n",
       "      <td>test</td>\n",
       "      <td>1150</td>\n",
       "    </tr>\n",
       "    <tr>\n",
       "      <th>299479</th>\n",
       "      <td>volkswagen</td>\n",
       "      <td>touran</td>\n",
       "      <td>bus</td>\n",
       "      <td>2006</td>\n",
       "      <td>9</td>\n",
       "      <td>150000</td>\n",
       "      <td>diesel</td>\n",
       "      <td>1700</td>\n",
       "      <td>manuell</td>\n",
       "      <td>nein</td>\n",
       "      <td>test</td>\n",
       "      <td>0</td>\n",
       "    </tr>\n",
       "    <tr>\n",
       "      <th>301453</th>\n",
       "      <td>fiat</td>\n",
       "      <td>punto</td>\n",
       "      <td>kleinwagen</td>\n",
       "      <td>2003</td>\n",
       "      <td>0</td>\n",
       "      <td>150000</td>\n",
       "      <td>cng</td>\n",
       "      <td>2017</td>\n",
       "      <td>manuell</td>\n",
       "      <td>nein</td>\n",
       "      <td>test</td>\n",
       "      <td>1250</td>\n",
       "    </tr>\n",
       "    <tr>\n",
       "      <th>304173</th>\n",
       "      <td>opel</td>\n",
       "      <td>corsa</td>\n",
       "      <td>kleinwagen</td>\n",
       "      <td>1997</td>\n",
       "      <td>0</td>\n",
       "      <td>150000</td>\n",
       "      <td>benzin</td>\n",
       "      <td>5420</td>\n",
       "      <td>manuell</td>\n",
       "      <td>nein</td>\n",
       "      <td>test</td>\n",
       "      <td>1000</td>\n",
       "    </tr>\n",
       "    <tr>\n",
       "      <th>311362</th>\n",
       "      <td>renault</td>\n",
       "      <td>kangoo</td>\n",
       "      <td>bus</td>\n",
       "      <td>2001</td>\n",
       "      <td>11</td>\n",
       "      <td>150000</td>\n",
       "      <td>benzin</td>\n",
       "      <td>7511</td>\n",
       "      <td>manuell</td>\n",
       "      <td>nein</td>\n",
       "      <td>control</td>\n",
       "      <td>1150</td>\n",
       "    </tr>\n",
       "    <tr>\n",
       "      <th>311415</th>\n",
       "      <td>volkswagen</td>\n",
       "      <td>golf</td>\n",
       "      <td>limousine</td>\n",
       "      <td>2000</td>\n",
       "      <td>11</td>\n",
       "      <td>150000</td>\n",
       "      <td>benzin</td>\n",
       "      <td>1011</td>\n",
       "      <td>manuell</td>\n",
       "      <td>nein</td>\n",
       "      <td>test</td>\n",
       "      <td>1699</td>\n",
       "    </tr>\n",
       "    <tr>\n",
       "      <th>315263</th>\n",
       "      <td>renault</td>\n",
       "      <td>scenic</td>\n",
       "      <td>andere</td>\n",
       "      <td>2001</td>\n",
       "      <td>4</td>\n",
       "      <td>150000</td>\n",
       "      <td>benzin</td>\n",
       "      <td>1079</td>\n",
       "      <td>manuell</td>\n",
       "      <td>nein</td>\n",
       "      <td>test</td>\n",
       "      <td>1750</td>\n",
       "    </tr>\n",
       "    <tr>\n",
       "      <th>316278</th>\n",
       "      <td>volkswagen</td>\n",
       "      <td>golf</td>\n",
       "      <td>limousine</td>\n",
       "      <td>2006</td>\n",
       "      <td>10</td>\n",
       "      <td>150000</td>\n",
       "      <td>benzin</td>\n",
       "      <td>2000</td>\n",
       "      <td>manuell</td>\n",
       "      <td>nein</td>\n",
       "      <td>test</td>\n",
       "      <td>10500</td>\n",
       "    </tr>\n",
       "    <tr>\n",
       "      <th>321884</th>\n",
       "      <td>opel</td>\n",
       "      <td>zafira</td>\n",
       "      <td>bus</td>\n",
       "      <td>1999</td>\n",
       "      <td>2</td>\n",
       "      <td>20000</td>\n",
       "      <td>benzin</td>\n",
       "      <td>1100</td>\n",
       "      <td>manuell</td>\n",
       "      <td>nein</td>\n",
       "      <td>test</td>\n",
       "      <td>1000</td>\n",
       "    </tr>\n",
       "    <tr>\n",
       "      <th>321958</th>\n",
       "      <td>opel</td>\n",
       "      <td>astra</td>\n",
       "      <td>limousine</td>\n",
       "      <td>1999</td>\n",
       "      <td>6</td>\n",
       "      <td>125000</td>\n",
       "      <td>benzin</td>\n",
       "      <td>1001</td>\n",
       "      <td>manuell</td>\n",
       "      <td>nein</td>\n",
       "      <td>test</td>\n",
       "      <td>1500</td>\n",
       "    </tr>\n",
       "    <tr>\n",
       "      <th>323201</th>\n",
       "      <td>bmw</td>\n",
       "      <td>5er</td>\n",
       "      <td>limousine</td>\n",
       "      <td>2001</td>\n",
       "      <td>2</td>\n",
       "      <td>150000</td>\n",
       "      <td>diesel</td>\n",
       "      <td>1933</td>\n",
       "      <td>automatik</td>\n",
       "      <td>nein</td>\n",
       "      <td>control</td>\n",
       "      <td>3300</td>\n",
       "    </tr>\n",
       "    <tr>\n",
       "      <th>326527</th>\n",
       "      <td>bmw</td>\n",
       "      <td>5er</td>\n",
       "      <td>kombi</td>\n",
       "      <td>2007</td>\n",
       "      <td>10</td>\n",
       "      <td>150000</td>\n",
       "      <td>diesel</td>\n",
       "      <td>16311</td>\n",
       "      <td>automatik</td>\n",
       "      <td>nein</td>\n",
       "      <td>control</td>\n",
       "      <td>11900</td>\n",
       "    </tr>\n",
       "    <tr>\n",
       "      <th>328821</th>\n",
       "      <td>volkswagen</td>\n",
       "      <td>passat</td>\n",
       "      <td>kombi</td>\n",
       "      <td>2003</td>\n",
       "      <td>12</td>\n",
       "      <td>5000</td>\n",
       "      <td>diesel</td>\n",
       "      <td>1998</td>\n",
       "      <td>automatik</td>\n",
       "      <td>nein</td>\n",
       "      <td>control</td>\n",
       "      <td>1250</td>\n",
       "    </tr>\n",
       "    <tr>\n",
       "      <th>338501</th>\n",
       "      <td>mercedes_benz</td>\n",
       "      <td>e_klasse</td>\n",
       "      <td>limousine</td>\n",
       "      <td>2006</td>\n",
       "      <td>12</td>\n",
       "      <td>150000</td>\n",
       "      <td>diesel</td>\n",
       "      <td>2200</td>\n",
       "      <td>manuell</td>\n",
       "      <td>nein</td>\n",
       "      <td>test</td>\n",
       "      <td>0</td>\n",
       "    </tr>\n",
       "    <tr>\n",
       "      <th>339626</th>\n",
       "      <td>mini</td>\n",
       "      <td>cooper</td>\n",
       "      <td>coupe</td>\n",
       "      <td>2004</td>\n",
       "      <td>7</td>\n",
       "      <td>150000</td>\n",
       "      <td>benzin</td>\n",
       "      <td>1707</td>\n",
       "      <td>manuell</td>\n",
       "      <td>nein</td>\n",
       "      <td>control</td>\n",
       "      <td>7499</td>\n",
       "    </tr>\n",
       "    <tr>\n",
       "      <th>339814</th>\n",
       "      <td>nissan</td>\n",
       "      <td>x_trail</td>\n",
       "      <td>suv</td>\n",
       "      <td>2008</td>\n",
       "      <td>3</td>\n",
       "      <td>150000</td>\n",
       "      <td>benzin</td>\n",
       "      <td>1416</td>\n",
       "      <td>manuell</td>\n",
       "      <td>nein</td>\n",
       "      <td>control</td>\n",
       "      <td>6700</td>\n",
       "    </tr>\n",
       "    <tr>\n",
       "      <th>343150</th>\n",
       "      <td>mercedes_benz</td>\n",
       "      <td>c_klasse</td>\n",
       "      <td>kombi</td>\n",
       "      <td>2008</td>\n",
       "      <td>8</td>\n",
       "      <td>150000</td>\n",
       "      <td>diesel</td>\n",
       "      <td>1700</td>\n",
       "      <td>manuell</td>\n",
       "      <td>nein</td>\n",
       "      <td>test</td>\n",
       "      <td>12000</td>\n",
       "    </tr>\n",
       "    <tr>\n",
       "      <th>344841</th>\n",
       "      <td>opel</td>\n",
       "      <td>corsa</td>\n",
       "      <td>kleinwagen</td>\n",
       "      <td>2000</td>\n",
       "      <td>3</td>\n",
       "      <td>150000</td>\n",
       "      <td>benzin</td>\n",
       "      <td>8500</td>\n",
       "      <td>manuell</td>\n",
       "      <td>nein</td>\n",
       "      <td>control</td>\n",
       "      <td>850</td>\n",
       "    </tr>\n",
       "    <tr>\n",
       "      <th>351721</th>\n",
       "      <td>volkswagen</td>\n",
       "      <td>passat</td>\n",
       "      <td>kombi</td>\n",
       "      <td>1997</td>\n",
       "      <td>11</td>\n",
       "      <td>150000</td>\n",
       "      <td>benzin</td>\n",
       "      <td>1012</td>\n",
       "      <td>manuell</td>\n",
       "      <td>nein</td>\n",
       "      <td>test</td>\n",
       "      <td>1444</td>\n",
       "    </tr>\n",
       "    <tr>\n",
       "      <th>354482</th>\n",
       "      <td>opel</td>\n",
       "      <td>astra</td>\n",
       "      <td>limousine</td>\n",
       "      <td>1995</td>\n",
       "      <td>9</td>\n",
       "      <td>150000</td>\n",
       "      <td>benzin</td>\n",
       "      <td>1598</td>\n",
       "      <td>manuell</td>\n",
       "      <td>ja</td>\n",
       "      <td>test</td>\n",
       "      <td>250</td>\n",
       "    </tr>\n",
       "    <tr>\n",
       "      <th>357890</th>\n",
       "      <td>citroen</td>\n",
       "      <td>berlingo</td>\n",
       "      <td>andere</td>\n",
       "      <td>2006</td>\n",
       "      <td>11</td>\n",
       "      <td>125000</td>\n",
       "      <td>benzin</td>\n",
       "      <td>7518</td>\n",
       "      <td>manuell</td>\n",
       "      <td>ja</td>\n",
       "      <td>test</td>\n",
       "      <td>1899</td>\n",
       "    </tr>\n",
       "    <tr>\n",
       "      <th>363852</th>\n",
       "      <td>opel</td>\n",
       "      <td>vectra</td>\n",
       "      <td>limousine</td>\n",
       "      <td>1996</td>\n",
       "      <td>5</td>\n",
       "      <td>80000</td>\n",
       "      <td>benzin</td>\n",
       "      <td>1004</td>\n",
       "      <td>automatik</td>\n",
       "      <td>ja</td>\n",
       "      <td>control</td>\n",
       "      <td>450</td>\n",
       "    </tr>\n",
       "    <tr>\n",
       "      <th>365133</th>\n",
       "      <td>opel</td>\n",
       "      <td>corsa</td>\n",
       "      <td>coupe</td>\n",
       "      <td>2007</td>\n",
       "      <td>3</td>\n",
       "      <td>150000</td>\n",
       "      <td>diesel</td>\n",
       "      <td>2007</td>\n",
       "      <td>manuell</td>\n",
       "      <td>ja</td>\n",
       "      <td>control</td>\n",
       "      <td>3000</td>\n",
       "    </tr>\n",
       "    <tr>\n",
       "      <th>365894</th>\n",
       "      <td>lancia</td>\n",
       "      <td>ypsilon</td>\n",
       "      <td>kleinwagen</td>\n",
       "      <td>1999</td>\n",
       "      <td>5</td>\n",
       "      <td>150000</td>\n",
       "      <td>benzin</td>\n",
       "      <td>1241</td>\n",
       "      <td>manuell</td>\n",
       "      <td>ja</td>\n",
       "      <td>test</td>\n",
       "      <td>250</td>\n",
       "    </tr>\n",
       "    <tr>\n",
       "      <th>369007</th>\n",
       "      <td>opel</td>\n",
       "      <td>zafira</td>\n",
       "      <td>bus</td>\n",
       "      <td>2001</td>\n",
       "      <td>7</td>\n",
       "      <td>5000</td>\n",
       "      <td>diesel</td>\n",
       "      <td>1001</td>\n",
       "      <td>manuell</td>\n",
       "      <td>nein</td>\n",
       "      <td>control</td>\n",
       "      <td>1500</td>\n",
       "    </tr>\n",
       "  </tbody>\n",
       "</table>\n",
       "<p>133 rows × 12 columns</p>\n",
       "</div>"
      ],
      "text/plain": [
       "                brand        model vehicle_type  year_of_registration  \\\n",
       "1898           toyota      corolla   kleinwagen                  2004   \n",
       "2199             opel       vectra    limousine                  1999   \n",
       "10368            ford        focus        kombi                  2003   \n",
       "11577            fiat       andere    limousine                  1998   \n",
       "20022             bmw          5er        kombi                  2005   \n",
       "20783          nissan        micra    limousine                  2009   \n",
       "21261         citroen           c5        kombi                  2003   \n",
       "26429      volkswagen        caddy          bus                  2009   \n",
       "34342       chevrolet       andere          bus                  1986   \n",
       "35992            ford       escort   kleinwagen                  1995   \n",
       "55501             bmw      x_reihe          suv                  2009   \n",
       "56556         citroen       andere   kleinwagen                  2000   \n",
       "57242      volkswagen         polo   kleinwagen                  1996   \n",
       "57496            opel       vectra    limousine                  2003   \n",
       "59622            seat         leon    limousine                  2007   \n",
       "59735            ford        focus        kombi                  2002   \n",
       "59989   mercedes_benz     c_klasse        kombi                  2003   \n",
       "65721         citroen     berlingo        kombi                  2002   \n",
       "67980   mercedes_benz     sprinter        kombi                  2008   \n",
       "68316            opel       vectra   kleinwagen                  2000   \n",
       "68596             kia          rio   kleinwagen                  2005   \n",
       "81867             bmw          3er        kombi                  2004   \n",
       "83188   mercedes_benz     a_klasse   kleinwagen                  2000   \n",
       "84632             bmw          3er        kombi                  2004   \n",
       "85623      volkswagen       passat        kombi                  2006   \n",
       "88328   mercedes_benz     c_klasse    limousine                  2013   \n",
       "88809            opel        astra        kombi                  2007   \n",
       "92107           smart       fortwo   kleinwagen                  2004   \n",
       "92303           mazda      6_reihe    limousine                  1999   \n",
       "96055             bmw          1er    limousine                  2006   \n",
       "...               ...          ...          ...                   ...   \n",
       "280883        renault       twingo   kleinwagen                  1994   \n",
       "284209            bmw          3er    limousine                  1996   \n",
       "287262        renault       laguna        kombi                  2002   \n",
       "287328     volkswagen  transporter          bus                  1999   \n",
       "290631           ford        c_max          bus                  2005   \n",
       "295604        renault       twingo   kleinwagen                  2002   \n",
       "299479     volkswagen       touran          bus                  2006   \n",
       "301453           fiat        punto   kleinwagen                  2003   \n",
       "304173           opel        corsa   kleinwagen                  1997   \n",
       "311362        renault       kangoo          bus                  2001   \n",
       "311415     volkswagen         golf    limousine                  2000   \n",
       "315263        renault       scenic       andere                  2001   \n",
       "316278     volkswagen         golf    limousine                  2006   \n",
       "321884           opel       zafira          bus                  1999   \n",
       "321958           opel        astra    limousine                  1999   \n",
       "323201            bmw          5er    limousine                  2001   \n",
       "326527            bmw          5er        kombi                  2007   \n",
       "328821     volkswagen       passat        kombi                  2003   \n",
       "338501  mercedes_benz     e_klasse    limousine                  2006   \n",
       "339626           mini       cooper        coupe                  2004   \n",
       "339814         nissan      x_trail          suv                  2008   \n",
       "343150  mercedes_benz     c_klasse        kombi                  2008   \n",
       "344841           opel        corsa   kleinwagen                  2000   \n",
       "351721     volkswagen       passat        kombi                  1997   \n",
       "354482           opel        astra    limousine                  1995   \n",
       "357890        citroen     berlingo       andere                  2006   \n",
       "363852           opel       vectra    limousine                  1996   \n",
       "365133           opel        corsa        coupe                  2007   \n",
       "365894         lancia      ypsilon   kleinwagen                  1999   \n",
       "369007           opel       zafira          bus                  2001   \n",
       "\n",
       "        month_of_registration  kilometer fuel_type  power_ps    gearbox  \\\n",
       "1898                        6       5000    benzin      1398    manuell   \n",
       "2199                        1     150000    benzin      1799        NaN   \n",
       "10368                       1     150000    diesel      1753    manuell   \n",
       "11577                       8     150000    benzin     10317    manuell   \n",
       "20022                       7     150000    diesel      2729  automatik   \n",
       "20783                       3      60000    benzin      1240    manuell   \n",
       "21261                       9     150000    diesel      1900    manuell   \n",
       "26429                       6     150000    diesel     10520    manuell   \n",
       "34342                      12      40000    benzin      1659  automatik   \n",
       "35992                       2     150000    benzin      1625    manuell   \n",
       "55501                       2     125000    diesel     17322  automatik   \n",
       "56556                       1     150000    benzin      1360    manuell   \n",
       "57242                       4     125000    benzin      3750    manuell   \n",
       "57496                       1     150000    diesel      1062  automatik   \n",
       "59622                       5     125000    benzin      1024    manuell   \n",
       "59735                       1     150000    benzin     11530    manuell   \n",
       "59989                      12     150000    benzin      1796    manuell   \n",
       "65721                       6     150000    benzin      1780    manuell   \n",
       "67980                       1     150000    diesel      2005    manuell   \n",
       "68316                       7     150000    benzin      1800  automatik   \n",
       "68596                      12      70000    benzin      1399    manuell   \n",
       "81867                      12     150000    diesel      1500  automatik   \n",
       "83188                       3     150000    benzin      1001  automatik   \n",
       "84632                       7     125000    benzin      1436    manuell   \n",
       "85623                       1     150000    diesel      1405    manuell   \n",
       "88328                      11      90000    diesel      1288    manuell   \n",
       "88809                       8     125000    benzin      1055    manuell   \n",
       "92107                       5     125000    benzin      6226  automatik   \n",
       "92303                       6     150000    benzin      1115    manuell   \n",
       "96055                       9     150000    diesel      1223    manuell   \n",
       "...                       ...        ...       ...       ...        ...   \n",
       "280883                     11     150000    benzin      1239    manuell   \n",
       "284209                     11     125000    benzin      1160    manuell   \n",
       "287262                      2     150000    benzin      1783    manuell   \n",
       "287328                      1     150000    diesel      1021  automatik   \n",
       "290631                      2     150000    benzin      9007    manuell   \n",
       "295604                      9     150000    benzin      1149    manuell   \n",
       "299479                      9     150000    diesel      1700    manuell   \n",
       "301453                      0     150000       cng      2017    manuell   \n",
       "304173                      0     150000    benzin      5420    manuell   \n",
       "311362                     11     150000    benzin      7511    manuell   \n",
       "311415                     11     150000    benzin      1011    manuell   \n",
       "315263                      4     150000    benzin      1079    manuell   \n",
       "316278                     10     150000    benzin      2000    manuell   \n",
       "321884                      2      20000    benzin      1100    manuell   \n",
       "321958                      6     125000    benzin      1001    manuell   \n",
       "323201                      2     150000    diesel      1933  automatik   \n",
       "326527                     10     150000    diesel     16311  automatik   \n",
       "328821                     12       5000    diesel      1998  automatik   \n",
       "338501                     12     150000    diesel      2200    manuell   \n",
       "339626                      7     150000    benzin      1707    manuell   \n",
       "339814                      3     150000    benzin      1416    manuell   \n",
       "343150                      8     150000    diesel      1700    manuell   \n",
       "344841                      3     150000    benzin      8500    manuell   \n",
       "351721                     11     150000    benzin      1012    manuell   \n",
       "354482                      9     150000    benzin      1598    manuell   \n",
       "357890                     11     125000    benzin      7518    manuell   \n",
       "363852                      5      80000    benzin      1004  automatik   \n",
       "365133                      3     150000    diesel      2007    manuell   \n",
       "365894                      5     150000    benzin      1241    manuell   \n",
       "369007                      7       5000    diesel      1001    manuell   \n",
       "\n",
       "       not_repaired_damage   abtest  price  \n",
       "1898                  nein  control   3200  \n",
       "2199                    ja  control      0  \n",
       "10368                   ja     test    550  \n",
       "11577                 nein     test      0  \n",
       "20022                 nein     test   9750  \n",
       "20783                 nein     test   3390  \n",
       "21261                   ja     test   2000  \n",
       "26429                 nein  control  10900  \n",
       "34342                 nein  control   9500  \n",
       "35992                   ja     test    220  \n",
       "55501                 nein  control  23333  \n",
       "56556                   ja     test    550  \n",
       "57242                   ja  control    100  \n",
       "57496                 nein     test   2250  \n",
       "59622                 nein     test   4900  \n",
       "59735                 nein     test   1995  \n",
       "59989                 nein  control   3990  \n",
       "65721                 nein     test    800  \n",
       "67980                 nein     test  10000  \n",
       "68316                 nein     test   1450  \n",
       "68596                 nein  control   3700  \n",
       "81867                 nein     test   4700  \n",
       "83188                 nein  control   1650  \n",
       "84632                 nein  control   6700  \n",
       "85623                 nein  control   5400  \n",
       "88328                 nein     test  18550  \n",
       "88809                 nein  control   5000  \n",
       "92107                 nein  control   2550  \n",
       "92303                 nein     test   1000  \n",
       "96055                   ja  control   3800  \n",
       "...                    ...      ...    ...  \n",
       "280883                nein     test    400  \n",
       "284209                nein     test    800  \n",
       "287262                nein  control    777  \n",
       "287328                nein     test   5300  \n",
       "290631                nein     test   2890  \n",
       "295604                nein     test   1150  \n",
       "299479                nein     test      0  \n",
       "301453                nein     test   1250  \n",
       "304173                nein     test   1000  \n",
       "311362                nein  control   1150  \n",
       "311415                nein     test   1699  \n",
       "315263                nein     test   1750  \n",
       "316278                nein     test  10500  \n",
       "321884                nein     test   1000  \n",
       "321958                nein     test   1500  \n",
       "323201                nein  control   3300  \n",
       "326527                nein  control  11900  \n",
       "328821                nein  control   1250  \n",
       "338501                nein     test      0  \n",
       "339626                nein  control   7499  \n",
       "339814                nein  control   6700  \n",
       "343150                nein     test  12000  \n",
       "344841                nein  control    850  \n",
       "351721                nein     test   1444  \n",
       "354482                  ja     test    250  \n",
       "357890                  ja     test   1899  \n",
       "363852                  ja  control    450  \n",
       "365133                  ja  control   3000  \n",
       "365894                  ja     test    250  \n",
       "369007                nein  control   1500  \n",
       "\n",
       "[133 rows x 12 columns]"
      ]
     },
     "execution_count": 30,
     "metadata": {},
     "output_type": "execute_result"
    }
   ],
   "source": [
    "car_data[car_data[\"power_ps\"]>=1000]"
   ]
  },
  {
   "cell_type": "markdown",
   "metadata": {},
   "source": [
    "133 Observations have more than or equal 1000 PS. However, looking at the brands and the models it looks like this data is not correct. In order to remove those outliears, I will remove them from the dataset. There will still be some observations with incorrect PS power data (in my view), but I will leave them as I can not be sure. I am only sure that cars over 1000 PS cost much more and exist very rarely."
   ]
  },
  {
   "cell_type": "code",
   "execution_count": 31,
   "metadata": {},
   "outputs": [],
   "source": [
    "car_data = car_data[car_data[\"power_ps\"]<1000]"
   ]
  },
  {
   "cell_type": "code",
   "execution_count": 32,
   "metadata": {},
   "outputs": [],
   "source": [
    "mean_power_ps = car_data.power_ps.mean()"
   ]
  },
  {
   "cell_type": "code",
   "execution_count": 33,
   "metadata": {},
   "outputs": [
    {
     "data": {
      "text/html": [
       "<div>\n",
       "<style scoped>\n",
       "    .dataframe tbody tr th:only-of-type {\n",
       "        vertical-align: middle;\n",
       "    }\n",
       "\n",
       "    .dataframe tbody tr th {\n",
       "        vertical-align: top;\n",
       "    }\n",
       "\n",
       "    .dataframe thead th {\n",
       "        text-align: right;\n",
       "    }\n",
       "</style>\n",
       "<table border=\"1\" class=\"dataframe\">\n",
       "  <thead>\n",
       "    <tr style=\"text-align: right;\">\n",
       "      <th></th>\n",
       "      <th>brand</th>\n",
       "      <th>model</th>\n",
       "      <th>vehicle_type</th>\n",
       "      <th>year_of_registration</th>\n",
       "      <th>month_of_registration</th>\n",
       "      <th>kilometer</th>\n",
       "      <th>fuel_type</th>\n",
       "      <th>power_ps</th>\n",
       "      <th>gearbox</th>\n",
       "      <th>not_repaired_damage</th>\n",
       "      <th>abtest</th>\n",
       "      <th>price</th>\n",
       "    </tr>\n",
       "  </thead>\n",
       "  <tbody>\n",
       "    <tr>\n",
       "      <th>32</th>\n",
       "      <td>volkswagen</td>\n",
       "      <td>golf</td>\n",
       "      <td>limousine</td>\n",
       "      <td>1994</td>\n",
       "      <td>2</td>\n",
       "      <td>150000</td>\n",
       "      <td>benzin</td>\n",
       "      <td>0</td>\n",
       "      <td>NaN</td>\n",
       "      <td>nein</td>\n",
       "      <td>test</td>\n",
       "      <td>245</td>\n",
       "    </tr>\n",
       "    <tr>\n",
       "      <th>55</th>\n",
       "      <td>opel</td>\n",
       "      <td>astra</td>\n",
       "      <td>kombi</td>\n",
       "      <td>1999</td>\n",
       "      <td>8</td>\n",
       "      <td>150000</td>\n",
       "      <td>diesel</td>\n",
       "      <td>0</td>\n",
       "      <td>manuell</td>\n",
       "      <td>ja</td>\n",
       "      <td>test</td>\n",
       "      <td>550</td>\n",
       "    </tr>\n",
       "    <tr>\n",
       "      <th>71</th>\n",
       "      <td>volkswagen</td>\n",
       "      <td>polo</td>\n",
       "      <td>kleinwagen</td>\n",
       "      <td>1993</td>\n",
       "      <td>3</td>\n",
       "      <td>150000</td>\n",
       "      <td>benzin</td>\n",
       "      <td>0</td>\n",
       "      <td>manuell</td>\n",
       "      <td>nein</td>\n",
       "      <td>control</td>\n",
       "      <td>800</td>\n",
       "    </tr>\n",
       "    <tr>\n",
       "      <th>101</th>\n",
       "      <td>opel</td>\n",
       "      <td>combo</td>\n",
       "      <td>bus</td>\n",
       "      <td>2008</td>\n",
       "      <td>2</td>\n",
       "      <td>150000</td>\n",
       "      <td>diesel</td>\n",
       "      <td>0</td>\n",
       "      <td>manuell</td>\n",
       "      <td>nein</td>\n",
       "      <td>test</td>\n",
       "      <td>4290</td>\n",
       "    </tr>\n",
       "    <tr>\n",
       "      <th>163</th>\n",
       "      <td>volkswagen</td>\n",
       "      <td>golf</td>\n",
       "      <td>limousine</td>\n",
       "      <td>1993</td>\n",
       "      <td>9</td>\n",
       "      <td>10000</td>\n",
       "      <td>benzin</td>\n",
       "      <td>0</td>\n",
       "      <td>manuell</td>\n",
       "      <td>ja</td>\n",
       "      <td>control</td>\n",
       "      <td>800</td>\n",
       "    </tr>\n",
       "    <tr>\n",
       "      <th>171</th>\n",
       "      <td>volvo</td>\n",
       "      <td>v40</td>\n",
       "      <td>kombi</td>\n",
       "      <td>1998</td>\n",
       "      <td>6</td>\n",
       "      <td>150000</td>\n",
       "      <td>benzin</td>\n",
       "      <td>0</td>\n",
       "      <td>manuell</td>\n",
       "      <td>nein</td>\n",
       "      <td>test</td>\n",
       "      <td>300</td>\n",
       "    </tr>\n",
       "    <tr>\n",
       "      <th>203</th>\n",
       "      <td>audi</td>\n",
       "      <td>a3</td>\n",
       "      <td>kombi</td>\n",
       "      <td>2006</td>\n",
       "      <td>11</td>\n",
       "      <td>150000</td>\n",
       "      <td>diesel</td>\n",
       "      <td>0</td>\n",
       "      <td>NaN</td>\n",
       "      <td>nein</td>\n",
       "      <td>control</td>\n",
       "      <td>3200</td>\n",
       "    </tr>\n",
       "    <tr>\n",
       "      <th>208</th>\n",
       "      <td>bmw</td>\n",
       "      <td>7er</td>\n",
       "      <td>limousine</td>\n",
       "      <td>1996</td>\n",
       "      <td>5</td>\n",
       "      <td>150000</td>\n",
       "      <td>benzin</td>\n",
       "      <td>0</td>\n",
       "      <td>automatik</td>\n",
       "      <td>nein</td>\n",
       "      <td>test</td>\n",
       "      <td>1600</td>\n",
       "    </tr>\n",
       "    <tr>\n",
       "      <th>300</th>\n",
       "      <td>volkswagen</td>\n",
       "      <td>sharan</td>\n",
       "      <td>bus</td>\n",
       "      <td>2000</td>\n",
       "      <td>10</td>\n",
       "      <td>150000</td>\n",
       "      <td>diesel</td>\n",
       "      <td>0</td>\n",
       "      <td>manuell</td>\n",
       "      <td>nein</td>\n",
       "      <td>control</td>\n",
       "      <td>3400</td>\n",
       "    </tr>\n",
       "    <tr>\n",
       "      <th>421</th>\n",
       "      <td>peugeot</td>\n",
       "      <td>andere</td>\n",
       "      <td>bus</td>\n",
       "      <td>2000</td>\n",
       "      <td>3</td>\n",
       "      <td>150000</td>\n",
       "      <td>diesel</td>\n",
       "      <td>0</td>\n",
       "      <td>manuell</td>\n",
       "      <td>nein</td>\n",
       "      <td>control</td>\n",
       "      <td>2200</td>\n",
       "    </tr>\n",
       "    <tr>\n",
       "      <th>436</th>\n",
       "      <td>mazda</td>\n",
       "      <td>6_reihe</td>\n",
       "      <td>kombi</td>\n",
       "      <td>1998</td>\n",
       "      <td>0</td>\n",
       "      <td>150000</td>\n",
       "      <td>benzin</td>\n",
       "      <td>0</td>\n",
       "      <td>manuell</td>\n",
       "      <td>ja</td>\n",
       "      <td>test</td>\n",
       "      <td>350</td>\n",
       "    </tr>\n",
       "    <tr>\n",
       "      <th>444</th>\n",
       "      <td>audi</td>\n",
       "      <td>a4</td>\n",
       "      <td>kombi</td>\n",
       "      <td>2010</td>\n",
       "      <td>1</td>\n",
       "      <td>150000</td>\n",
       "      <td>benzin</td>\n",
       "      <td>0</td>\n",
       "      <td>automatik</td>\n",
       "      <td>nein</td>\n",
       "      <td>test</td>\n",
       "      <td>11000</td>\n",
       "    </tr>\n",
       "    <tr>\n",
       "      <th>575</th>\n",
       "      <td>volkswagen</td>\n",
       "      <td>touran</td>\n",
       "      <td>kombi</td>\n",
       "      <td>2005</td>\n",
       "      <td>11</td>\n",
       "      <td>150000</td>\n",
       "      <td>diesel</td>\n",
       "      <td>0</td>\n",
       "      <td>NaN</td>\n",
       "      <td>nein</td>\n",
       "      <td>control</td>\n",
       "      <td>2800</td>\n",
       "    </tr>\n",
       "    <tr>\n",
       "      <th>587</th>\n",
       "      <td>mini</td>\n",
       "      <td>cooper</td>\n",
       "      <td>kleinwagen</td>\n",
       "      <td>2006</td>\n",
       "      <td>4</td>\n",
       "      <td>90000</td>\n",
       "      <td>benzin</td>\n",
       "      <td>0</td>\n",
       "      <td>manuell</td>\n",
       "      <td>nein</td>\n",
       "      <td>test</td>\n",
       "      <td>8200</td>\n",
       "    </tr>\n",
       "    <tr>\n",
       "      <th>629</th>\n",
       "      <td>bmw</td>\n",
       "      <td>3er</td>\n",
       "      <td>cabrio</td>\n",
       "      <td>2001</td>\n",
       "      <td>3</td>\n",
       "      <td>150000</td>\n",
       "      <td>benzin</td>\n",
       "      <td>0</td>\n",
       "      <td>manuell</td>\n",
       "      <td>nein</td>\n",
       "      <td>control</td>\n",
       "      <td>3800</td>\n",
       "    </tr>\n",
       "    <tr>\n",
       "      <th>680</th>\n",
       "      <td>bmw</td>\n",
       "      <td>3er</td>\n",
       "      <td>limousine</td>\n",
       "      <td>2004</td>\n",
       "      <td>8</td>\n",
       "      <td>150000</td>\n",
       "      <td>diesel</td>\n",
       "      <td>0</td>\n",
       "      <td>NaN</td>\n",
       "      <td>nein</td>\n",
       "      <td>control</td>\n",
       "      <td>2300</td>\n",
       "    </tr>\n",
       "    <tr>\n",
       "      <th>699</th>\n",
       "      <td>ford</td>\n",
       "      <td>mondeo</td>\n",
       "      <td>kombi</td>\n",
       "      <td>1998</td>\n",
       "      <td>9</td>\n",
       "      <td>150000</td>\n",
       "      <td>benzin</td>\n",
       "      <td>0</td>\n",
       "      <td>manuell</td>\n",
       "      <td>nein</td>\n",
       "      <td>test</td>\n",
       "      <td>600</td>\n",
       "    </tr>\n",
       "    <tr>\n",
       "      <th>736</th>\n",
       "      <td>renault</td>\n",
       "      <td>twingo</td>\n",
       "      <td>kleinwagen</td>\n",
       "      <td>2001</td>\n",
       "      <td>9</td>\n",
       "      <td>150000</td>\n",
       "      <td>benzin</td>\n",
       "      <td>0</td>\n",
       "      <td>manuell</td>\n",
       "      <td>ja</td>\n",
       "      <td>control</td>\n",
       "      <td>250</td>\n",
       "    </tr>\n",
       "    <tr>\n",
       "      <th>748</th>\n",
       "      <td>bmw</td>\n",
       "      <td>7er</td>\n",
       "      <td>limousine</td>\n",
       "      <td>1996</td>\n",
       "      <td>11</td>\n",
       "      <td>150000</td>\n",
       "      <td>benzin</td>\n",
       "      <td>0</td>\n",
       "      <td>automatik</td>\n",
       "      <td>nein</td>\n",
       "      <td>control</td>\n",
       "      <td>2300</td>\n",
       "    </tr>\n",
       "    <tr>\n",
       "      <th>753</th>\n",
       "      <td>bmw</td>\n",
       "      <td>andere</td>\n",
       "      <td>cabrio</td>\n",
       "      <td>1997</td>\n",
       "      <td>3</td>\n",
       "      <td>150000</td>\n",
       "      <td>benzin</td>\n",
       "      <td>0</td>\n",
       "      <td>manuell</td>\n",
       "      <td>nein</td>\n",
       "      <td>control</td>\n",
       "      <td>1750</td>\n",
       "    </tr>\n",
       "    <tr>\n",
       "      <th>768</th>\n",
       "      <td>volkswagen</td>\n",
       "      <td>transporter</td>\n",
       "      <td>bus</td>\n",
       "      <td>2012</td>\n",
       "      <td>6</td>\n",
       "      <td>50000</td>\n",
       "      <td>diesel</td>\n",
       "      <td>0</td>\n",
       "      <td>manuell</td>\n",
       "      <td>nein</td>\n",
       "      <td>control</td>\n",
       "      <td>37990</td>\n",
       "    </tr>\n",
       "    <tr>\n",
       "      <th>829</th>\n",
       "      <td>audi</td>\n",
       "      <td>a2</td>\n",
       "      <td>limousine</td>\n",
       "      <td>2003</td>\n",
       "      <td>11</td>\n",
       "      <td>150000</td>\n",
       "      <td>diesel</td>\n",
       "      <td>0</td>\n",
       "      <td>NaN</td>\n",
       "      <td>nein</td>\n",
       "      <td>test</td>\n",
       "      <td>2200</td>\n",
       "    </tr>\n",
       "    <tr>\n",
       "      <th>837</th>\n",
       "      <td>skoda</td>\n",
       "      <td>fabia</td>\n",
       "      <td>kleinwagen</td>\n",
       "      <td>2011</td>\n",
       "      <td>3</td>\n",
       "      <td>125000</td>\n",
       "      <td>benzin</td>\n",
       "      <td>0</td>\n",
       "      <td>manuell</td>\n",
       "      <td>nein</td>\n",
       "      <td>test</td>\n",
       "      <td>4999</td>\n",
       "    </tr>\n",
       "    <tr>\n",
       "      <th>943</th>\n",
       "      <td>honda</td>\n",
       "      <td>civic</td>\n",
       "      <td>limousine</td>\n",
       "      <td>1997</td>\n",
       "      <td>4</td>\n",
       "      <td>150000</td>\n",
       "      <td>benzin</td>\n",
       "      <td>0</td>\n",
       "      <td>manuell</td>\n",
       "      <td>nein</td>\n",
       "      <td>test</td>\n",
       "      <td>650</td>\n",
       "    </tr>\n",
       "    <tr>\n",
       "      <th>953</th>\n",
       "      <td>opel</td>\n",
       "      <td>corsa</td>\n",
       "      <td>kleinwagen</td>\n",
       "      <td>2004</td>\n",
       "      <td>11</td>\n",
       "      <td>150000</td>\n",
       "      <td>diesel</td>\n",
       "      <td>0</td>\n",
       "      <td>manuell</td>\n",
       "      <td>nein</td>\n",
       "      <td>control</td>\n",
       "      <td>2399</td>\n",
       "    </tr>\n",
       "    <tr>\n",
       "      <th>959</th>\n",
       "      <td>fiat</td>\n",
       "      <td>punto</td>\n",
       "      <td>kleinwagen</td>\n",
       "      <td>1999</td>\n",
       "      <td>4</td>\n",
       "      <td>150000</td>\n",
       "      <td>benzin</td>\n",
       "      <td>0</td>\n",
       "      <td>manuell</td>\n",
       "      <td>ja</td>\n",
       "      <td>control</td>\n",
       "      <td>190</td>\n",
       "    </tr>\n",
       "    <tr>\n",
       "      <th>966</th>\n",
       "      <td>renault</td>\n",
       "      <td>megane</td>\n",
       "      <td>coupe</td>\n",
       "      <td>1997</td>\n",
       "      <td>6</td>\n",
       "      <td>150000</td>\n",
       "      <td>benzin</td>\n",
       "      <td>0</td>\n",
       "      <td>manuell</td>\n",
       "      <td>ja</td>\n",
       "      <td>test</td>\n",
       "      <td>140</td>\n",
       "    </tr>\n",
       "    <tr>\n",
       "      <th>976</th>\n",
       "      <td>volkswagen</td>\n",
       "      <td>caddy</td>\n",
       "      <td>andere</td>\n",
       "      <td>1997</td>\n",
       "      <td>10</td>\n",
       "      <td>150000</td>\n",
       "      <td>diesel</td>\n",
       "      <td>0</td>\n",
       "      <td>manuell</td>\n",
       "      <td>ja</td>\n",
       "      <td>control</td>\n",
       "      <td>1400</td>\n",
       "    </tr>\n",
       "    <tr>\n",
       "      <th>992</th>\n",
       "      <td>opel</td>\n",
       "      <td>corsa</td>\n",
       "      <td>kleinwagen</td>\n",
       "      <td>2000</td>\n",
       "      <td>5</td>\n",
       "      <td>150000</td>\n",
       "      <td>benzin</td>\n",
       "      <td>0</td>\n",
       "      <td>manuell</td>\n",
       "      <td>nein</td>\n",
       "      <td>control</td>\n",
       "      <td>0</td>\n",
       "    </tr>\n",
       "    <tr>\n",
       "      <th>994</th>\n",
       "      <td>renault</td>\n",
       "      <td>laguna</td>\n",
       "      <td>limousine</td>\n",
       "      <td>1999</td>\n",
       "      <td>0</td>\n",
       "      <td>150000</td>\n",
       "      <td>benzin</td>\n",
       "      <td>0</td>\n",
       "      <td>manuell</td>\n",
       "      <td>ja</td>\n",
       "      <td>control</td>\n",
       "      <td>500</td>\n",
       "    </tr>\n",
       "    <tr>\n",
       "      <th>...</th>\n",
       "      <td>...</td>\n",
       "      <td>...</td>\n",
       "      <td>...</td>\n",
       "      <td>...</td>\n",
       "      <td>...</td>\n",
       "      <td>...</td>\n",
       "      <td>...</td>\n",
       "      <td>...</td>\n",
       "      <td>...</td>\n",
       "      <td>...</td>\n",
       "      <td>...</td>\n",
       "      <td>...</td>\n",
       "    </tr>\n",
       "    <tr>\n",
       "      <th>370747</th>\n",
       "      <td>volkswagen</td>\n",
       "      <td>transporter</td>\n",
       "      <td>kombi</td>\n",
       "      <td>1993</td>\n",
       "      <td>11</td>\n",
       "      <td>150000</td>\n",
       "      <td>benzin</td>\n",
       "      <td>0</td>\n",
       "      <td>NaN</td>\n",
       "      <td>nein</td>\n",
       "      <td>control</td>\n",
       "      <td>1200</td>\n",
       "    </tr>\n",
       "    <tr>\n",
       "      <th>370783</th>\n",
       "      <td>renault</td>\n",
       "      <td>laguna</td>\n",
       "      <td>kombi</td>\n",
       "      <td>2002</td>\n",
       "      <td>3</td>\n",
       "      <td>150000</td>\n",
       "      <td>diesel</td>\n",
       "      <td>0</td>\n",
       "      <td>manuell</td>\n",
       "      <td>nein</td>\n",
       "      <td>test</td>\n",
       "      <td>2800</td>\n",
       "    </tr>\n",
       "    <tr>\n",
       "      <th>370800</th>\n",
       "      <td>volkswagen</td>\n",
       "      <td>transporter</td>\n",
       "      <td>bus</td>\n",
       "      <td>1995</td>\n",
       "      <td>1</td>\n",
       "      <td>150000</td>\n",
       "      <td>diesel</td>\n",
       "      <td>0</td>\n",
       "      <td>NaN</td>\n",
       "      <td>nein</td>\n",
       "      <td>test</td>\n",
       "      <td>3200</td>\n",
       "    </tr>\n",
       "    <tr>\n",
       "      <th>370856</th>\n",
       "      <td>toyota</td>\n",
       "      <td>yaris</td>\n",
       "      <td>kleinwagen</td>\n",
       "      <td>2004</td>\n",
       "      <td>8</td>\n",
       "      <td>70000</td>\n",
       "      <td>benzin</td>\n",
       "      <td>0</td>\n",
       "      <td>automatik</td>\n",
       "      <td>ja</td>\n",
       "      <td>test</td>\n",
       "      <td>1700</td>\n",
       "    </tr>\n",
       "    <tr>\n",
       "      <th>370877</th>\n",
       "      <td>ford</td>\n",
       "      <td>ka</td>\n",
       "      <td>kleinwagen</td>\n",
       "      <td>2008</td>\n",
       "      <td>0</td>\n",
       "      <td>125000</td>\n",
       "      <td>benzin</td>\n",
       "      <td>0</td>\n",
       "      <td>manuell</td>\n",
       "      <td>nein</td>\n",
       "      <td>control</td>\n",
       "      <td>1699</td>\n",
       "    </tr>\n",
       "    <tr>\n",
       "      <th>370891</th>\n",
       "      <td>fiat</td>\n",
       "      <td>punto</td>\n",
       "      <td>kleinwagen</td>\n",
       "      <td>2012</td>\n",
       "      <td>9</td>\n",
       "      <td>50000</td>\n",
       "      <td>benzin</td>\n",
       "      <td>0</td>\n",
       "      <td>manuell</td>\n",
       "      <td>nein</td>\n",
       "      <td>control</td>\n",
       "      <td>3850</td>\n",
       "    </tr>\n",
       "    <tr>\n",
       "      <th>370897</th>\n",
       "      <td>smart</td>\n",
       "      <td>fortwo</td>\n",
       "      <td>kleinwagen</td>\n",
       "      <td>2001</td>\n",
       "      <td>12</td>\n",
       "      <td>60000</td>\n",
       "      <td>benzin</td>\n",
       "      <td>0</td>\n",
       "      <td>automatik</td>\n",
       "      <td>nein</td>\n",
       "      <td>test</td>\n",
       "      <td>2500</td>\n",
       "    </tr>\n",
       "    <tr>\n",
       "      <th>370910</th>\n",
       "      <td>volkswagen</td>\n",
       "      <td>golf</td>\n",
       "      <td>kleinwagen</td>\n",
       "      <td>1999</td>\n",
       "      <td>7</td>\n",
       "      <td>150000</td>\n",
       "      <td>benzin</td>\n",
       "      <td>0</td>\n",
       "      <td>automatik</td>\n",
       "      <td>ja</td>\n",
       "      <td>test</td>\n",
       "      <td>1450</td>\n",
       "    </tr>\n",
       "    <tr>\n",
       "      <th>370913</th>\n",
       "      <td>volkswagen</td>\n",
       "      <td>polo</td>\n",
       "      <td>coupe</td>\n",
       "      <td>2002</td>\n",
       "      <td>0</td>\n",
       "      <td>150000</td>\n",
       "      <td>benzin</td>\n",
       "      <td>0</td>\n",
       "      <td>manuell</td>\n",
       "      <td>nein</td>\n",
       "      <td>test</td>\n",
       "      <td>1800</td>\n",
       "    </tr>\n",
       "    <tr>\n",
       "      <th>370988</th>\n",
       "      <td>mercedes_benz</td>\n",
       "      <td>vito</td>\n",
       "      <td>bus</td>\n",
       "      <td>2006</td>\n",
       "      <td>11</td>\n",
       "      <td>150000</td>\n",
       "      <td>diesel</td>\n",
       "      <td>0</td>\n",
       "      <td>NaN</td>\n",
       "      <td>nein</td>\n",
       "      <td>control</td>\n",
       "      <td>11000</td>\n",
       "    </tr>\n",
       "    <tr>\n",
       "      <th>371002</th>\n",
       "      <td>ford</td>\n",
       "      <td>andere</td>\n",
       "      <td>coupe</td>\n",
       "      <td>1973</td>\n",
       "      <td>3</td>\n",
       "      <td>5000</td>\n",
       "      <td>benzin</td>\n",
       "      <td>0</td>\n",
       "      <td>manuell</td>\n",
       "      <td>nein</td>\n",
       "      <td>control</td>\n",
       "      <td>15500</td>\n",
       "    </tr>\n",
       "    <tr>\n",
       "      <th>371045</th>\n",
       "      <td>seat</td>\n",
       "      <td>ibiza</td>\n",
       "      <td>kleinwagen</td>\n",
       "      <td>2003</td>\n",
       "      <td>5</td>\n",
       "      <td>150000</td>\n",
       "      <td>benzin</td>\n",
       "      <td>0</td>\n",
       "      <td>manuell</td>\n",
       "      <td>nein</td>\n",
       "      <td>test</td>\n",
       "      <td>800</td>\n",
       "    </tr>\n",
       "    <tr>\n",
       "      <th>371094</th>\n",
       "      <td>peugeot</td>\n",
       "      <td>3_reihe</td>\n",
       "      <td>limousine</td>\n",
       "      <td>2003</td>\n",
       "      <td>3</td>\n",
       "      <td>125000</td>\n",
       "      <td>benzin</td>\n",
       "      <td>0</td>\n",
       "      <td>manuell</td>\n",
       "      <td>ja</td>\n",
       "      <td>test</td>\n",
       "      <td>1000</td>\n",
       "    </tr>\n",
       "    <tr>\n",
       "      <th>371113</th>\n",
       "      <td>renault</td>\n",
       "      <td>clio</td>\n",
       "      <td>kleinwagen</td>\n",
       "      <td>2003</td>\n",
       "      <td>4</td>\n",
       "      <td>150000</td>\n",
       "      <td>benzin</td>\n",
       "      <td>0</td>\n",
       "      <td>manuell</td>\n",
       "      <td>nein</td>\n",
       "      <td>test</td>\n",
       "      <td>1559</td>\n",
       "    </tr>\n",
       "    <tr>\n",
       "      <th>371166</th>\n",
       "      <td>mazda</td>\n",
       "      <td>6_reihe</td>\n",
       "      <td>kombi</td>\n",
       "      <td>2008</td>\n",
       "      <td>9</td>\n",
       "      <td>90000</td>\n",
       "      <td>diesel</td>\n",
       "      <td>0</td>\n",
       "      <td>manuell</td>\n",
       "      <td>nein</td>\n",
       "      <td>test</td>\n",
       "      <td>9200</td>\n",
       "    </tr>\n",
       "    <tr>\n",
       "      <th>371180</th>\n",
       "      <td>opel</td>\n",
       "      <td>corsa</td>\n",
       "      <td>kleinwagen</td>\n",
       "      <td>2000</td>\n",
       "      <td>6</td>\n",
       "      <td>125000</td>\n",
       "      <td>benzin</td>\n",
       "      <td>0</td>\n",
       "      <td>manuell</td>\n",
       "      <td>nein</td>\n",
       "      <td>test</td>\n",
       "      <td>1100</td>\n",
       "    </tr>\n",
       "    <tr>\n",
       "      <th>371229</th>\n",
       "      <td>mercedes_benz</td>\n",
       "      <td>c_klasse</td>\n",
       "      <td>limousine</td>\n",
       "      <td>1995</td>\n",
       "      <td>10</td>\n",
       "      <td>150000</td>\n",
       "      <td>benzin</td>\n",
       "      <td>0</td>\n",
       "      <td>manuell</td>\n",
       "      <td>nein</td>\n",
       "      <td>test</td>\n",
       "      <td>1050</td>\n",
       "    </tr>\n",
       "    <tr>\n",
       "      <th>371278</th>\n",
       "      <td>citroen</td>\n",
       "      <td>andere</td>\n",
       "      <td>bus</td>\n",
       "      <td>2000</td>\n",
       "      <td>0</td>\n",
       "      <td>80000</td>\n",
       "      <td>diesel</td>\n",
       "      <td>0</td>\n",
       "      <td>manuell</td>\n",
       "      <td>nein</td>\n",
       "      <td>control</td>\n",
       "      <td>2300</td>\n",
       "    </tr>\n",
       "    <tr>\n",
       "      <th>371289</th>\n",
       "      <td>volkswagen</td>\n",
       "      <td>golf</td>\n",
       "      <td>kombi</td>\n",
       "      <td>1999</td>\n",
       "      <td>11</td>\n",
       "      <td>150000</td>\n",
       "      <td>benzin</td>\n",
       "      <td>0</td>\n",
       "      <td>manuell</td>\n",
       "      <td>nein</td>\n",
       "      <td>test</td>\n",
       "      <td>1600</td>\n",
       "    </tr>\n",
       "    <tr>\n",
       "      <th>371293</th>\n",
       "      <td>renault</td>\n",
       "      <td>laguna</td>\n",
       "      <td>kombi</td>\n",
       "      <td>2002</td>\n",
       "      <td>6</td>\n",
       "      <td>125000</td>\n",
       "      <td>benzin</td>\n",
       "      <td>0</td>\n",
       "      <td>manuell</td>\n",
       "      <td>nein</td>\n",
       "      <td>test</td>\n",
       "      <td>1000</td>\n",
       "    </tr>\n",
       "    <tr>\n",
       "      <th>371296</th>\n",
       "      <td>renault</td>\n",
       "      <td>twingo</td>\n",
       "      <td>kleinwagen</td>\n",
       "      <td>1998</td>\n",
       "      <td>12</td>\n",
       "      <td>70000</td>\n",
       "      <td>benzin</td>\n",
       "      <td>0</td>\n",
       "      <td>automatik</td>\n",
       "      <td>ja</td>\n",
       "      <td>control</td>\n",
       "      <td>1400</td>\n",
       "    </tr>\n",
       "    <tr>\n",
       "      <th>371348</th>\n",
       "      <td>mercedes_benz</td>\n",
       "      <td>sprinter</td>\n",
       "      <td>bus</td>\n",
       "      <td>2007</td>\n",
       "      <td>8</td>\n",
       "      <td>150000</td>\n",
       "      <td>diesel</td>\n",
       "      <td>0</td>\n",
       "      <td>automatik</td>\n",
       "      <td>nein</td>\n",
       "      <td>control</td>\n",
       "      <td>8500</td>\n",
       "    </tr>\n",
       "    <tr>\n",
       "      <th>371351</th>\n",
       "      <td>opel</td>\n",
       "      <td>meriva</td>\n",
       "      <td>bus</td>\n",
       "      <td>2005</td>\n",
       "      <td>6</td>\n",
       "      <td>50000</td>\n",
       "      <td>benzin</td>\n",
       "      <td>0</td>\n",
       "      <td>manuell</td>\n",
       "      <td>ja</td>\n",
       "      <td>control</td>\n",
       "      <td>1500</td>\n",
       "    </tr>\n",
       "    <tr>\n",
       "      <th>371374</th>\n",
       "      <td>volkswagen</td>\n",
       "      <td>golf</td>\n",
       "      <td>cabrio</td>\n",
       "      <td>1988</td>\n",
       "      <td>6</td>\n",
       "      <td>150000</td>\n",
       "      <td>benzin</td>\n",
       "      <td>0</td>\n",
       "      <td>manuell</td>\n",
       "      <td>nein</td>\n",
       "      <td>control</td>\n",
       "      <td>2200</td>\n",
       "    </tr>\n",
       "    <tr>\n",
       "      <th>371375</th>\n",
       "      <td>seat</td>\n",
       "      <td>ibiza</td>\n",
       "      <td>kleinwagen</td>\n",
       "      <td>2009</td>\n",
       "      <td>3</td>\n",
       "      <td>150000</td>\n",
       "      <td>benzin</td>\n",
       "      <td>0</td>\n",
       "      <td>NaN</td>\n",
       "      <td>nein</td>\n",
       "      <td>control</td>\n",
       "      <td>4300</td>\n",
       "    </tr>\n",
       "    <tr>\n",
       "      <th>371417</th>\n",
       "      <td>mercedes_benz</td>\n",
       "      <td>clk</td>\n",
       "      <td>coupe</td>\n",
       "      <td>2000</td>\n",
       "      <td>10</td>\n",
       "      <td>150000</td>\n",
       "      <td>benzin</td>\n",
       "      <td>0</td>\n",
       "      <td>manuell</td>\n",
       "      <td>nein</td>\n",
       "      <td>control</td>\n",
       "      <td>1800</td>\n",
       "    </tr>\n",
       "    <tr>\n",
       "      <th>371489</th>\n",
       "      <td>mercedes_benz</td>\n",
       "      <td>b_klasse</td>\n",
       "      <td>bus</td>\n",
       "      <td>2007</td>\n",
       "      <td>1</td>\n",
       "      <td>125000</td>\n",
       "      <td>benzin</td>\n",
       "      <td>0</td>\n",
       "      <td>manuell</td>\n",
       "      <td>nein</td>\n",
       "      <td>test</td>\n",
       "      <td>7900</td>\n",
       "    </tr>\n",
       "    <tr>\n",
       "      <th>371492</th>\n",
       "      <td>opel</td>\n",
       "      <td>corsa</td>\n",
       "      <td>kleinwagen</td>\n",
       "      <td>1997</td>\n",
       "      <td>6</td>\n",
       "      <td>100000</td>\n",
       "      <td>benzin</td>\n",
       "      <td>0</td>\n",
       "      <td>automatik</td>\n",
       "      <td>ja</td>\n",
       "      <td>test</td>\n",
       "      <td>390</td>\n",
       "    </tr>\n",
       "    <tr>\n",
       "      <th>371518</th>\n",
       "      <td>bmw</td>\n",
       "      <td>3er</td>\n",
       "      <td>kombi</td>\n",
       "      <td>2005</td>\n",
       "      <td>5</td>\n",
       "      <td>150000</td>\n",
       "      <td>diesel</td>\n",
       "      <td>3</td>\n",
       "      <td>manuell</td>\n",
       "      <td>nein</td>\n",
       "      <td>test</td>\n",
       "      <td>3999</td>\n",
       "    </tr>\n",
       "    <tr>\n",
       "      <th>371521</th>\n",
       "      <td>opel</td>\n",
       "      <td>zafira</td>\n",
       "      <td>bus</td>\n",
       "      <td>2000</td>\n",
       "      <td>3</td>\n",
       "      <td>150000</td>\n",
       "      <td>benzin</td>\n",
       "      <td>0</td>\n",
       "      <td>manuell</td>\n",
       "      <td>nein</td>\n",
       "      <td>control</td>\n",
       "      <td>1150</td>\n",
       "    </tr>\n",
       "  </tbody>\n",
       "</table>\n",
       "<p>12292 rows × 12 columns</p>\n",
       "</div>"
      ],
      "text/plain": [
       "                brand        model vehicle_type  year_of_registration  \\\n",
       "32         volkswagen         golf    limousine                  1994   \n",
       "55               opel        astra        kombi                  1999   \n",
       "71         volkswagen         polo   kleinwagen                  1993   \n",
       "101              opel        combo          bus                  2008   \n",
       "163        volkswagen         golf    limousine                  1993   \n",
       "171             volvo          v40        kombi                  1998   \n",
       "203              audi           a3        kombi                  2006   \n",
       "208               bmw          7er    limousine                  1996   \n",
       "300        volkswagen       sharan          bus                  2000   \n",
       "421           peugeot       andere          bus                  2000   \n",
       "436             mazda      6_reihe        kombi                  1998   \n",
       "444              audi           a4        kombi                  2010   \n",
       "575        volkswagen       touran        kombi                  2005   \n",
       "587              mini       cooper   kleinwagen                  2006   \n",
       "629               bmw          3er       cabrio                  2001   \n",
       "680               bmw          3er    limousine                  2004   \n",
       "699              ford       mondeo        kombi                  1998   \n",
       "736           renault       twingo   kleinwagen                  2001   \n",
       "748               bmw          7er    limousine                  1996   \n",
       "753               bmw       andere       cabrio                  1997   \n",
       "768        volkswagen  transporter          bus                  2012   \n",
       "829              audi           a2    limousine                  2003   \n",
       "837             skoda        fabia   kleinwagen                  2011   \n",
       "943             honda        civic    limousine                  1997   \n",
       "953              opel        corsa   kleinwagen                  2004   \n",
       "959              fiat        punto   kleinwagen                  1999   \n",
       "966           renault       megane        coupe                  1997   \n",
       "976        volkswagen        caddy       andere                  1997   \n",
       "992              opel        corsa   kleinwagen                  2000   \n",
       "994           renault       laguna    limousine                  1999   \n",
       "...               ...          ...          ...                   ...   \n",
       "370747     volkswagen  transporter        kombi                  1993   \n",
       "370783        renault       laguna        kombi                  2002   \n",
       "370800     volkswagen  transporter          bus                  1995   \n",
       "370856         toyota        yaris   kleinwagen                  2004   \n",
       "370877           ford           ka   kleinwagen                  2008   \n",
       "370891           fiat        punto   kleinwagen                  2012   \n",
       "370897          smart       fortwo   kleinwagen                  2001   \n",
       "370910     volkswagen         golf   kleinwagen                  1999   \n",
       "370913     volkswagen         polo        coupe                  2002   \n",
       "370988  mercedes_benz         vito          bus                  2006   \n",
       "371002           ford       andere        coupe                  1973   \n",
       "371045           seat        ibiza   kleinwagen                  2003   \n",
       "371094        peugeot      3_reihe    limousine                  2003   \n",
       "371113        renault         clio   kleinwagen                  2003   \n",
       "371166          mazda      6_reihe        kombi                  2008   \n",
       "371180           opel        corsa   kleinwagen                  2000   \n",
       "371229  mercedes_benz     c_klasse    limousine                  1995   \n",
       "371278        citroen       andere          bus                  2000   \n",
       "371289     volkswagen         golf        kombi                  1999   \n",
       "371293        renault       laguna        kombi                  2002   \n",
       "371296        renault       twingo   kleinwagen                  1998   \n",
       "371348  mercedes_benz     sprinter          bus                  2007   \n",
       "371351           opel       meriva          bus                  2005   \n",
       "371374     volkswagen         golf       cabrio                  1988   \n",
       "371375           seat        ibiza   kleinwagen                  2009   \n",
       "371417  mercedes_benz          clk        coupe                  2000   \n",
       "371489  mercedes_benz     b_klasse          bus                  2007   \n",
       "371492           opel        corsa   kleinwagen                  1997   \n",
       "371518            bmw          3er        kombi                  2005   \n",
       "371521           opel       zafira          bus                  2000   \n",
       "\n",
       "        month_of_registration  kilometer fuel_type  power_ps    gearbox  \\\n",
       "32                          2     150000    benzin         0        NaN   \n",
       "55                          8     150000    diesel         0    manuell   \n",
       "71                          3     150000    benzin         0    manuell   \n",
       "101                         2     150000    diesel         0    manuell   \n",
       "163                         9      10000    benzin         0    manuell   \n",
       "171                         6     150000    benzin         0    manuell   \n",
       "203                        11     150000    diesel         0        NaN   \n",
       "208                         5     150000    benzin         0  automatik   \n",
       "300                        10     150000    diesel         0    manuell   \n",
       "421                         3     150000    diesel         0    manuell   \n",
       "436                         0     150000    benzin         0    manuell   \n",
       "444                         1     150000    benzin         0  automatik   \n",
       "575                        11     150000    diesel         0        NaN   \n",
       "587                         4      90000    benzin         0    manuell   \n",
       "629                         3     150000    benzin         0    manuell   \n",
       "680                         8     150000    diesel         0        NaN   \n",
       "699                         9     150000    benzin         0    manuell   \n",
       "736                         9     150000    benzin         0    manuell   \n",
       "748                        11     150000    benzin         0  automatik   \n",
       "753                         3     150000    benzin         0    manuell   \n",
       "768                         6      50000    diesel         0    manuell   \n",
       "829                        11     150000    diesel         0        NaN   \n",
       "837                         3     125000    benzin         0    manuell   \n",
       "943                         4     150000    benzin         0    manuell   \n",
       "953                        11     150000    diesel         0    manuell   \n",
       "959                         4     150000    benzin         0    manuell   \n",
       "966                         6     150000    benzin         0    manuell   \n",
       "976                        10     150000    diesel         0    manuell   \n",
       "992                         5     150000    benzin         0    manuell   \n",
       "994                         0     150000    benzin         0    manuell   \n",
       "...                       ...        ...       ...       ...        ...   \n",
       "370747                     11     150000    benzin         0        NaN   \n",
       "370783                      3     150000    diesel         0    manuell   \n",
       "370800                      1     150000    diesel         0        NaN   \n",
       "370856                      8      70000    benzin         0  automatik   \n",
       "370877                      0     125000    benzin         0    manuell   \n",
       "370891                      9      50000    benzin         0    manuell   \n",
       "370897                     12      60000    benzin         0  automatik   \n",
       "370910                      7     150000    benzin         0  automatik   \n",
       "370913                      0     150000    benzin         0    manuell   \n",
       "370988                     11     150000    diesel         0        NaN   \n",
       "371002                      3       5000    benzin         0    manuell   \n",
       "371045                      5     150000    benzin         0    manuell   \n",
       "371094                      3     125000    benzin         0    manuell   \n",
       "371113                      4     150000    benzin         0    manuell   \n",
       "371166                      9      90000    diesel         0    manuell   \n",
       "371180                      6     125000    benzin         0    manuell   \n",
       "371229                     10     150000    benzin         0    manuell   \n",
       "371278                      0      80000    diesel         0    manuell   \n",
       "371289                     11     150000    benzin         0    manuell   \n",
       "371293                      6     125000    benzin         0    manuell   \n",
       "371296                     12      70000    benzin         0  automatik   \n",
       "371348                      8     150000    diesel         0  automatik   \n",
       "371351                      6      50000    benzin         0    manuell   \n",
       "371374                      6     150000    benzin         0    manuell   \n",
       "371375                      3     150000    benzin         0        NaN   \n",
       "371417                     10     150000    benzin         0    manuell   \n",
       "371489                      1     125000    benzin         0    manuell   \n",
       "371492                      6     100000    benzin         0  automatik   \n",
       "371518                      5     150000    diesel         3    manuell   \n",
       "371521                      3     150000    benzin         0    manuell   \n",
       "\n",
       "       not_repaired_damage   abtest  price  \n",
       "32                    nein     test    245  \n",
       "55                      ja     test    550  \n",
       "71                    nein  control    800  \n",
       "101                   nein     test   4290  \n",
       "163                     ja  control    800  \n",
       "171                   nein     test    300  \n",
       "203                   nein  control   3200  \n",
       "208                   nein     test   1600  \n",
       "300                   nein  control   3400  \n",
       "421                   nein  control   2200  \n",
       "436                     ja     test    350  \n",
       "444                   nein     test  11000  \n",
       "575                   nein  control   2800  \n",
       "587                   nein     test   8200  \n",
       "629                   nein  control   3800  \n",
       "680                   nein  control   2300  \n",
       "699                   nein     test    600  \n",
       "736                     ja  control    250  \n",
       "748                   nein  control   2300  \n",
       "753                   nein  control   1750  \n",
       "768                   nein  control  37990  \n",
       "829                   nein     test   2200  \n",
       "837                   nein     test   4999  \n",
       "943                   nein     test    650  \n",
       "953                   nein  control   2399  \n",
       "959                     ja  control    190  \n",
       "966                     ja     test    140  \n",
       "976                     ja  control   1400  \n",
       "992                   nein  control      0  \n",
       "994                     ja  control    500  \n",
       "...                    ...      ...    ...  \n",
       "370747                nein  control   1200  \n",
       "370783                nein     test   2800  \n",
       "370800                nein     test   3200  \n",
       "370856                  ja     test   1700  \n",
       "370877                nein  control   1699  \n",
       "370891                nein  control   3850  \n",
       "370897                nein     test   2500  \n",
       "370910                  ja     test   1450  \n",
       "370913                nein     test   1800  \n",
       "370988                nein  control  11000  \n",
       "371002                nein  control  15500  \n",
       "371045                nein     test    800  \n",
       "371094                  ja     test   1000  \n",
       "371113                nein     test   1559  \n",
       "371166                nein     test   9200  \n",
       "371180                nein     test   1100  \n",
       "371229                nein     test   1050  \n",
       "371278                nein  control   2300  \n",
       "371289                nein     test   1600  \n",
       "371293                nein     test   1000  \n",
       "371296                  ja  control   1400  \n",
       "371348                nein  control   8500  \n",
       "371351                  ja  control   1500  \n",
       "371374                nein  control   2200  \n",
       "371375                nein  control   4300  \n",
       "371417                nein  control   1800  \n",
       "371489                nein     test   7900  \n",
       "371492                  ja     test    390  \n",
       "371518                nein     test   3999  \n",
       "371521                nein  control   1150  \n",
       "\n",
       "[12292 rows x 12 columns]"
      ]
     },
     "execution_count": 33,
     "metadata": {},
     "output_type": "execute_result"
    }
   ],
   "source": [
    "car_data[car_data[\"power_ps\"]<30]"
   ]
  },
  {
   "cell_type": "markdown",
   "metadata": {},
   "source": [
    "11670 observations with unrealistically low PS. I can not afford to remove all of them so I will replace the unrealisitc PS values with the mean. I got a mean of 123 PS which is a good and representative value."
   ]
  },
  {
   "cell_type": "code",
   "execution_count": 34,
   "metadata": {},
   "outputs": [],
   "source": [
    "car_data[\"power_ps\"] = np.where(car_data[\"power_ps\"]<=30, mean_power_ps, car_data[\"power_ps\"])"
   ]
  },
  {
   "cell_type": "code",
   "execution_count": 35,
   "metadata": {},
   "outputs": [
    {
     "data": {
      "text/plain": [
       "array([ 75.        ,  69.        , 102.        , 109.        ,\n",
       "        50.        , 105.        , 140.        , 190.        ,\n",
       "       136.        , 160.        , 231.        , 118.        ,\n",
       "       193.        ,  99.        ,  60.        , 113.        ,\n",
       "       123.34271851, 218.        , 122.        , 129.        ,\n",
       "        70.        ,  95.        , 177.        , 306.        ,\n",
       "        61.        , 101.        , 232.        , 156.        ,\n",
       "        80.        ,  82.        , 204.        , 155.        ,\n",
       "       150.        ,  87.        ,  86.        , 131.        ,\n",
       "       143.        , 303.        , 125.        , 224.        ,\n",
       "       235.        , 200.        , 178.        , 265.        ,\n",
       "       163.        ,  77.        , 110.        , 120.        ,\n",
       "        54.        , 286.        , 170.        , 116.        ,\n",
       "       184.        ,  88.        ,  64.        , 305.        ,\n",
       "       197.        , 179.        ,  90.        , 250.        ,\n",
       "       313.        ,  41.        ,  45.        ,  98.        ,\n",
       "       115.        , 130.        , 114.        , 211.        ,\n",
       "        56.        , 326.        , 201.        , 213.        ,\n",
       "       107.        , 174.        , 220.        , 185.        ,\n",
       "        73.        , 192.        ,  66.        ,  58.        ,\n",
       "        52.        , 510.        , 147.        ,  71.        ,\n",
       "        97.        ,  65.        , 239.        , 295.        ,\n",
       "        68.        , 203.        , 144.        , 300.        ,\n",
       "       103.        ,  85.        , 245.        , 258.        ,\n",
       "       292.        , 320.        ,  63.        ,  81.        ,\n",
       "       148.        , 354.        ,  44.        , 145.        ,\n",
       "       180.        , 280.        , 260.        , 457.        ,\n",
       "       104.        , 409.        , 333.        , 117.        ,\n",
       "       141.        ,  55.        , 132.        , 165.        ,\n",
       "       234.        , 158.        ,  39.        , 272.        ,\n",
       "        92.        , 135.        , 230.        ,  53.        ,\n",
       "       435.        ,  84.        , 209.        , 146.        ,\n",
       "        67.        , 106.        , 276.        , 344.        ,\n",
       "       349.        , 100.        , 299.        ,  72.        ,\n",
       "       237.        , 194.        , 111.        , 279.        ,\n",
       "       310.        , 256.        , 175.        ,  96.        ,\n",
       "       226.        , 126.        , 301.        , 166.        ,\n",
       "       334.        ,  83.        , 128.        , 124.        ,\n",
       "       219.        , 241.        , 167.        , 182.        ,\n",
       "        74.        , 196.        , 238.        , 277.        ,\n",
       "       228.        ,  48.        , 133.        ,  33.        ,\n",
       "       139.        ,  79.        , 243.        , 252.        ,\n",
       "       340.        , 121.        , 222.        , 315.        ,\n",
       "       198.        , 450.        , 233.        , 387.        ,\n",
       "       347.        , 172.        , 137.        ,  94.        ,\n",
       "       212.        , 476.        , 314.        , 173.        ,\n",
       "       370.        , 290.        , 188.        , 207.        ,\n",
       "       385.        , 205.        ,  78.        ,  89.        ,\n",
       "       186.        , 108.        , 325.        ,  76.        ,\n",
       "        43.        , 420.        , 953.        , 171.        ,\n",
       "       142.        ,  91.        , 199.        , 112.        ,\n",
       "       152.        ,  57.        ,  59.        , 367.        ,\n",
       "       298.        , 240.        , 208.        , 408.        ,\n",
       "       275.        ,  46.        , 127.        , 400.        ,\n",
       "       176.        , 514.        , 161.        , 284.        ,\n",
       "        40.        , 603.        , 307.        , 268.        ,\n",
       "       355.        , 487.        , 416.        , 273.        ,\n",
       "       507.        , 223.        , 255.        , 151.        ,\n",
       "       123.        , 154.        , 149.        , 500.        ,\n",
       "       266.        , 345.        , 480.        , 360.        ,\n",
       "        34.        , 242.        , 162.        , 329.        ,\n",
       "       396.        ,  51.        , 483.        , 330.        ,\n",
       "       247.        , 164.        , 168.        ,  47.        ,\n",
       "       215.        ,  62.        , 210.        , 432.        ,\n",
       "       225.        , 328.        , 138.        , 183.        ,\n",
       "       254.        , 134.        , 321.        , 430.        ,\n",
       "       952.        , 169.        ,  37.        , 119.        ,\n",
       "       388.        , 426.        , 249.        , 271.        ,\n",
       "       343.        , 462.        , 364.        , 379.        ,\n",
       "       449.        , 373.        , 264.        ,  42.        ,\n",
       "       195.        , 309.        , 381.        , 189.        ,\n",
       "       587.        , 521.        , 374.        , 382.        ,\n",
       "        38.        , 270.        , 504.        , 331.        ,\n",
       "       363.        , 261.        , 253.        , 549.        ,\n",
       "       376.        , 377.        , 227.        , 421.        ,\n",
       "       311.        , 585.        , 551.        , 579.        ,\n",
       "       415.        , 217.        , 350.        , 751.        ,\n",
       "       530.        , 581.        , 352.        , 157.        ,\n",
       "       394.        , 560.        , 181.        ,  35.        ,\n",
       "       555.        , 405.        , 296.        , 495.        ,\n",
       "        49.        , 515.        , 216.        , 294.        ,\n",
       "       187.        , 517.        , 246.        , 327.        ,\n",
       "       368.        , 371.        , 259.        , 520.        ,\n",
       "       392.        , 540.        , 443.        , 572.        ,\n",
       "       401.        , 411.        , 900.        , 287.        ,\n",
       "       214.        , 525.        , 441.        , 557.        ,\n",
       "       236.        , 436.        ,  93.        , 600.        ,\n",
       "       206.        , 570.        , 335.        , 202.        ,\n",
       "       632.        , 159.        , 721.        , 650.        ,\n",
       "       485.        , 700.        , 316.        , 502.        ,\n",
       "       278.        , 431.        , 257.        , 544.        ,\n",
       "       580.        , 353.        , 455.        , 288.        ,\n",
       "       191.        , 281.        , 375.        , 386.        ,\n",
       "        32.        , 434.        , 262.        , 274.        ,\n",
       "       571.        , 351.        , 380.        , 629.        ,\n",
       "       341.        , 383.        , 338.        , 445.        ,\n",
       "       269.        , 428.        , 304.        , 390.        ,\n",
       "       348.        , 620.        , 676.        , 518.        ,\n",
       "        31.        , 575.        , 489.        , 466.        ,\n",
       "       490.        , 285.        , 283.        , 550.        ,\n",
       "       612.        , 740.        , 851.        , 319.        ,\n",
       "       251.        ,  36.        , 468.        , 519.        ,\n",
       "       589.        , 610.        , 153.        , 317.        ,\n",
       "       506.        , 398.        , 322.        , 318.        ,\n",
       "       604.        , 324.        , 221.        , 332.        ,\n",
       "       365.        , 425.        , 702.        , 453.        ,\n",
       "       680.        , 475.        , 903.        , 362.        ,\n",
       "       248.        , 505.        , 606.        , 601.        ,\n",
       "       308.        , 501.        , 748.        , 545.        ,\n",
       "       871.        , 909.        , 776.        , 672.        ,\n",
       "       407.        , 357.        , 339.        , 289.        ,\n",
       "       336.        , 678.        , 950.        , 481.        ,\n",
       "       244.        , 399.        , 359.        , 645.        ,\n",
       "       907.        , 625.        , 366.        , 424.        ,\n",
       "       999.        , 801.        , 229.        , 356.        ,\n",
       "       850.        , 704.        , 470.        , 998.        ,\n",
       "       508.        , 529.        , 417.        , 293.        ,\n",
       "       574.        , 440.        , 473.        ])"
      ]
     },
     "execution_count": 35,
     "metadata": {},
     "output_type": "execute_result"
    }
   ],
   "source": [
    "car_data.power_ps.unique()"
   ]
  },
  {
   "cell_type": "code",
   "execution_count": 36,
   "metadata": {},
   "outputs": [
    {
     "data": {
      "text/plain": [
       "129.0289855310665"
      ]
     },
     "execution_count": 36,
     "metadata": {},
     "output_type": "execute_result"
    }
   ],
   "source": [
    "car_data.power_ps.mean()"
   ]
  },
  {
   "cell_type": "markdown",
   "metadata": {},
   "source": [
    "Now I want to check for cars that do have overestimated prices."
   ]
  },
  {
   "cell_type": "code",
   "execution_count": 37,
   "metadata": {},
   "outputs": [
    {
     "data": {
      "text/html": [
       "<div>\n",
       "<style scoped>\n",
       "    .dataframe tbody tr th:only-of-type {\n",
       "        vertical-align: middle;\n",
       "    }\n",
       "\n",
       "    .dataframe tbody tr th {\n",
       "        vertical-align: top;\n",
       "    }\n",
       "\n",
       "    .dataframe thead th {\n",
       "        text-align: right;\n",
       "    }\n",
       "</style>\n",
       "<table border=\"1\" class=\"dataframe\">\n",
       "  <thead>\n",
       "    <tr style=\"text-align: right;\">\n",
       "      <th></th>\n",
       "      <th>brand</th>\n",
       "      <th>model</th>\n",
       "      <th>vehicle_type</th>\n",
       "      <th>year_of_registration</th>\n",
       "      <th>month_of_registration</th>\n",
       "      <th>kilometer</th>\n",
       "      <th>fuel_type</th>\n",
       "      <th>power_ps</th>\n",
       "      <th>gearbox</th>\n",
       "      <th>not_repaired_damage</th>\n",
       "      <th>abtest</th>\n",
       "      <th>price</th>\n",
       "    </tr>\n",
       "  </thead>\n",
       "  <tbody>\n",
       "    <tr>\n",
       "      <th>1846</th>\n",
       "      <td>bmw</td>\n",
       "      <td>andere</td>\n",
       "      <td>coupe</td>\n",
       "      <td>1980</td>\n",
       "      <td>12</td>\n",
       "      <td>20000</td>\n",
       "      <td>benzin</td>\n",
       "      <td>277.000000</td>\n",
       "      <td>manuell</td>\n",
       "      <td>nein</td>\n",
       "      <td>control</td>\n",
       "      <td>579000</td>\n",
       "    </tr>\n",
       "    <tr>\n",
       "      <th>16889</th>\n",
       "      <td>ford</td>\n",
       "      <td>mondeo</td>\n",
       "      <td>kombi</td>\n",
       "      <td>1998</td>\n",
       "      <td>0</td>\n",
       "      <td>150000</td>\n",
       "      <td>benzin</td>\n",
       "      <td>123.342719</td>\n",
       "      <td>NaN</td>\n",
       "      <td>ja</td>\n",
       "      <td>control</td>\n",
       "      <td>1000000</td>\n",
       "    </tr>\n",
       "    <tr>\n",
       "      <th>20143</th>\n",
       "      <td>porsche</td>\n",
       "      <td>911</td>\n",
       "      <td>coupe</td>\n",
       "      <td>2016</td>\n",
       "      <td>3</td>\n",
       "      <td>5000</td>\n",
       "      <td>benzin</td>\n",
       "      <td>500.000000</td>\n",
       "      <td>manuell</td>\n",
       "      <td>nein</td>\n",
       "      <td>test</td>\n",
       "      <td>1250000</td>\n",
       "    </tr>\n",
       "    <tr>\n",
       "      <th>21467</th>\n",
       "      <td>porsche</td>\n",
       "      <td>911</td>\n",
       "      <td>coupe</td>\n",
       "      <td>1967</td>\n",
       "      <td>10</td>\n",
       "      <td>50000</td>\n",
       "      <td>benzin</td>\n",
       "      <td>215.000000</td>\n",
       "      <td>manuell</td>\n",
       "      <td>nein</td>\n",
       "      <td>control</td>\n",
       "      <td>9999999</td>\n",
       "    </tr>\n",
       "    <tr>\n",
       "      <th>26327</th>\n",
       "      <td>porsche</td>\n",
       "      <td>911</td>\n",
       "      <td>coupe</td>\n",
       "      <td>2016</td>\n",
       "      <td>3</td>\n",
       "      <td>5000</td>\n",
       "      <td>benzin</td>\n",
       "      <td>500.000000</td>\n",
       "      <td>manuell</td>\n",
       "      <td>nein</td>\n",
       "      <td>test</td>\n",
       "      <td>600000</td>\n",
       "    </tr>\n",
       "    <tr>\n",
       "      <th>45833</th>\n",
       "      <td>porsche</td>\n",
       "      <td>911</td>\n",
       "      <td>coupe</td>\n",
       "      <td>1981</td>\n",
       "      <td>1</td>\n",
       "      <td>150000</td>\n",
       "      <td>benzin</td>\n",
       "      <td>300.000000</td>\n",
       "      <td>manuell</td>\n",
       "      <td>nein</td>\n",
       "      <td>control</td>\n",
       "      <td>1000000</td>\n",
       "    </tr>\n",
       "    <tr>\n",
       "      <th>53507</th>\n",
       "      <td>suzuki</td>\n",
       "      <td>andere</td>\n",
       "      <td>suv</td>\n",
       "      <td>1992</td>\n",
       "      <td>0</td>\n",
       "      <td>100000</td>\n",
       "      <td>benzin</td>\n",
       "      <td>69.000000</td>\n",
       "      <td>manuell</td>\n",
       "      <td>nein</td>\n",
       "      <td>test</td>\n",
       "      <td>1000000</td>\n",
       "    </tr>\n",
       "    <tr>\n",
       "      <th>54295</th>\n",
       "      <td>mazda</td>\n",
       "      <td>5_reihe</td>\n",
       "      <td>bus</td>\n",
       "      <td>2007</td>\n",
       "      <td>2</td>\n",
       "      <td>150000</td>\n",
       "      <td>diesel</td>\n",
       "      <td>143.000000</td>\n",
       "      <td>manuell</td>\n",
       "      <td>nein</td>\n",
       "      <td>control</td>\n",
       "      <td>10000000</td>\n",
       "    </tr>\n",
       "    <tr>\n",
       "      <th>78480</th>\n",
       "      <td>porsche</td>\n",
       "      <td>911</td>\n",
       "      <td>coupe</td>\n",
       "      <td>2016</td>\n",
       "      <td>3</td>\n",
       "      <td>5000</td>\n",
       "      <td>benzin</td>\n",
       "      <td>500.000000</td>\n",
       "      <td>manuell</td>\n",
       "      <td>nein</td>\n",
       "      <td>test</td>\n",
       "      <td>1250000</td>\n",
       "    </tr>\n",
       "    <tr>\n",
       "      <th>85047</th>\n",
       "      <td>porsche</td>\n",
       "      <td>911</td>\n",
       "      <td>cabrio</td>\n",
       "      <td>1967</td>\n",
       "      <td>12</td>\n",
       "      <td>5000</td>\n",
       "      <td>benzin</td>\n",
       "      <td>160.000000</td>\n",
       "      <td>manuell</td>\n",
       "      <td>nein</td>\n",
       "      <td>test</td>\n",
       "      <td>911911</td>\n",
       "    </tr>\n",
       "    <tr>\n",
       "      <th>91106</th>\n",
       "      <td>audi</td>\n",
       "      <td>a4</td>\n",
       "      <td>limousine</td>\n",
       "      <td>1996</td>\n",
       "      <td>5</td>\n",
       "      <td>60000</td>\n",
       "      <td>benzin</td>\n",
       "      <td>380.000000</td>\n",
       "      <td>manuell</td>\n",
       "      <td>nein</td>\n",
       "      <td>test</td>\n",
       "      <td>9999999</td>\n",
       "    </tr>\n",
       "    <tr>\n",
       "      <th>118058</th>\n",
       "      <td>audi</td>\n",
       "      <td>andere</td>\n",
       "      <td>kombi</td>\n",
       "      <td>2013</td>\n",
       "      <td>1</td>\n",
       "      <td>40000</td>\n",
       "      <td>diesel</td>\n",
       "      <td>245.000000</td>\n",
       "      <td>automatik</td>\n",
       "      <td>nein</td>\n",
       "      <td>test</td>\n",
       "      <td>517895</td>\n",
       "    </tr>\n",
       "    <tr>\n",
       "      <th>118143</th>\n",
       "      <td>porsche</td>\n",
       "      <td>911</td>\n",
       "      <td>coupe</td>\n",
       "      <td>2016</td>\n",
       "      <td>3</td>\n",
       "      <td>5000</td>\n",
       "      <td>benzin</td>\n",
       "      <td>500.000000</td>\n",
       "      <td>manuell</td>\n",
       "      <td>nein</td>\n",
       "      <td>test</td>\n",
       "      <td>745000</td>\n",
       "    </tr>\n",
       "    <tr>\n",
       "      <th>118233</th>\n",
       "      <td>jeep</td>\n",
       "      <td>grand</td>\n",
       "      <td>suv</td>\n",
       "      <td>1998</td>\n",
       "      <td>1</td>\n",
       "      <td>150000</td>\n",
       "      <td>benzin</td>\n",
       "      <td>241.000000</td>\n",
       "      <td>automatik</td>\n",
       "      <td>nein</td>\n",
       "      <td>test</td>\n",
       "      <td>999999</td>\n",
       "    </tr>\n",
       "    <tr>\n",
       "      <th>127820</th>\n",
       "      <td>audi</td>\n",
       "      <td>a6</td>\n",
       "      <td>kombi</td>\n",
       "      <td>1999</td>\n",
       "      <td>12</td>\n",
       "      <td>5000</td>\n",
       "      <td>benzin</td>\n",
       "      <td>165.000000</td>\n",
       "      <td>manuell</td>\n",
       "      <td>nein</td>\n",
       "      <td>test</td>\n",
       "      <td>99999999</td>\n",
       "    </tr>\n",
       "    <tr>\n",
       "      <th>136495</th>\n",
       "      <td>mercedes_benz</td>\n",
       "      <td>andere</td>\n",
       "      <td>cabrio</td>\n",
       "      <td>1960</td>\n",
       "      <td>7</td>\n",
       "      <td>5000</td>\n",
       "      <td>benzin</td>\n",
       "      <td>160.000000</td>\n",
       "      <td>manuell</td>\n",
       "      <td>nein</td>\n",
       "      <td>test</td>\n",
       "      <td>585000</td>\n",
       "    </tr>\n",
       "    <tr>\n",
       "      <th>137856</th>\n",
       "      <td>porsche</td>\n",
       "      <td>911</td>\n",
       "      <td>coupe</td>\n",
       "      <td>2016</td>\n",
       "      <td>3</td>\n",
       "      <td>5000</td>\n",
       "      <td>benzin</td>\n",
       "      <td>500.000000</td>\n",
       "      <td>manuell</td>\n",
       "      <td>nein</td>\n",
       "      <td>control</td>\n",
       "      <td>619000</td>\n",
       "    </tr>\n",
       "    <tr>\n",
       "      <th>139052</th>\n",
       "      <td>mercedes_benz</td>\n",
       "      <td>andere</td>\n",
       "      <td>coupe</td>\n",
       "      <td>2009</td>\n",
       "      <td>11</td>\n",
       "      <td>150000</td>\n",
       "      <td>diesel</td>\n",
       "      <td>224.000000</td>\n",
       "      <td>automatik</td>\n",
       "      <td>ja</td>\n",
       "      <td>control</td>\n",
       "      <td>99999999</td>\n",
       "    </tr>\n",
       "    <tr>\n",
       "      <th>161773</th>\n",
       "      <td>porsche</td>\n",
       "      <td>andere</td>\n",
       "      <td>cabrio</td>\n",
       "      <td>2005</td>\n",
       "      <td>4</td>\n",
       "      <td>10000</td>\n",
       "      <td>benzin</td>\n",
       "      <td>612.000000</td>\n",
       "      <td>manuell</td>\n",
       "      <td>nein</td>\n",
       "      <td>control</td>\n",
       "      <td>600000</td>\n",
       "    </tr>\n",
       "    <tr>\n",
       "      <th>194217</th>\n",
       "      <td>volkswagen</td>\n",
       "      <td>golf</td>\n",
       "      <td>kombi</td>\n",
       "      <td>1998</td>\n",
       "      <td>1</td>\n",
       "      <td>150000</td>\n",
       "      <td>benzin</td>\n",
       "      <td>75.000000</td>\n",
       "      <td>manuell</td>\n",
       "      <td>nein</td>\n",
       "      <td>test</td>\n",
       "      <td>849000</td>\n",
       "    </tr>\n",
       "    <tr>\n",
       "      <th>210657</th>\n",
       "      <td>ford</td>\n",
       "      <td>escort</td>\n",
       "      <td>limousine</td>\n",
       "      <td>1973</td>\n",
       "      <td>3</td>\n",
       "      <td>50000</td>\n",
       "      <td>benzin</td>\n",
       "      <td>48.000000</td>\n",
       "      <td>manuell</td>\n",
       "      <td>nein</td>\n",
       "      <td>test</td>\n",
       "      <td>11111111</td>\n",
       "    </tr>\n",
       "    <tr>\n",
       "      <th>241847</th>\n",
       "      <td>opel</td>\n",
       "      <td>vectra</td>\n",
       "      <td>limousine</td>\n",
       "      <td>2001</td>\n",
       "      <td>3</td>\n",
       "      <td>150000</td>\n",
       "      <td>benzin</td>\n",
       "      <td>101.000000</td>\n",
       "      <td>manuell</td>\n",
       "      <td>nein</td>\n",
       "      <td>control</td>\n",
       "      <td>12345678</td>\n",
       "    </tr>\n",
       "    <tr>\n",
       "      <th>251980</th>\n",
       "      <td>audi</td>\n",
       "      <td>a6</td>\n",
       "      <td>limousine</td>\n",
       "      <td>2009</td>\n",
       "      <td>11</td>\n",
       "      <td>150000</td>\n",
       "      <td>diesel</td>\n",
       "      <td>190.000000</td>\n",
       "      <td>automatik</td>\n",
       "      <td>nein</td>\n",
       "      <td>test</td>\n",
       "      <td>99000000</td>\n",
       "    </tr>\n",
       "    <tr>\n",
       "      <th>279937</th>\n",
       "      <td>mercedes_benz</td>\n",
       "      <td>clk</td>\n",
       "      <td>coupe</td>\n",
       "      <td>2008</td>\n",
       "      <td>5</td>\n",
       "      <td>125000</td>\n",
       "      <td>benzin</td>\n",
       "      <td>231.000000</td>\n",
       "      <td>automatik</td>\n",
       "      <td>nein</td>\n",
       "      <td>control</td>\n",
       "      <td>14000500</td>\n",
       "    </tr>\n",
       "    <tr>\n",
       "      <th>287835</th>\n",
       "      <td>ford</td>\n",
       "      <td>focus</td>\n",
       "      <td>kombi</td>\n",
       "      <td>2001</td>\n",
       "      <td>0</td>\n",
       "      <td>150000</td>\n",
       "      <td>benzin</td>\n",
       "      <td>101.000000</td>\n",
       "      <td>manuell</td>\n",
       "      <td>nein</td>\n",
       "      <td>test</td>\n",
       "      <td>12345678</td>\n",
       "    </tr>\n",
       "    <tr>\n",
       "      <th>306469</th>\n",
       "      <td>volkswagen</td>\n",
       "      <td>polo</td>\n",
       "      <td>coupe</td>\n",
       "      <td>1985</td>\n",
       "      <td>0</td>\n",
       "      <td>150000</td>\n",
       "      <td>benzin</td>\n",
       "      <td>75.000000</td>\n",
       "      <td>manuell</td>\n",
       "      <td>ja</td>\n",
       "      <td>control</td>\n",
       "      <td>1000000</td>\n",
       "    </tr>\n",
       "    <tr>\n",
       "      <th>312909</th>\n",
       "      <td>ford</td>\n",
       "      <td>focus</td>\n",
       "      <td>kombi</td>\n",
       "      <td>2009</td>\n",
       "      <td>4</td>\n",
       "      <td>125000</td>\n",
       "      <td>benzin</td>\n",
       "      <td>101.000000</td>\n",
       "      <td>manuell</td>\n",
       "      <td>nein</td>\n",
       "      <td>test</td>\n",
       "      <td>999999</td>\n",
       "    </tr>\n",
       "    <tr>\n",
       "      <th>344196</th>\n",
       "      <td>porsche</td>\n",
       "      <td>911</td>\n",
       "      <td>coupe</td>\n",
       "      <td>2016</td>\n",
       "      <td>3</td>\n",
       "      <td>5000</td>\n",
       "      <td>benzin</td>\n",
       "      <td>500.000000</td>\n",
       "      <td>manuell</td>\n",
       "      <td>nein</td>\n",
       "      <td>control</td>\n",
       "      <td>745000</td>\n",
       "    </tr>\n",
       "    <tr>\n",
       "      <th>359083</th>\n",
       "      <td>volkswagen</td>\n",
       "      <td>jetta</td>\n",
       "      <td>limousine</td>\n",
       "      <td>1985</td>\n",
       "      <td>12</td>\n",
       "      <td>150000</td>\n",
       "      <td>benzin</td>\n",
       "      <td>111.000000</td>\n",
       "      <td>manuell</td>\n",
       "      <td>ja</td>\n",
       "      <td>test</td>\n",
       "      <td>999990</td>\n",
       "    </tr>\n",
       "    <tr>\n",
       "      <th>365461</th>\n",
       "      <td>bmw</td>\n",
       "      <td>andere</td>\n",
       "      <td>coupe</td>\n",
       "      <td>1980</td>\n",
       "      <td>3</td>\n",
       "      <td>5000</td>\n",
       "      <td>benzin</td>\n",
       "      <td>377.000000</td>\n",
       "      <td>manuell</td>\n",
       "      <td>nein</td>\n",
       "      <td>control</td>\n",
       "      <td>599000</td>\n",
       "    </tr>\n",
       "  </tbody>\n",
       "</table>\n",
       "</div>"
      ],
      "text/plain": [
       "                brand    model vehicle_type  year_of_registration  \\\n",
       "1846              bmw   andere        coupe                  1980   \n",
       "16889            ford   mondeo        kombi                  1998   \n",
       "20143         porsche      911        coupe                  2016   \n",
       "21467         porsche      911        coupe                  1967   \n",
       "26327         porsche      911        coupe                  2016   \n",
       "45833         porsche      911        coupe                  1981   \n",
       "53507          suzuki   andere          suv                  1992   \n",
       "54295           mazda  5_reihe          bus                  2007   \n",
       "78480         porsche      911        coupe                  2016   \n",
       "85047         porsche      911       cabrio                  1967   \n",
       "91106            audi       a4    limousine                  1996   \n",
       "118058           audi   andere        kombi                  2013   \n",
       "118143        porsche      911        coupe                  2016   \n",
       "118233           jeep    grand          suv                  1998   \n",
       "127820           audi       a6        kombi                  1999   \n",
       "136495  mercedes_benz   andere       cabrio                  1960   \n",
       "137856        porsche      911        coupe                  2016   \n",
       "139052  mercedes_benz   andere        coupe                  2009   \n",
       "161773        porsche   andere       cabrio                  2005   \n",
       "194217     volkswagen     golf        kombi                  1998   \n",
       "210657           ford   escort    limousine                  1973   \n",
       "241847           opel   vectra    limousine                  2001   \n",
       "251980           audi       a6    limousine                  2009   \n",
       "279937  mercedes_benz      clk        coupe                  2008   \n",
       "287835           ford    focus        kombi                  2001   \n",
       "306469     volkswagen     polo        coupe                  1985   \n",
       "312909           ford    focus        kombi                  2009   \n",
       "344196        porsche      911        coupe                  2016   \n",
       "359083     volkswagen    jetta    limousine                  1985   \n",
       "365461            bmw   andere        coupe                  1980   \n",
       "\n",
       "        month_of_registration  kilometer fuel_type    power_ps    gearbox  \\\n",
       "1846                       12      20000    benzin  277.000000    manuell   \n",
       "16889                       0     150000    benzin  123.342719        NaN   \n",
       "20143                       3       5000    benzin  500.000000    manuell   \n",
       "21467                      10      50000    benzin  215.000000    manuell   \n",
       "26327                       3       5000    benzin  500.000000    manuell   \n",
       "45833                       1     150000    benzin  300.000000    manuell   \n",
       "53507                       0     100000    benzin   69.000000    manuell   \n",
       "54295                       2     150000    diesel  143.000000    manuell   \n",
       "78480                       3       5000    benzin  500.000000    manuell   \n",
       "85047                      12       5000    benzin  160.000000    manuell   \n",
       "91106                       5      60000    benzin  380.000000    manuell   \n",
       "118058                      1      40000    diesel  245.000000  automatik   \n",
       "118143                      3       5000    benzin  500.000000    manuell   \n",
       "118233                      1     150000    benzin  241.000000  automatik   \n",
       "127820                     12       5000    benzin  165.000000    manuell   \n",
       "136495                      7       5000    benzin  160.000000    manuell   \n",
       "137856                      3       5000    benzin  500.000000    manuell   \n",
       "139052                     11     150000    diesel  224.000000  automatik   \n",
       "161773                      4      10000    benzin  612.000000    manuell   \n",
       "194217                      1     150000    benzin   75.000000    manuell   \n",
       "210657                      3      50000    benzin   48.000000    manuell   \n",
       "241847                      3     150000    benzin  101.000000    manuell   \n",
       "251980                     11     150000    diesel  190.000000  automatik   \n",
       "279937                      5     125000    benzin  231.000000  automatik   \n",
       "287835                      0     150000    benzin  101.000000    manuell   \n",
       "306469                      0     150000    benzin   75.000000    manuell   \n",
       "312909                      4     125000    benzin  101.000000    manuell   \n",
       "344196                      3       5000    benzin  500.000000    manuell   \n",
       "359083                     12     150000    benzin  111.000000    manuell   \n",
       "365461                      3       5000    benzin  377.000000    manuell   \n",
       "\n",
       "       not_repaired_damage   abtest     price  \n",
       "1846                  nein  control    579000  \n",
       "16889                   ja  control   1000000  \n",
       "20143                 nein     test   1250000  \n",
       "21467                 nein  control   9999999  \n",
       "26327                 nein     test    600000  \n",
       "45833                 nein  control   1000000  \n",
       "53507                 nein     test   1000000  \n",
       "54295                 nein  control  10000000  \n",
       "78480                 nein     test   1250000  \n",
       "85047                 nein     test    911911  \n",
       "91106                 nein     test   9999999  \n",
       "118058                nein     test    517895  \n",
       "118143                nein     test    745000  \n",
       "118233                nein     test    999999  \n",
       "127820                nein     test  99999999  \n",
       "136495                nein     test    585000  \n",
       "137856                nein  control    619000  \n",
       "139052                  ja  control  99999999  \n",
       "161773                nein  control    600000  \n",
       "194217                nein     test    849000  \n",
       "210657                nein     test  11111111  \n",
       "241847                nein  control  12345678  \n",
       "251980                nein     test  99000000  \n",
       "279937                nein  control  14000500  \n",
       "287835                nein     test  12345678  \n",
       "306469                  ja  control   1000000  \n",
       "312909                nein     test    999999  \n",
       "344196                nein  control    745000  \n",
       "359083                  ja     test    999990  \n",
       "365461                nein  control    599000  "
      ]
     },
     "execution_count": 37,
     "metadata": {},
     "output_type": "execute_result"
    }
   ],
   "source": [
    "car_data[car_data.price>500000]"
   ]
  },
  {
   "cell_type": "markdown",
   "metadata": {},
   "source": [
    "There are basically some cars that have overestimated prices so I will remove them completely from the dataset, although not all of the results above are with overestimated price."
   ]
  },
  {
   "cell_type": "code",
   "execution_count": 38,
   "metadata": {},
   "outputs": [],
   "source": [
    "car_data = car_data[car_data[\"price\"]<500000]"
   ]
  },
  {
   "cell_type": "markdown",
   "metadata": {},
   "source": [
    "Now I want to check whether there are any selling ads with too low value for required price. This will also distort real data and will influence my model. We can assume that those cars are being given as a gift, because the Ebay Kleinanzeigen has the option to give away unnecessary subjects (incl. cars). However, my goal here is to create a working model which predicts the car price as accurate as possible and all these values with 0 price will definitely distort the data for my model. On the other side replacing with the mean will overestimate the values, because there will be definitely cars that cost 200 - 1000 euro or are being given away. Thus, I will replace all low values with the half of the mean."
   ]
  },
  {
   "cell_type": "code",
   "execution_count": 39,
   "metadata": {},
   "outputs": [
    {
     "data": {
      "text/html": [
       "<div>\n",
       "<style scoped>\n",
       "    .dataframe tbody tr th:only-of-type {\n",
       "        vertical-align: middle;\n",
       "    }\n",
       "\n",
       "    .dataframe tbody tr th {\n",
       "        vertical-align: top;\n",
       "    }\n",
       "\n",
       "    .dataframe thead th {\n",
       "        text-align: right;\n",
       "    }\n",
       "</style>\n",
       "<table border=\"1\" class=\"dataframe\">\n",
       "  <thead>\n",
       "    <tr style=\"text-align: right;\">\n",
       "      <th></th>\n",
       "      <th>brand</th>\n",
       "      <th>model</th>\n",
       "      <th>vehicle_type</th>\n",
       "      <th>year_of_registration</th>\n",
       "      <th>month_of_registration</th>\n",
       "      <th>kilometer</th>\n",
       "      <th>fuel_type</th>\n",
       "      <th>power_ps</th>\n",
       "      <th>gearbox</th>\n",
       "      <th>not_repaired_damage</th>\n",
       "      <th>abtest</th>\n",
       "      <th>price</th>\n",
       "    </tr>\n",
       "  </thead>\n",
       "  <tbody>\n",
       "    <tr>\n",
       "      <th>7</th>\n",
       "      <td>volkswagen</td>\n",
       "      <td>andere</td>\n",
       "      <td>limousine</td>\n",
       "      <td>1980</td>\n",
       "      <td>7</td>\n",
       "      <td>40000</td>\n",
       "      <td>benzin</td>\n",
       "      <td>50.000000</td>\n",
       "      <td>manuell</td>\n",
       "      <td>nein</td>\n",
       "      <td>test</td>\n",
       "      <td>0</td>\n",
       "    </tr>\n",
       "    <tr>\n",
       "      <th>91</th>\n",
       "      <td>mercedes_benz</td>\n",
       "      <td>e_klasse</td>\n",
       "      <td>limousine</td>\n",
       "      <td>1995</td>\n",
       "      <td>4</td>\n",
       "      <td>150000</td>\n",
       "      <td>diesel</td>\n",
       "      <td>113.000000</td>\n",
       "      <td>manuell</td>\n",
       "      <td>nein</td>\n",
       "      <td>control</td>\n",
       "      <td>1</td>\n",
       "    </tr>\n",
       "    <tr>\n",
       "      <th>157</th>\n",
       "      <td>opel</td>\n",
       "      <td>meriva</td>\n",
       "      <td>bus</td>\n",
       "      <td>2004</td>\n",
       "      <td>10</td>\n",
       "      <td>150000</td>\n",
       "      <td>lpg</td>\n",
       "      <td>101.000000</td>\n",
       "      <td>manuell</td>\n",
       "      <td>ja</td>\n",
       "      <td>test</td>\n",
       "      <td>0</td>\n",
       "    </tr>\n",
       "    <tr>\n",
       "      <th>279</th>\n",
       "      <td>audi</td>\n",
       "      <td>80</td>\n",
       "      <td>limousine</td>\n",
       "      <td>1990</td>\n",
       "      <td>6</td>\n",
       "      <td>70000</td>\n",
       "      <td>benzin</td>\n",
       "      <td>90.000000</td>\n",
       "      <td>manuell</td>\n",
       "      <td>nein</td>\n",
       "      <td>test</td>\n",
       "      <td>1</td>\n",
       "    </tr>\n",
       "    <tr>\n",
       "      <th>604</th>\n",
       "      <td>bmw</td>\n",
       "      <td>5er</td>\n",
       "      <td>limousine</td>\n",
       "      <td>1996</td>\n",
       "      <td>0</td>\n",
       "      <td>150000</td>\n",
       "      <td>benzin</td>\n",
       "      <td>170.000000</td>\n",
       "      <td>manuell</td>\n",
       "      <td>nein</td>\n",
       "      <td>test</td>\n",
       "      <td>0</td>\n",
       "    </tr>\n",
       "    <tr>\n",
       "      <th>642</th>\n",
       "      <td>volkswagen</td>\n",
       "      <td>polo</td>\n",
       "      <td>limousine</td>\n",
       "      <td>1998</td>\n",
       "      <td>0</td>\n",
       "      <td>150000</td>\n",
       "      <td>benzin</td>\n",
       "      <td>75.000000</td>\n",
       "      <td>manuell</td>\n",
       "      <td>ja</td>\n",
       "      <td>test</td>\n",
       "      <td>0</td>\n",
       "    </tr>\n",
       "    <tr>\n",
       "      <th>897</th>\n",
       "      <td>audi</td>\n",
       "      <td>a6</td>\n",
       "      <td>kombi</td>\n",
       "      <td>2009</td>\n",
       "      <td>1</td>\n",
       "      <td>150000</td>\n",
       "      <td>diesel</td>\n",
       "      <td>170.000000</td>\n",
       "      <td>manuell</td>\n",
       "      <td>ja</td>\n",
       "      <td>test</td>\n",
       "      <td>0</td>\n",
       "    </tr>\n",
       "    <tr>\n",
       "      <th>985</th>\n",
       "      <td>suzuki</td>\n",
       "      <td>swift</td>\n",
       "      <td>kleinwagen</td>\n",
       "      <td>1997</td>\n",
       "      <td>7</td>\n",
       "      <td>150000</td>\n",
       "      <td>benzin</td>\n",
       "      <td>53.000000</td>\n",
       "      <td>manuell</td>\n",
       "      <td>nein</td>\n",
       "      <td>test</td>\n",
       "      <td>98</td>\n",
       "    </tr>\n",
       "    <tr>\n",
       "      <th>992</th>\n",
       "      <td>opel</td>\n",
       "      <td>corsa</td>\n",
       "      <td>kleinwagen</td>\n",
       "      <td>2000</td>\n",
       "      <td>5</td>\n",
       "      <td>150000</td>\n",
       "      <td>benzin</td>\n",
       "      <td>123.342719</td>\n",
       "      <td>manuell</td>\n",
       "      <td>nein</td>\n",
       "      <td>control</td>\n",
       "      <td>0</td>\n",
       "    </tr>\n",
       "    <tr>\n",
       "      <th>1011</th>\n",
       "      <td>opel</td>\n",
       "      <td>omega</td>\n",
       "      <td>kombi</td>\n",
       "      <td>1998</td>\n",
       "      <td>0</td>\n",
       "      <td>150000</td>\n",
       "      <td>benzin</td>\n",
       "      <td>136.000000</td>\n",
       "      <td>manuell</td>\n",
       "      <td>nein</td>\n",
       "      <td>test</td>\n",
       "      <td>1</td>\n",
       "    </tr>\n",
       "    <tr>\n",
       "      <th>1078</th>\n",
       "      <td>fiat</td>\n",
       "      <td>stilo</td>\n",
       "      <td>kleinwagen</td>\n",
       "      <td>2003</td>\n",
       "      <td>3</td>\n",
       "      <td>150000</td>\n",
       "      <td>benzin</td>\n",
       "      <td>170.000000</td>\n",
       "      <td>automatik</td>\n",
       "      <td>nein</td>\n",
       "      <td>test</td>\n",
       "      <td>0</td>\n",
       "    </tr>\n",
       "    <tr>\n",
       "      <th>1080</th>\n",
       "      <td>renault</td>\n",
       "      <td>espace</td>\n",
       "      <td>limousine</td>\n",
       "      <td>1999</td>\n",
       "      <td>3</td>\n",
       "      <td>150000</td>\n",
       "      <td>benzin</td>\n",
       "      <td>123.342719</td>\n",
       "      <td>manuell</td>\n",
       "      <td>nein</td>\n",
       "      <td>test</td>\n",
       "      <td>0</td>\n",
       "    </tr>\n",
       "    <tr>\n",
       "      <th>1183</th>\n",
       "      <td>seat</td>\n",
       "      <td>andere</td>\n",
       "      <td>andere</td>\n",
       "      <td>2002</td>\n",
       "      <td>2</td>\n",
       "      <td>150000</td>\n",
       "      <td>diesel</td>\n",
       "      <td>64.000000</td>\n",
       "      <td>manuell</td>\n",
       "      <td>nein</td>\n",
       "      <td>test</td>\n",
       "      <td>0</td>\n",
       "    </tr>\n",
       "    <tr>\n",
       "      <th>1194</th>\n",
       "      <td>volkswagen</td>\n",
       "      <td>sharan</td>\n",
       "      <td>bus</td>\n",
       "      <td>1996</td>\n",
       "      <td>12</td>\n",
       "      <td>150000</td>\n",
       "      <td>diesel</td>\n",
       "      <td>113.000000</td>\n",
       "      <td>manuell</td>\n",
       "      <td>nein</td>\n",
       "      <td>test</td>\n",
       "      <td>0</td>\n",
       "    </tr>\n",
       "    <tr>\n",
       "      <th>1344</th>\n",
       "      <td>kia</td>\n",
       "      <td>rio</td>\n",
       "      <td>kleinwagen</td>\n",
       "      <td>2012</td>\n",
       "      <td>7</td>\n",
       "      <td>90000</td>\n",
       "      <td>diesel</td>\n",
       "      <td>90.000000</td>\n",
       "      <td>manuell</td>\n",
       "      <td>nein</td>\n",
       "      <td>test</td>\n",
       "      <td>0</td>\n",
       "    </tr>\n",
       "    <tr>\n",
       "      <th>1487</th>\n",
       "      <td>seat</td>\n",
       "      <td>alhambra</td>\n",
       "      <td>bus</td>\n",
       "      <td>2001</td>\n",
       "      <td>10</td>\n",
       "      <td>150000</td>\n",
       "      <td>diesel</td>\n",
       "      <td>116.000000</td>\n",
       "      <td>manuell</td>\n",
       "      <td>nein</td>\n",
       "      <td>test</td>\n",
       "      <td>0</td>\n",
       "    </tr>\n",
       "    <tr>\n",
       "      <th>1491</th>\n",
       "      <td>renault</td>\n",
       "      <td>clio</td>\n",
       "      <td>kleinwagen</td>\n",
       "      <td>1999</td>\n",
       "      <td>7</td>\n",
       "      <td>150000</td>\n",
       "      <td>benzin</td>\n",
       "      <td>58.000000</td>\n",
       "      <td>manuell</td>\n",
       "      <td>ja</td>\n",
       "      <td>test</td>\n",
       "      <td>0</td>\n",
       "    </tr>\n",
       "    <tr>\n",
       "      <th>1725</th>\n",
       "      <td>smart</td>\n",
       "      <td>fortwo</td>\n",
       "      <td>kleinwagen</td>\n",
       "      <td>2001</td>\n",
       "      <td>3</td>\n",
       "      <td>90000</td>\n",
       "      <td>benzin</td>\n",
       "      <td>123.342719</td>\n",
       "      <td>automatik</td>\n",
       "      <td>nein</td>\n",
       "      <td>control</td>\n",
       "      <td>0</td>\n",
       "    </tr>\n",
       "    <tr>\n",
       "      <th>1793</th>\n",
       "      <td>renault</td>\n",
       "      <td>laguna</td>\n",
       "      <td>limousine</td>\n",
       "      <td>1997</td>\n",
       "      <td>7</td>\n",
       "      <td>150000</td>\n",
       "      <td>lpg</td>\n",
       "      <td>115.000000</td>\n",
       "      <td>manuell</td>\n",
       "      <td>ja</td>\n",
       "      <td>control</td>\n",
       "      <td>0</td>\n",
       "    </tr>\n",
       "    <tr>\n",
       "      <th>1996</th>\n",
       "      <td>jaguar</td>\n",
       "      <td>x_type</td>\n",
       "      <td>limousine</td>\n",
       "      <td>2013</td>\n",
       "      <td>9</td>\n",
       "      <td>30000</td>\n",
       "      <td>diesel</td>\n",
       "      <td>241.000000</td>\n",
       "      <td>automatik</td>\n",
       "      <td>nein</td>\n",
       "      <td>test</td>\n",
       "      <td>1</td>\n",
       "    </tr>\n",
       "    <tr>\n",
       "      <th>2036</th>\n",
       "      <td>bmw</td>\n",
       "      <td>3er</td>\n",
       "      <td>limousine</td>\n",
       "      <td>2006</td>\n",
       "      <td>12</td>\n",
       "      <td>150000</td>\n",
       "      <td>benzin</td>\n",
       "      <td>123.342719</td>\n",
       "      <td>manuell</td>\n",
       "      <td>nein</td>\n",
       "      <td>test</td>\n",
       "      <td>0</td>\n",
       "    </tr>\n",
       "    <tr>\n",
       "      <th>2056</th>\n",
       "      <td>peugeot</td>\n",
       "      <td>4_reihe</td>\n",
       "      <td>coupe</td>\n",
       "      <td>2006</td>\n",
       "      <td>6</td>\n",
       "      <td>150000</td>\n",
       "      <td>benzin</td>\n",
       "      <td>163.000000</td>\n",
       "      <td>manuell</td>\n",
       "      <td>nein</td>\n",
       "      <td>control</td>\n",
       "      <td>0</td>\n",
       "    </tr>\n",
       "    <tr>\n",
       "      <th>2062</th>\n",
       "      <td>mercedes_benz</td>\n",
       "      <td>e_klasse</td>\n",
       "      <td>limousine</td>\n",
       "      <td>1996</td>\n",
       "      <td>2</td>\n",
       "      <td>150000</td>\n",
       "      <td>diesel</td>\n",
       "      <td>96.000000</td>\n",
       "      <td>manuell</td>\n",
       "      <td>ja</td>\n",
       "      <td>test</td>\n",
       "      <td>0</td>\n",
       "    </tr>\n",
       "    <tr>\n",
       "      <th>2128</th>\n",
       "      <td>bmw</td>\n",
       "      <td>3er</td>\n",
       "      <td>limousine</td>\n",
       "      <td>1989</td>\n",
       "      <td>0</td>\n",
       "      <td>150000</td>\n",
       "      <td>benzin</td>\n",
       "      <td>231.000000</td>\n",
       "      <td>manuell</td>\n",
       "      <td>ja</td>\n",
       "      <td>test</td>\n",
       "      <td>0</td>\n",
       "    </tr>\n",
       "    <tr>\n",
       "      <th>2153</th>\n",
       "      <td>mercedes_benz</td>\n",
       "      <td>c_klasse</td>\n",
       "      <td>coupe</td>\n",
       "      <td>2002</td>\n",
       "      <td>6</td>\n",
       "      <td>150000</td>\n",
       "      <td>benzin</td>\n",
       "      <td>129.000000</td>\n",
       "      <td>manuell</td>\n",
       "      <td>nein</td>\n",
       "      <td>control</td>\n",
       "      <td>0</td>\n",
       "    </tr>\n",
       "    <tr>\n",
       "      <th>2268</th>\n",
       "      <td>mercedes_benz</td>\n",
       "      <td>c_klasse</td>\n",
       "      <td>coupe</td>\n",
       "      <td>2002</td>\n",
       "      <td>2</td>\n",
       "      <td>150000</td>\n",
       "      <td>benzin</td>\n",
       "      <td>129.000000</td>\n",
       "      <td>manuell</td>\n",
       "      <td>nein</td>\n",
       "      <td>control</td>\n",
       "      <td>0</td>\n",
       "    </tr>\n",
       "    <tr>\n",
       "      <th>2502</th>\n",
       "      <td>volkswagen</td>\n",
       "      <td>scirocco</td>\n",
       "      <td>andere</td>\n",
       "      <td>2011</td>\n",
       "      <td>11</td>\n",
       "      <td>125000</td>\n",
       "      <td>benzin</td>\n",
       "      <td>122.000000</td>\n",
       "      <td>manuell</td>\n",
       "      <td>nein</td>\n",
       "      <td>test</td>\n",
       "      <td>0</td>\n",
       "    </tr>\n",
       "    <tr>\n",
       "      <th>2753</th>\n",
       "      <td>volkswagen</td>\n",
       "      <td>golf</td>\n",
       "      <td>kleinwagen</td>\n",
       "      <td>1998</td>\n",
       "      <td>5</td>\n",
       "      <td>150000</td>\n",
       "      <td>benzin</td>\n",
       "      <td>75.000000</td>\n",
       "      <td>manuell</td>\n",
       "      <td>nein</td>\n",
       "      <td>control</td>\n",
       "      <td>1</td>\n",
       "    </tr>\n",
       "    <tr>\n",
       "      <th>2811</th>\n",
       "      <td>renault</td>\n",
       "      <td>twingo</td>\n",
       "      <td>kleinwagen</td>\n",
       "      <td>2001</td>\n",
       "      <td>0</td>\n",
       "      <td>150000</td>\n",
       "      <td>benzin</td>\n",
       "      <td>123.342719</td>\n",
       "      <td>manuell</td>\n",
       "      <td>ja</td>\n",
       "      <td>test</td>\n",
       "      <td>90</td>\n",
       "    </tr>\n",
       "    <tr>\n",
       "      <th>2871</th>\n",
       "      <td>opel</td>\n",
       "      <td>astra</td>\n",
       "      <td>limousine</td>\n",
       "      <td>1999</td>\n",
       "      <td>5</td>\n",
       "      <td>150000</td>\n",
       "      <td>benzin</td>\n",
       "      <td>100.000000</td>\n",
       "      <td>manuell</td>\n",
       "      <td>ja</td>\n",
       "      <td>control</td>\n",
       "      <td>0</td>\n",
       "    </tr>\n",
       "    <tr>\n",
       "      <th>...</th>\n",
       "      <td>...</td>\n",
       "      <td>...</td>\n",
       "      <td>...</td>\n",
       "      <td>...</td>\n",
       "      <td>...</td>\n",
       "      <td>...</td>\n",
       "      <td>...</td>\n",
       "      <td>...</td>\n",
       "      <td>...</td>\n",
       "      <td>...</td>\n",
       "      <td>...</td>\n",
       "      <td>...</td>\n",
       "    </tr>\n",
       "    <tr>\n",
       "      <th>368504</th>\n",
       "      <td>opel</td>\n",
       "      <td>calibra</td>\n",
       "      <td>coupe</td>\n",
       "      <td>1992</td>\n",
       "      <td>10</td>\n",
       "      <td>150000</td>\n",
       "      <td>benzin</td>\n",
       "      <td>116.000000</td>\n",
       "      <td>manuell</td>\n",
       "      <td>nein</td>\n",
       "      <td>test</td>\n",
       "      <td>0</td>\n",
       "    </tr>\n",
       "    <tr>\n",
       "      <th>368759</th>\n",
       "      <td>volkswagen</td>\n",
       "      <td>golf</td>\n",
       "      <td>limousine</td>\n",
       "      <td>1998</td>\n",
       "      <td>5</td>\n",
       "      <td>150000</td>\n",
       "      <td>benzin</td>\n",
       "      <td>101.000000</td>\n",
       "      <td>manuell</td>\n",
       "      <td>nein</td>\n",
       "      <td>control</td>\n",
       "      <td>0</td>\n",
       "    </tr>\n",
       "    <tr>\n",
       "      <th>368983</th>\n",
       "      <td>bmw</td>\n",
       "      <td>5er</td>\n",
       "      <td>limousine</td>\n",
       "      <td>2010</td>\n",
       "      <td>8</td>\n",
       "      <td>150000</td>\n",
       "      <td>diesel</td>\n",
       "      <td>245.000000</td>\n",
       "      <td>automatik</td>\n",
       "      <td>ja</td>\n",
       "      <td>test</td>\n",
       "      <td>0</td>\n",
       "    </tr>\n",
       "    <tr>\n",
       "      <th>368998</th>\n",
       "      <td>audi</td>\n",
       "      <td>a4</td>\n",
       "      <td>limousine</td>\n",
       "      <td>1995</td>\n",
       "      <td>11</td>\n",
       "      <td>150000</td>\n",
       "      <td>benzin</td>\n",
       "      <td>101.000000</td>\n",
       "      <td>manuell</td>\n",
       "      <td>ja</td>\n",
       "      <td>control</td>\n",
       "      <td>0</td>\n",
       "    </tr>\n",
       "    <tr>\n",
       "      <th>369011</th>\n",
       "      <td>opel</td>\n",
       "      <td>astra</td>\n",
       "      <td>coupe</td>\n",
       "      <td>1999</td>\n",
       "      <td>12</td>\n",
       "      <td>150000</td>\n",
       "      <td>benzin</td>\n",
       "      <td>102.000000</td>\n",
       "      <td>automatik</td>\n",
       "      <td>nein</td>\n",
       "      <td>control</td>\n",
       "      <td>1</td>\n",
       "    </tr>\n",
       "    <tr>\n",
       "      <th>369227</th>\n",
       "      <td>opel</td>\n",
       "      <td>corsa</td>\n",
       "      <td>kleinwagen</td>\n",
       "      <td>2006</td>\n",
       "      <td>4</td>\n",
       "      <td>150000</td>\n",
       "      <td>benzin</td>\n",
       "      <td>60.000000</td>\n",
       "      <td>manuell</td>\n",
       "      <td>ja</td>\n",
       "      <td>test</td>\n",
       "      <td>0</td>\n",
       "    </tr>\n",
       "    <tr>\n",
       "      <th>369747</th>\n",
       "      <td>opel</td>\n",
       "      <td>astra</td>\n",
       "      <td>kleinwagen</td>\n",
       "      <td>1996</td>\n",
       "      <td>5</td>\n",
       "      <td>150000</td>\n",
       "      <td>benzin</td>\n",
       "      <td>75.000000</td>\n",
       "      <td>manuell</td>\n",
       "      <td>nein</td>\n",
       "      <td>test</td>\n",
       "      <td>0</td>\n",
       "    </tr>\n",
       "    <tr>\n",
       "      <th>369775</th>\n",
       "      <td>opel</td>\n",
       "      <td>astra</td>\n",
       "      <td>cabrio</td>\n",
       "      <td>2006</td>\n",
       "      <td>8</td>\n",
       "      <td>150000</td>\n",
       "      <td>diesel</td>\n",
       "      <td>150.000000</td>\n",
       "      <td>manuell</td>\n",
       "      <td>nein</td>\n",
       "      <td>test</td>\n",
       "      <td>0</td>\n",
       "    </tr>\n",
       "    <tr>\n",
       "      <th>369981</th>\n",
       "      <td>nissan</td>\n",
       "      <td>andere</td>\n",
       "      <td>bus</td>\n",
       "      <td>2005</td>\n",
       "      <td>2</td>\n",
       "      <td>150000</td>\n",
       "      <td>diesel</td>\n",
       "      <td>101.000000</td>\n",
       "      <td>manuell</td>\n",
       "      <td>ja</td>\n",
       "      <td>test</td>\n",
       "      <td>1</td>\n",
       "    </tr>\n",
       "    <tr>\n",
       "      <th>370012</th>\n",
       "      <td>volkswagen</td>\n",
       "      <td>polo</td>\n",
       "      <td>kleinwagen</td>\n",
       "      <td>1998</td>\n",
       "      <td>11</td>\n",
       "      <td>150000</td>\n",
       "      <td>benzin</td>\n",
       "      <td>125.000000</td>\n",
       "      <td>manuell</td>\n",
       "      <td>nein</td>\n",
       "      <td>control</td>\n",
       "      <td>1</td>\n",
       "    </tr>\n",
       "    <tr>\n",
       "      <th>370079</th>\n",
       "      <td>mercedes_benz</td>\n",
       "      <td>e_klasse</td>\n",
       "      <td>limousine</td>\n",
       "      <td>1991</td>\n",
       "      <td>6</td>\n",
       "      <td>150000</td>\n",
       "      <td>diesel</td>\n",
       "      <td>123.342719</td>\n",
       "      <td>manuell</td>\n",
       "      <td>nein</td>\n",
       "      <td>test</td>\n",
       "      <td>0</td>\n",
       "    </tr>\n",
       "    <tr>\n",
       "      <th>370093</th>\n",
       "      <td>bmw</td>\n",
       "      <td>3er</td>\n",
       "      <td>cabrio</td>\n",
       "      <td>1990</td>\n",
       "      <td>12</td>\n",
       "      <td>150000</td>\n",
       "      <td>benzin</td>\n",
       "      <td>123.342719</td>\n",
       "      <td>NaN</td>\n",
       "      <td>ja</td>\n",
       "      <td>control</td>\n",
       "      <td>0</td>\n",
       "    </tr>\n",
       "    <tr>\n",
       "      <th>370175</th>\n",
       "      <td>mini</td>\n",
       "      <td>cooper</td>\n",
       "      <td>coupe</td>\n",
       "      <td>2004</td>\n",
       "      <td>5</td>\n",
       "      <td>150000</td>\n",
       "      <td>benzin</td>\n",
       "      <td>163.000000</td>\n",
       "      <td>manuell</td>\n",
       "      <td>nein</td>\n",
       "      <td>test</td>\n",
       "      <td>0</td>\n",
       "    </tr>\n",
       "    <tr>\n",
       "      <th>370262</th>\n",
       "      <td>bmw</td>\n",
       "      <td>3er</td>\n",
       "      <td>kombi</td>\n",
       "      <td>2007</td>\n",
       "      <td>6</td>\n",
       "      <td>150000</td>\n",
       "      <td>diesel</td>\n",
       "      <td>200.000000</td>\n",
       "      <td>automatik</td>\n",
       "      <td>nein</td>\n",
       "      <td>control</td>\n",
       "      <td>1</td>\n",
       "    </tr>\n",
       "    <tr>\n",
       "      <th>370336</th>\n",
       "      <td>volkswagen</td>\n",
       "      <td>polo</td>\n",
       "      <td>coupe</td>\n",
       "      <td>1998</td>\n",
       "      <td>4</td>\n",
       "      <td>150000</td>\n",
       "      <td>benzin</td>\n",
       "      <td>125.000000</td>\n",
       "      <td>manuell</td>\n",
       "      <td>nein</td>\n",
       "      <td>test</td>\n",
       "      <td>0</td>\n",
       "    </tr>\n",
       "    <tr>\n",
       "      <th>370362</th>\n",
       "      <td>volkswagen</td>\n",
       "      <td>polo</td>\n",
       "      <td>coupe</td>\n",
       "      <td>1990</td>\n",
       "      <td>0</td>\n",
       "      <td>150000</td>\n",
       "      <td>benzin</td>\n",
       "      <td>45.000000</td>\n",
       "      <td>manuell</td>\n",
       "      <td>nein</td>\n",
       "      <td>control</td>\n",
       "      <td>1</td>\n",
       "    </tr>\n",
       "    <tr>\n",
       "      <th>370476</th>\n",
       "      <td>audi</td>\n",
       "      <td>a3</td>\n",
       "      <td>kleinwagen</td>\n",
       "      <td>1997</td>\n",
       "      <td>1</td>\n",
       "      <td>150000</td>\n",
       "      <td>benzin</td>\n",
       "      <td>125.000000</td>\n",
       "      <td>manuell</td>\n",
       "      <td>nein</td>\n",
       "      <td>test</td>\n",
       "      <td>0</td>\n",
       "    </tr>\n",
       "    <tr>\n",
       "      <th>370498</th>\n",
       "      <td>fiat</td>\n",
       "      <td>panda</td>\n",
       "      <td>kleinwagen</td>\n",
       "      <td>1998</td>\n",
       "      <td>0</td>\n",
       "      <td>150000</td>\n",
       "      <td>benzin</td>\n",
       "      <td>85.000000</td>\n",
       "      <td>manuell</td>\n",
       "      <td>ja</td>\n",
       "      <td>control</td>\n",
       "      <td>0</td>\n",
       "    </tr>\n",
       "    <tr>\n",
       "      <th>370511</th>\n",
       "      <td>volkswagen</td>\n",
       "      <td>transporter</td>\n",
       "      <td>bus</td>\n",
       "      <td>1996</td>\n",
       "      <td>0</td>\n",
       "      <td>150000</td>\n",
       "      <td>benzin</td>\n",
       "      <td>110.000000</td>\n",
       "      <td>automatik</td>\n",
       "      <td>nein</td>\n",
       "      <td>test</td>\n",
       "      <td>0</td>\n",
       "    </tr>\n",
       "    <tr>\n",
       "      <th>370530</th>\n",
       "      <td>ford</td>\n",
       "      <td>mondeo</td>\n",
       "      <td>kombi</td>\n",
       "      <td>1998</td>\n",
       "      <td>3</td>\n",
       "      <td>20000</td>\n",
       "      <td>benzin</td>\n",
       "      <td>115.000000</td>\n",
       "      <td>manuell</td>\n",
       "      <td>nein</td>\n",
       "      <td>test</td>\n",
       "      <td>0</td>\n",
       "    </tr>\n",
       "    <tr>\n",
       "      <th>370633</th>\n",
       "      <td>ford</td>\n",
       "      <td>fiesta</td>\n",
       "      <td>kleinwagen</td>\n",
       "      <td>1996</td>\n",
       "      <td>11</td>\n",
       "      <td>100000</td>\n",
       "      <td>benzin</td>\n",
       "      <td>123.342719</td>\n",
       "      <td>manuell</td>\n",
       "      <td>ja</td>\n",
       "      <td>control</td>\n",
       "      <td>0</td>\n",
       "    </tr>\n",
       "    <tr>\n",
       "      <th>370705</th>\n",
       "      <td>audi</td>\n",
       "      <td>a3</td>\n",
       "      <td>coupe</td>\n",
       "      <td>1999</td>\n",
       "      <td>1</td>\n",
       "      <td>150000</td>\n",
       "      <td>benzin</td>\n",
       "      <td>101.000000</td>\n",
       "      <td>manuell</td>\n",
       "      <td>nein</td>\n",
       "      <td>test</td>\n",
       "      <td>0</td>\n",
       "    </tr>\n",
       "    <tr>\n",
       "      <th>370801</th>\n",
       "      <td>citroen</td>\n",
       "      <td>andere</td>\n",
       "      <td>kleinwagen</td>\n",
       "      <td>1998</td>\n",
       "      <td>8</td>\n",
       "      <td>150000</td>\n",
       "      <td>benzin</td>\n",
       "      <td>60.000000</td>\n",
       "      <td>manuell</td>\n",
       "      <td>ja</td>\n",
       "      <td>test</td>\n",
       "      <td>90</td>\n",
       "    </tr>\n",
       "    <tr>\n",
       "      <th>371000</th>\n",
       "      <td>ford</td>\n",
       "      <td>mondeo</td>\n",
       "      <td>limousine</td>\n",
       "      <td>1995</td>\n",
       "      <td>1</td>\n",
       "      <td>100000</td>\n",
       "      <td>benzin</td>\n",
       "      <td>90.000000</td>\n",
       "      <td>manuell</td>\n",
       "      <td>nein</td>\n",
       "      <td>control</td>\n",
       "      <td>0</td>\n",
       "    </tr>\n",
       "    <tr>\n",
       "      <th>371019</th>\n",
       "      <td>volkswagen</td>\n",
       "      <td>polo</td>\n",
       "      <td>kleinwagen</td>\n",
       "      <td>1996</td>\n",
       "      <td>8</td>\n",
       "      <td>150000</td>\n",
       "      <td>benzin</td>\n",
       "      <td>45.000000</td>\n",
       "      <td>manuell</td>\n",
       "      <td>ja</td>\n",
       "      <td>test</td>\n",
       "      <td>0</td>\n",
       "    </tr>\n",
       "    <tr>\n",
       "      <th>371081</th>\n",
       "      <td>volkswagen</td>\n",
       "      <td>golf</td>\n",
       "      <td>limousine</td>\n",
       "      <td>1999</td>\n",
       "      <td>10</td>\n",
       "      <td>125000</td>\n",
       "      <td>benzin</td>\n",
       "      <td>150.000000</td>\n",
       "      <td>manuell</td>\n",
       "      <td>nein</td>\n",
       "      <td>control</td>\n",
       "      <td>0</td>\n",
       "    </tr>\n",
       "    <tr>\n",
       "      <th>371134</th>\n",
       "      <td>audi</td>\n",
       "      <td>100</td>\n",
       "      <td>limousine</td>\n",
       "      <td>1991</td>\n",
       "      <td>6</td>\n",
       "      <td>150000</td>\n",
       "      <td>benzin</td>\n",
       "      <td>133.000000</td>\n",
       "      <td>manuell</td>\n",
       "      <td>nein</td>\n",
       "      <td>test</td>\n",
       "      <td>0</td>\n",
       "    </tr>\n",
       "    <tr>\n",
       "      <th>371270</th>\n",
       "      <td>volkswagen</td>\n",
       "      <td>golf</td>\n",
       "      <td>kleinwagen</td>\n",
       "      <td>2004</td>\n",
       "      <td>0</td>\n",
       "      <td>150000</td>\n",
       "      <td>benzin</td>\n",
       "      <td>200.000000</td>\n",
       "      <td>manuell</td>\n",
       "      <td>nein</td>\n",
       "      <td>control</td>\n",
       "      <td>0</td>\n",
       "    </tr>\n",
       "    <tr>\n",
       "      <th>371431</th>\n",
       "      <td>seat</td>\n",
       "      <td>arosa</td>\n",
       "      <td>kleinwagen</td>\n",
       "      <td>1999</td>\n",
       "      <td>7</td>\n",
       "      <td>150000</td>\n",
       "      <td>benzin</td>\n",
       "      <td>37.000000</td>\n",
       "      <td>manuell</td>\n",
       "      <td>ja</td>\n",
       "      <td>control</td>\n",
       "      <td>0</td>\n",
       "    </tr>\n",
       "    <tr>\n",
       "      <th>371464</th>\n",
       "      <td>seat</td>\n",
       "      <td>arosa</td>\n",
       "      <td>kleinwagen</td>\n",
       "      <td>1999</td>\n",
       "      <td>1</td>\n",
       "      <td>150000</td>\n",
       "      <td>benzin</td>\n",
       "      <td>60.000000</td>\n",
       "      <td>manuell</td>\n",
       "      <td>ja</td>\n",
       "      <td>test</td>\n",
       "      <td>99</td>\n",
       "    </tr>\n",
       "  </tbody>\n",
       "</table>\n",
       "<p>4117 rows × 12 columns</p>\n",
       "</div>"
      ],
      "text/plain": [
       "                brand        model vehicle_type  year_of_registration  \\\n",
       "7          volkswagen       andere    limousine                  1980   \n",
       "91      mercedes_benz     e_klasse    limousine                  1995   \n",
       "157              opel       meriva          bus                  2004   \n",
       "279              audi           80    limousine                  1990   \n",
       "604               bmw          5er    limousine                  1996   \n",
       "642        volkswagen         polo    limousine                  1998   \n",
       "897              audi           a6        kombi                  2009   \n",
       "985            suzuki        swift   kleinwagen                  1997   \n",
       "992              opel        corsa   kleinwagen                  2000   \n",
       "1011             opel        omega        kombi                  1998   \n",
       "1078             fiat        stilo   kleinwagen                  2003   \n",
       "1080          renault       espace    limousine                  1999   \n",
       "1183             seat       andere       andere                  2002   \n",
       "1194       volkswagen       sharan          bus                  1996   \n",
       "1344              kia          rio   kleinwagen                  2012   \n",
       "1487             seat     alhambra          bus                  2001   \n",
       "1491          renault         clio   kleinwagen                  1999   \n",
       "1725            smart       fortwo   kleinwagen                  2001   \n",
       "1793          renault       laguna    limousine                  1997   \n",
       "1996           jaguar       x_type    limousine                  2013   \n",
       "2036              bmw          3er    limousine                  2006   \n",
       "2056          peugeot      4_reihe        coupe                  2006   \n",
       "2062    mercedes_benz     e_klasse    limousine                  1996   \n",
       "2128              bmw          3er    limousine                  1989   \n",
       "2153    mercedes_benz     c_klasse        coupe                  2002   \n",
       "2268    mercedes_benz     c_klasse        coupe                  2002   \n",
       "2502       volkswagen     scirocco       andere                  2011   \n",
       "2753       volkswagen         golf   kleinwagen                  1998   \n",
       "2811          renault       twingo   kleinwagen                  2001   \n",
       "2871             opel        astra    limousine                  1999   \n",
       "...               ...          ...          ...                   ...   \n",
       "368504           opel      calibra        coupe                  1992   \n",
       "368759     volkswagen         golf    limousine                  1998   \n",
       "368983            bmw          5er    limousine                  2010   \n",
       "368998           audi           a4    limousine                  1995   \n",
       "369011           opel        astra        coupe                  1999   \n",
       "369227           opel        corsa   kleinwagen                  2006   \n",
       "369747           opel        astra   kleinwagen                  1996   \n",
       "369775           opel        astra       cabrio                  2006   \n",
       "369981         nissan       andere          bus                  2005   \n",
       "370012     volkswagen         polo   kleinwagen                  1998   \n",
       "370079  mercedes_benz     e_klasse    limousine                  1991   \n",
       "370093            bmw          3er       cabrio                  1990   \n",
       "370175           mini       cooper        coupe                  2004   \n",
       "370262            bmw          3er        kombi                  2007   \n",
       "370336     volkswagen         polo        coupe                  1998   \n",
       "370362     volkswagen         polo        coupe                  1990   \n",
       "370476           audi           a3   kleinwagen                  1997   \n",
       "370498           fiat        panda   kleinwagen                  1998   \n",
       "370511     volkswagen  transporter          bus                  1996   \n",
       "370530           ford       mondeo        kombi                  1998   \n",
       "370633           ford       fiesta   kleinwagen                  1996   \n",
       "370705           audi           a3        coupe                  1999   \n",
       "370801        citroen       andere   kleinwagen                  1998   \n",
       "371000           ford       mondeo    limousine                  1995   \n",
       "371019     volkswagen         polo   kleinwagen                  1996   \n",
       "371081     volkswagen         golf    limousine                  1999   \n",
       "371134           audi          100    limousine                  1991   \n",
       "371270     volkswagen         golf   kleinwagen                  2004   \n",
       "371431           seat        arosa   kleinwagen                  1999   \n",
       "371464           seat        arosa   kleinwagen                  1999   \n",
       "\n",
       "        month_of_registration  kilometer fuel_type    power_ps    gearbox  \\\n",
       "7                           7      40000    benzin   50.000000    manuell   \n",
       "91                          4     150000    diesel  113.000000    manuell   \n",
       "157                        10     150000       lpg  101.000000    manuell   \n",
       "279                         6      70000    benzin   90.000000    manuell   \n",
       "604                         0     150000    benzin  170.000000    manuell   \n",
       "642                         0     150000    benzin   75.000000    manuell   \n",
       "897                         1     150000    diesel  170.000000    manuell   \n",
       "985                         7     150000    benzin   53.000000    manuell   \n",
       "992                         5     150000    benzin  123.342719    manuell   \n",
       "1011                        0     150000    benzin  136.000000    manuell   \n",
       "1078                        3     150000    benzin  170.000000  automatik   \n",
       "1080                        3     150000    benzin  123.342719    manuell   \n",
       "1183                        2     150000    diesel   64.000000    manuell   \n",
       "1194                       12     150000    diesel  113.000000    manuell   \n",
       "1344                        7      90000    diesel   90.000000    manuell   \n",
       "1487                       10     150000    diesel  116.000000    manuell   \n",
       "1491                        7     150000    benzin   58.000000    manuell   \n",
       "1725                        3      90000    benzin  123.342719  automatik   \n",
       "1793                        7     150000       lpg  115.000000    manuell   \n",
       "1996                        9      30000    diesel  241.000000  automatik   \n",
       "2036                       12     150000    benzin  123.342719    manuell   \n",
       "2056                        6     150000    benzin  163.000000    manuell   \n",
       "2062                        2     150000    diesel   96.000000    manuell   \n",
       "2128                        0     150000    benzin  231.000000    manuell   \n",
       "2153                        6     150000    benzin  129.000000    manuell   \n",
       "2268                        2     150000    benzin  129.000000    manuell   \n",
       "2502                       11     125000    benzin  122.000000    manuell   \n",
       "2753                        5     150000    benzin   75.000000    manuell   \n",
       "2811                        0     150000    benzin  123.342719    manuell   \n",
       "2871                        5     150000    benzin  100.000000    manuell   \n",
       "...                       ...        ...       ...         ...        ...   \n",
       "368504                     10     150000    benzin  116.000000    manuell   \n",
       "368759                      5     150000    benzin  101.000000    manuell   \n",
       "368983                      8     150000    diesel  245.000000  automatik   \n",
       "368998                     11     150000    benzin  101.000000    manuell   \n",
       "369011                     12     150000    benzin  102.000000  automatik   \n",
       "369227                      4     150000    benzin   60.000000    manuell   \n",
       "369747                      5     150000    benzin   75.000000    manuell   \n",
       "369775                      8     150000    diesel  150.000000    manuell   \n",
       "369981                      2     150000    diesel  101.000000    manuell   \n",
       "370012                     11     150000    benzin  125.000000    manuell   \n",
       "370079                      6     150000    diesel  123.342719    manuell   \n",
       "370093                     12     150000    benzin  123.342719        NaN   \n",
       "370175                      5     150000    benzin  163.000000    manuell   \n",
       "370262                      6     150000    diesel  200.000000  automatik   \n",
       "370336                      4     150000    benzin  125.000000    manuell   \n",
       "370362                      0     150000    benzin   45.000000    manuell   \n",
       "370476                      1     150000    benzin  125.000000    manuell   \n",
       "370498                      0     150000    benzin   85.000000    manuell   \n",
       "370511                      0     150000    benzin  110.000000  automatik   \n",
       "370530                      3      20000    benzin  115.000000    manuell   \n",
       "370633                     11     100000    benzin  123.342719    manuell   \n",
       "370705                      1     150000    benzin  101.000000    manuell   \n",
       "370801                      8     150000    benzin   60.000000    manuell   \n",
       "371000                      1     100000    benzin   90.000000    manuell   \n",
       "371019                      8     150000    benzin   45.000000    manuell   \n",
       "371081                     10     125000    benzin  150.000000    manuell   \n",
       "371134                      6     150000    benzin  133.000000    manuell   \n",
       "371270                      0     150000    benzin  200.000000    manuell   \n",
       "371431                      7     150000    benzin   37.000000    manuell   \n",
       "371464                      1     150000    benzin   60.000000    manuell   \n",
       "\n",
       "       not_repaired_damage   abtest  price  \n",
       "7                     nein     test      0  \n",
       "91                    nein  control      1  \n",
       "157                     ja     test      0  \n",
       "279                   nein     test      1  \n",
       "604                   nein     test      0  \n",
       "642                     ja     test      0  \n",
       "897                     ja     test      0  \n",
       "985                   nein     test     98  \n",
       "992                   nein  control      0  \n",
       "1011                  nein     test      1  \n",
       "1078                  nein     test      0  \n",
       "1080                  nein     test      0  \n",
       "1183                  nein     test      0  \n",
       "1194                  nein     test      0  \n",
       "1344                  nein     test      0  \n",
       "1487                  nein     test      0  \n",
       "1491                    ja     test      0  \n",
       "1725                  nein  control      0  \n",
       "1793                    ja  control      0  \n",
       "1996                  nein     test      1  \n",
       "2036                  nein     test      0  \n",
       "2056                  nein  control      0  \n",
       "2062                    ja     test      0  \n",
       "2128                    ja     test      0  \n",
       "2153                  nein  control      0  \n",
       "2268                  nein  control      0  \n",
       "2502                  nein     test      0  \n",
       "2753                  nein  control      1  \n",
       "2811                    ja     test     90  \n",
       "2871                    ja  control      0  \n",
       "...                    ...      ...    ...  \n",
       "368504                nein     test      0  \n",
       "368759                nein  control      0  \n",
       "368983                  ja     test      0  \n",
       "368998                  ja  control      0  \n",
       "369011                nein  control      1  \n",
       "369227                  ja     test      0  \n",
       "369747                nein     test      0  \n",
       "369775                nein     test      0  \n",
       "369981                  ja     test      1  \n",
       "370012                nein  control      1  \n",
       "370079                nein     test      0  \n",
       "370093                  ja  control      0  \n",
       "370175                nein     test      0  \n",
       "370262                nein  control      1  \n",
       "370336                nein     test      0  \n",
       "370362                nein  control      1  \n",
       "370476                nein     test      0  \n",
       "370498                  ja  control      0  \n",
       "370511                nein     test      0  \n",
       "370530                nein     test      0  \n",
       "370633                  ja  control      0  \n",
       "370705                nein     test      0  \n",
       "370801                  ja     test     90  \n",
       "371000                nein  control      0  \n",
       "371019                  ja     test      0  \n",
       "371081                nein  control      0  \n",
       "371134                nein     test      0  \n",
       "371270                nein  control      0  \n",
       "371431                  ja  control      0  \n",
       "371464                  ja     test     99  \n",
       "\n",
       "[4117 rows x 12 columns]"
      ]
     },
     "execution_count": 39,
     "metadata": {},
     "output_type": "execute_result"
    }
   ],
   "source": [
    "car_data[car_data[\"price\"]<100]"
   ]
  },
  {
   "cell_type": "code",
   "execution_count": 40,
   "metadata": {},
   "outputs": [],
   "source": [
    "mean_price = car_data.price.mean()/2"
   ]
  },
  {
   "cell_type": "code",
   "execution_count": 41,
   "metadata": {},
   "outputs": [],
   "source": [
    "car_data[\"price\"] = np.where(car_data[\"price\"]<100, mean_price, car_data[\"price\"])"
   ]
  },
  {
   "cell_type": "markdown",
   "metadata": {},
   "source": [
    "Now I continue with some exploration of the column \"month of registration\"."
   ]
  },
  {
   "cell_type": "code",
   "execution_count": 42,
   "metadata": {},
   "outputs": [
    {
     "data": {
      "text/plain": [
       "array([ 6,  7, 10,  8, 12,  3,  2,  1,  4,  5,  9, 11,  0])"
      ]
     },
     "execution_count": 42,
     "metadata": {},
     "output_type": "execute_result"
    }
   ],
   "source": [
    "car_data.month_of_registration.unique()"
   ]
  },
  {
   "cell_type": "code",
   "execution_count": 43,
   "metadata": {},
   "outputs": [
    {
     "data": {
      "text/plain": [
       "3     28544\n",
       "6     25219\n",
       "4     23771\n",
       "5     23214\n",
       "7     22045\n",
       "10    21152\n",
       "11    19937\n",
       "9     19543\n",
       "12    19356\n",
       "1     18838\n",
       "8     18198\n",
       "2     17471\n",
       "0      7922\n",
       "Name: month_of_registration, dtype: int64"
      ]
     },
     "execution_count": 43,
     "metadata": {},
     "output_type": "execute_result"
    }
   ],
   "source": [
    "car_data.month_of_registration.value_counts()"
   ]
  },
  {
   "cell_type": "markdown",
   "metadata": {},
   "source": [
    "It seems like month 0 is present in the column \"month_of_registration\" in 7922 observations. Well, month 0 does not correspond to any month in the real world, so this should be handled as missing value. As month of first registration is not so important for the price I dont want to drop all these observations and thats why I will replace the 0-value with np.nan values first and then will fill them using the ffill method."
   ]
  },
  {
   "cell_type": "code",
   "execution_count": 44,
   "metadata": {},
   "outputs": [],
   "source": [
    "car_data.month_of_registration = car_data.month_of_registration.replace(0,np.nan)"
   ]
  },
  {
   "cell_type": "code",
   "execution_count": 45,
   "metadata": {},
   "outputs": [
    {
     "data": {
      "text/plain": [
       "7922"
      ]
     },
     "execution_count": 45,
     "metadata": {},
     "output_type": "execute_result"
    }
   ],
   "source": [
    "car_data.month_of_registration.isna().sum()"
   ]
  },
  {
   "cell_type": "code",
   "execution_count": 46,
   "metadata": {},
   "outputs": [],
   "source": [
    "car_data[\"month_of_registration\"].fillna(method = \"ffill\", inplace = True)"
   ]
  },
  {
   "cell_type": "code",
   "execution_count": 47,
   "metadata": {},
   "outputs": [
    {
     "data": {
      "text/plain": [
       "0"
      ]
     },
     "execution_count": 47,
     "metadata": {},
     "output_type": "execute_result"
    }
   ],
   "source": [
    "car_data.month_of_registration.isna().sum()"
   ]
  },
  {
   "cell_type": "markdown",
   "metadata": {},
   "source": [
    "I will do the same for the column \"gearbox\", but this time will use the bfill method."
   ]
  },
  {
   "cell_type": "code",
   "execution_count": 48,
   "metadata": {},
   "outputs": [],
   "source": [
    "car_data.gearbox.fillna(method=\"bfill\", inplace = True)"
   ]
  },
  {
   "cell_type": "code",
   "execution_count": 49,
   "metadata": {},
   "outputs": [
    {
     "data": {
      "text/plain": [
       "0"
      ]
     },
     "execution_count": 49,
     "metadata": {},
     "output_type": "execute_result"
    }
   ],
   "source": [
    "car_data.gearbox.isnull().sum()"
   ]
  },
  {
   "cell_type": "code",
   "execution_count": 50,
   "metadata": {},
   "outputs": [
    {
     "data": {
      "text/plain": [
       "brand                    0\n",
       "model                    0\n",
       "vehicle_type             0\n",
       "year_of_registration     0\n",
       "month_of_registration    0\n",
       "kilometer                0\n",
       "fuel_type                0\n",
       "power_ps                 0\n",
       "gearbox                  0\n",
       "not_repaired_damage      0\n",
       "abtest                   0\n",
       "price                    0\n",
       "dtype: int64"
      ]
     },
     "execution_count": 50,
     "metadata": {},
     "output_type": "execute_result"
    }
   ],
   "source": [
    "car_data.isna().sum()"
   ]
  },
  {
   "cell_type": "code",
   "execution_count": 51,
   "metadata": {},
   "outputs": [
    {
     "data": {
      "text/plain": [
       "(265210, 12)"
      ]
     },
     "execution_count": 51,
     "metadata": {},
     "output_type": "execute_result"
    }
   ],
   "source": [
    "car_data.shape"
   ]
  },
  {
   "cell_type": "markdown",
   "metadata": {},
   "source": [
    "After I cleaned the dataset I want to create some graphs in order to check how my data looks like. Without knowing my data I will not be able to test correctly hypothesis and to create a good model."
   ]
  },
  {
   "cell_type": "markdown",
   "metadata": {},
   "source": [
    "## 2. Data Visualization"
   ]
  },
  {
   "cell_type": "markdown",
   "metadata": {},
   "source": [
    "First I will visualise the correlation between the year and the price. I expect that the price will increase if the year increases, so lets see:"
   ]
  },
  {
   "cell_type": "code",
   "execution_count": 52,
   "metadata": {},
   "outputs": [
    {
     "data": {
      "image/png": "[encoded data removed]",
      "text/plain": [
       "<Figure size 432x288 with 1 Axes>"
      ]
     },
     "metadata": {
      "needs_background": "light"
     },
     "output_type": "display_data"
    }
   ],
   "source": [
    "plt.scatter(car_data.year_of_registration, car_data.price)\n",
    "plt.xlabel(\"Year of registration\", fontsize = 12)\n",
    "plt.ylabel(\"Price\", fontsize = 12)\n",
    "plt.title(\"Price distribution according to the year of registration\", fontsize = 15)\n",
    "plt.show()"
   ]
  },
  {
   "cell_type": "markdown",
   "metadata": {},
   "source": [
    "Well, as expected, there is a trend and when the year of registration increases, the price also increases, but it is not very clear from this graph, because the data has too large ranges. I will try to narrow the ranges a little bit now:"
   ]
  },
  {
   "cell_type": "code",
   "execution_count": 53,
   "metadata": {},
   "outputs": [],
   "source": [
    "car_data_narrowed = car_data[car_data[\"price\"]<=100000]"
   ]
  },
  {
   "cell_type": "code",
   "execution_count": 54,
   "metadata": {},
   "outputs": [],
   "source": [
    "car_data_narrowed = car_data_narrowed[car_data_narrowed[\"year_of_registration\"]>=1990]"
   ]
  },
  {
   "cell_type": "code",
   "execution_count": 55,
   "metadata": {},
   "outputs": [
    {
     "data": {
      "image/png": "[encoded data removed]",
      "text/plain": [
       "<Figure size 432x288 with 1 Axes>"
      ]
     },
     "metadata": {
      "needs_background": "light"
     },
     "output_type": "display_data"
    }
   ],
   "source": [
    "plt.scatter(car_data_narrowed.year_of_registration, car_data_narrowed.price)\n",
    "plt.xlabel(\"Year of registration\", fontsize = 12)\n",
    "plt.ylabel(\"Price\", fontsize = 12)\n",
    "plt.title(\"Price distribution according to the year of registration\", fontsize = 15)\n",
    "plt.show()"
   ]
  },
  {
   "cell_type": "markdown",
   "metadata": {},
   "source": [
    "Unfortunately, the graph is not very clear even after narrowing the data ranges. There is still a trend and when the year increases, the bars get more solid, which means that there are more observations there, but there are still cars that are very new and cost 0-10000 euro. Now I will split the dataset into two main groups - damaged cars and not damaged cars."
   ]
  },
  {
   "cell_type": "code",
   "execution_count": 56,
   "metadata": {},
   "outputs": [],
   "source": [
    "damaged_cars = car_data[car_data[\"not_repaired_damage\"] == \"ja\"]\n",
    "not_damaged_cars = car_data[car_data[\"not_repaired_damage\"] == \"nein\"]"
   ]
  },
  {
   "cell_type": "code",
   "execution_count": 57,
   "metadata": {},
   "outputs": [
    {
     "data": {
      "image/png": "[encoded data removed]",
      "text/plain": [
       "<Figure size 432x288 with 1 Axes>"
      ]
     },
     "metadata": {
      "needs_background": "light"
     },
     "output_type": "display_data"
    }
   ],
   "source": [
    "plt.scatter(damaged_cars.year_of_registration, damaged_cars.price)\n",
    "plt.xlabel(\"Year of registration\", fontsize = 12)\n",
    "plt.ylabel(\"Price\", fontsize = 12)\n",
    "plt.title(\"Price distribution according to the year of registration\", fontsize = 15)\n",
    "plt.show()"
   ]
  },
  {
   "cell_type": "code",
   "execution_count": 58,
   "metadata": {},
   "outputs": [
    {
     "data": {
      "image/png": "[encoded data removed]",
      "text/plain": [
       "<Figure size 432x288 with 1 Axes>"
      ]
     },
     "metadata": {
      "needs_background": "light"
     },
     "output_type": "display_data"
    }
   ],
   "source": [
    "plt.scatter(not_damaged_cars.year_of_registration, not_damaged_cars.price)\n",
    "plt.xlabel(\"Year of registration\", fontsize = 12)\n",
    "plt.ylabel(\"Price\", fontsize = 12)\n",
    "plt.title(\"Price distribution according to the year of registration\", fontsize = 15)\n",
    "plt.show()"
   ]
  },
  {
   "cell_type": "markdown",
   "metadata": {},
   "source": [
    "Looks like the distribution is similar, but the price ranges drastically. If the car is damaged the most expensive car cost about 120000 euro. On the other side, if the car is repaired, there are tens of cars valued over 120000 euro. Of course, this should be tested. For this reason I will perform a hypothesis test:"
   ]
  },
  {
   "cell_type": "markdown",
   "metadata": {},
   "source": [
    "## 3.Hypothesis Testing "
   ]
  },
  {
   "cell_type": "code",
   "execution_count": 59,
   "metadata": {},
   "outputs": [
    {
     "data": {
      "text/plain": [
       "(28615, 12)"
      ]
     },
     "execution_count": 59,
     "metadata": {},
     "output_type": "execute_result"
    }
   ],
   "source": [
    "damaged_cars.shape"
   ]
  },
  {
   "cell_type": "code",
   "execution_count": 60,
   "metadata": {},
   "outputs": [
    {
     "data": {
      "text/plain": [
       "(236595, 12)"
      ]
     },
     "execution_count": 60,
     "metadata": {},
     "output_type": "execute_result"
    }
   ],
   "source": [
    "not_damaged_cars.shape"
   ]
  },
  {
   "cell_type": "code",
   "execution_count": 61,
   "metadata": {},
   "outputs": [],
   "source": [
    "damaged_cars_price = damaged_cars.price\n",
    "not_damaged_cars_price = not_damaged_cars.price"
   ]
  },
  {
   "cell_type": "markdown",
   "metadata": {},
   "source": [
    "Now I am ready to perform the t-test, but first I will state my hypothesis:\n",
    "\n",
    "H0: Price is not correlated with the damage and the two samples have the same distribution.\n",
    "\n",
    "H1: The distribution in the damaged cars dataset differs than the distribution in the not damaged cars dataset.\n",
    "\n",
    "The threshold value I will use is 1%."
   ]
  },
  {
   "cell_type": "code",
   "execution_count": 62,
   "metadata": {},
   "outputs": [
    {
     "name": "stdout",
     "output_type": "stream",
     "text": [
      "0.0\n",
      "There is significant difference in the distribution. Reject H0.\n"
     ]
    }
   ],
   "source": [
    "test_result = ttest_ind(damaged_cars_price, not_damaged_cars_price, equal_var = False)\n",
    "print(test_result.pvalue)\n",
    "\n",
    "if test_result.pvalue <= 0.05:\n",
    "    print(\"There is significant difference in the distribution. Reject H0.\")\n",
    "else:\n",
    "    print(\"It can not be proved that the distribution is different. H0 can not be rejected.\")"
   ]
  },
  {
   "cell_type": "markdown",
   "metadata": {},
   "source": [
    "As supposed, there is difference in the distribution and the H0 can be rejected categorically."
   ]
  },
  {
   "cell_type": "markdown",
   "metadata": {},
   "source": [
    "## 4. Data Modelation"
   ]
  },
  {
   "cell_type": "markdown",
   "metadata": {},
   "source": [
    "First I want to check the correlations between the different features:"
   ]
  },
  {
   "cell_type": "code",
   "execution_count": 63,
   "metadata": {},
   "outputs": [
    {
     "data": {
      "text/html": [
       "<div>\n",
       "<style scoped>\n",
       "    .dataframe tbody tr th:only-of-type {\n",
       "        vertical-align: middle;\n",
       "    }\n",
       "\n",
       "    .dataframe tbody tr th {\n",
       "        vertical-align: top;\n",
       "    }\n",
       "\n",
       "    .dataframe thead th {\n",
       "        text-align: right;\n",
       "    }\n",
       "</style>\n",
       "<table border=\"1\" class=\"dataframe\">\n",
       "  <thead>\n",
       "    <tr style=\"text-align: right;\">\n",
       "      <th></th>\n",
       "      <th>year_of_registration</th>\n",
       "      <th>month_of_registration</th>\n",
       "      <th>kilometer</th>\n",
       "      <th>power_ps</th>\n",
       "      <th>price</th>\n",
       "    </tr>\n",
       "  </thead>\n",
       "  <tbody>\n",
       "    <tr>\n",
       "      <th>year_of_registration</th>\n",
       "      <td>1.000000</td>\n",
       "      <td>-0.000439</td>\n",
       "      <td>-0.392014</td>\n",
       "      <td>0.198557</td>\n",
       "      <td>0.384882</td>\n",
       "    </tr>\n",
       "    <tr>\n",
       "      <th>month_of_registration</th>\n",
       "      <td>-0.000439</td>\n",
       "      <td>1.000000</td>\n",
       "      <td>0.009752</td>\n",
       "      <td>0.011007</td>\n",
       "      <td>-0.005895</td>\n",
       "    </tr>\n",
       "    <tr>\n",
       "      <th>kilometer</th>\n",
       "      <td>-0.392014</td>\n",
       "      <td>0.009752</td>\n",
       "      <td>1.000000</td>\n",
       "      <td>-0.025371</td>\n",
       "      <td>-0.418544</td>\n",
       "    </tr>\n",
       "    <tr>\n",
       "      <th>power_ps</th>\n",
       "      <td>0.198557</td>\n",
       "      <td>0.011007</td>\n",
       "      <td>-0.025371</td>\n",
       "      <td>1.000000</td>\n",
       "      <td>0.546820</td>\n",
       "    </tr>\n",
       "    <tr>\n",
       "      <th>price</th>\n",
       "      <td>0.384882</td>\n",
       "      <td>-0.005895</td>\n",
       "      <td>-0.418544</td>\n",
       "      <td>0.546820</td>\n",
       "      <td>1.000000</td>\n",
       "    </tr>\n",
       "  </tbody>\n",
       "</table>\n",
       "</div>"
      ],
      "text/plain": [
       "                       year_of_registration  month_of_registration  kilometer  \\\n",
       "year_of_registration               1.000000              -0.000439  -0.392014   \n",
       "month_of_registration             -0.000439               1.000000   0.009752   \n",
       "kilometer                         -0.392014               0.009752   1.000000   \n",
       "power_ps                           0.198557               0.011007  -0.025371   \n",
       "price                              0.384882              -0.005895  -0.418544   \n",
       "\n",
       "                       power_ps     price  \n",
       "year_of_registration   0.198557  0.384882  \n",
       "month_of_registration  0.011007 -0.005895  \n",
       "kilometer             -0.025371 -0.418544  \n",
       "power_ps               1.000000  0.546820  \n",
       "price                  0.546820  1.000000  "
      ]
     },
     "execution_count": 63,
     "metadata": {},
     "output_type": "execute_result"
    }
   ],
   "source": [
    "car_data.corr()"
   ]
  },
  {
   "cell_type": "markdown",
   "metadata": {},
   "source": [
    "No surprise, the year of registration and the power of the car increase the price and the amortization (km) decrease it. On the other side, th month seems to have no correlation. However none of the correlations is strong."
   ]
  },
  {
   "cell_type": "code",
   "execution_count": 64,
   "metadata": {},
   "outputs": [
    {
     "data": {
      "text/html": [
       "<div>\n",
       "<style scoped>\n",
       "    .dataframe tbody tr th:only-of-type {\n",
       "        vertical-align: middle;\n",
       "    }\n",
       "\n",
       "    .dataframe tbody tr th {\n",
       "        vertical-align: top;\n",
       "    }\n",
       "\n",
       "    .dataframe thead th {\n",
       "        text-align: right;\n",
       "    }\n",
       "</style>\n",
       "<table border=\"1\" class=\"dataframe\">\n",
       "  <thead>\n",
       "    <tr style=\"text-align: right;\">\n",
       "      <th></th>\n",
       "      <th>brand</th>\n",
       "      <th>model</th>\n",
       "      <th>vehicle_type</th>\n",
       "      <th>year_of_registration</th>\n",
       "      <th>month_of_registration</th>\n",
       "      <th>kilometer</th>\n",
       "      <th>fuel_type</th>\n",
       "      <th>power_ps</th>\n",
       "      <th>gearbox</th>\n",
       "      <th>not_repaired_damage</th>\n",
       "      <th>abtest</th>\n",
       "      <th>price</th>\n",
       "    </tr>\n",
       "  </thead>\n",
       "  <tbody>\n",
       "    <tr>\n",
       "      <th>3</th>\n",
       "      <td>volkswagen</td>\n",
       "      <td>golf</td>\n",
       "      <td>kleinwagen</td>\n",
       "      <td>2001</td>\n",
       "      <td>6.0</td>\n",
       "      <td>150000</td>\n",
       "      <td>benzin</td>\n",
       "      <td>75.0</td>\n",
       "      <td>manuell</td>\n",
       "      <td>nein</td>\n",
       "      <td>test</td>\n",
       "      <td>1500.00000</td>\n",
       "    </tr>\n",
       "    <tr>\n",
       "      <th>4</th>\n",
       "      <td>skoda</td>\n",
       "      <td>fabia</td>\n",
       "      <td>kleinwagen</td>\n",
       "      <td>2008</td>\n",
       "      <td>7.0</td>\n",
       "      <td>90000</td>\n",
       "      <td>diesel</td>\n",
       "      <td>69.0</td>\n",
       "      <td>manuell</td>\n",
       "      <td>nein</td>\n",
       "      <td>test</td>\n",
       "      <td>3600.00000</td>\n",
       "    </tr>\n",
       "    <tr>\n",
       "      <th>5</th>\n",
       "      <td>bmw</td>\n",
       "      <td>3er</td>\n",
       "      <td>limousine</td>\n",
       "      <td>1995</td>\n",
       "      <td>10.0</td>\n",
       "      <td>150000</td>\n",
       "      <td>benzin</td>\n",
       "      <td>102.0</td>\n",
       "      <td>manuell</td>\n",
       "      <td>ja</td>\n",
       "      <td>test</td>\n",
       "      <td>650.00000</td>\n",
       "    </tr>\n",
       "    <tr>\n",
       "      <th>6</th>\n",
       "      <td>peugeot</td>\n",
       "      <td>2_reihe</td>\n",
       "      <td>cabrio</td>\n",
       "      <td>2004</td>\n",
       "      <td>8.0</td>\n",
       "      <td>150000</td>\n",
       "      <td>benzin</td>\n",
       "      <td>109.0</td>\n",
       "      <td>manuell</td>\n",
       "      <td>nein</td>\n",
       "      <td>test</td>\n",
       "      <td>2200.00000</td>\n",
       "    </tr>\n",
       "    <tr>\n",
       "      <th>7</th>\n",
       "      <td>volkswagen</td>\n",
       "      <td>andere</td>\n",
       "      <td>limousine</td>\n",
       "      <td>1980</td>\n",
       "      <td>7.0</td>\n",
       "      <td>40000</td>\n",
       "      <td>benzin</td>\n",
       "      <td>50.0</td>\n",
       "      <td>manuell</td>\n",
       "      <td>nein</td>\n",
       "      <td>test</td>\n",
       "      <td>3329.51644</td>\n",
       "    </tr>\n",
       "  </tbody>\n",
       "</table>\n",
       "</div>"
      ],
      "text/plain": [
       "        brand    model vehicle_type  year_of_registration  \\\n",
       "3  volkswagen     golf   kleinwagen                  2001   \n",
       "4       skoda    fabia   kleinwagen                  2008   \n",
       "5         bmw      3er    limousine                  1995   \n",
       "6     peugeot  2_reihe       cabrio                  2004   \n",
       "7  volkswagen   andere    limousine                  1980   \n",
       "\n",
       "   month_of_registration  kilometer fuel_type  power_ps  gearbox  \\\n",
       "3                    6.0     150000    benzin      75.0  manuell   \n",
       "4                    7.0      90000    diesel      69.0  manuell   \n",
       "5                   10.0     150000    benzin     102.0  manuell   \n",
       "6                    8.0     150000    benzin     109.0  manuell   \n",
       "7                    7.0      40000    benzin      50.0  manuell   \n",
       "\n",
       "  not_repaired_damage abtest       price  \n",
       "3                nein   test  1500.00000  \n",
       "4                nein   test  3600.00000  \n",
       "5                  ja   test   650.00000  \n",
       "6                nein   test  2200.00000  \n",
       "7                nein   test  3329.51644  "
      ]
     },
     "execution_count": 64,
     "metadata": {},
     "output_type": "execute_result"
    }
   ],
   "source": [
    "car_data.head()"
   ]
  },
  {
   "cell_type": "markdown",
   "metadata": {},
   "source": [
    "1. I will prepare my data and create the features and the target column.\n",
    "2. I will get dummies for my columns. This model will contain maaaany columns, because I did not exclude the brand and the model columns from the original dataset, but I want to check it though. (I suppose there will be overfitting, but lets see).\n",
    "3. I will split my data into training and test data using 80% of the data for training and 20% - for testing.\n",
    "4. Will check whether the split has been done correctly.\n",
    "5. Will train the model and check the accuracy.\n"
   ]
  },
  {
   "cell_type": "code",
   "execution_count": 65,
   "metadata": {},
   "outputs": [],
   "source": [
    "car_data_features = car_data.drop(\"price\", axis = 1)\n",
    "car_data_labels = car_data.price"
   ]
  },
  {
   "cell_type": "code",
   "execution_count": 66,
   "metadata": {},
   "outputs": [],
   "source": [
    "car_data_features = pd.get_dummies(car_data_features)"
   ]
  },
  {
   "cell_type": "code",
   "execution_count": 67,
   "metadata": {},
   "outputs": [
    {
     "data": {
      "text/plain": [
       "(265210, 314)"
      ]
     },
     "execution_count": 67,
     "metadata": {},
     "output_type": "execute_result"
    }
   ],
   "source": [
    "car_data_features.shape"
   ]
  },
  {
   "cell_type": "code",
   "execution_count": 68,
   "metadata": {},
   "outputs": [],
   "source": [
    "car_data_features_train, car_data_features_test, car_data_labels_train, car_data_labels_test = train_test_split(car_data_features, car_data_labels, train_size = 0.8, random_state = 42)"
   ]
  },
  {
   "cell_type": "code",
   "execution_count": 69,
   "metadata": {},
   "outputs": [
    {
     "data": {
      "text/plain": [
       "(212168, 314)"
      ]
     },
     "execution_count": 69,
     "metadata": {},
     "output_type": "execute_result"
    }
   ],
   "source": [
    "car_data_features_train.shape"
   ]
  },
  {
   "cell_type": "code",
   "execution_count": 70,
   "metadata": {},
   "outputs": [
    {
     "data": {
      "text/plain": [
       "(212168,)"
      ]
     },
     "execution_count": 70,
     "metadata": {},
     "output_type": "execute_result"
    }
   ],
   "source": [
    "car_data_labels_train.shape"
   ]
  },
  {
   "cell_type": "code",
   "execution_count": 71,
   "metadata": {},
   "outputs": [
    {
     "data": {
      "text/plain": [
       "(53042, 314)"
      ]
     },
     "execution_count": 71,
     "metadata": {},
     "output_type": "execute_result"
    }
   ],
   "source": [
    "car_data_features_test.shape"
   ]
  },
  {
   "cell_type": "code",
   "execution_count": 72,
   "metadata": {},
   "outputs": [
    {
     "data": {
      "text/plain": [
       "(53042,)"
      ]
     },
     "execution_count": 72,
     "metadata": {},
     "output_type": "execute_result"
    }
   ],
   "source": [
    "car_data_labels_test.shape"
   ]
  },
  {
   "cell_type": "markdown",
   "metadata": {},
   "source": [
    "### 4.1 Simple Linear Regression\n"
   ]
  },
  {
   "cell_type": "code",
   "execution_count": 73,
   "metadata": {},
   "outputs": [],
   "source": [
    "#model_1 = LinearRegression()"
   ]
  },
  {
   "cell_type": "code",
   "execution_count": 74,
   "metadata": {},
   "outputs": [],
   "source": [
    "#model_1.fit(car_data_features_train, car_data_labels_train)"
   ]
  },
  {
   "cell_type": "code",
   "execution_count": 75,
   "metadata": {},
   "outputs": [],
   "source": [
    "#with open (\"simple_linear_regression\", \"wb\") as f:\n",
    "    #pickle.dump(model_1, f)"
   ]
  },
  {
   "cell_type": "code",
   "execution_count": 76,
   "metadata": {},
   "outputs": [
    {
     "name": "stderr",
     "output_type": "stream",
     "text": [
      "/home/nikolay/anaconda3/lib/python3.7/site-packages/sklearn/base.py:306: UserWarning: Trying to unpickle estimator LinearRegression from version 0.20.3 when using version 0.21.2. This might lead to breaking code or invalid results. Use at your own risk.\n",
      "  UserWarning)\n"
     ]
    }
   ],
   "source": [
    "with open (\"models/simple_linear_regression\", \"rb\") as f:\n",
    "    model_1 = pickle.load(f)"
   ]
  },
  {
   "cell_type": "code",
   "execution_count": 77,
   "metadata": {},
   "outputs": [],
   "source": [
    "model_1_score_test = model_1.score(car_data_features_test, car_data_labels_test)"
   ]
  },
  {
   "cell_type": "code",
   "execution_count": 78,
   "metadata": {},
   "outputs": [
    {
     "data": {
      "text/plain": [
       "0.61733329334049"
      ]
     },
     "execution_count": 78,
     "metadata": {},
     "output_type": "execute_result"
    }
   ],
   "source": [
    "model_1_score_test"
   ]
  },
  {
   "cell_type": "code",
   "execution_count": 79,
   "metadata": {},
   "outputs": [],
   "source": [
    "model_1_score_train = model_1.score(car_data_features_train, car_data_labels_train)"
   ]
  },
  {
   "cell_type": "code",
   "execution_count": 80,
   "metadata": {},
   "outputs": [
    {
     "data": {
      "text/plain": [
       "0.6281829808316972"
      ]
     },
     "execution_count": 80,
     "metadata": {},
     "output_type": "execute_result"
    }
   ],
   "source": [
    "model_1_score_train"
   ]
  },
  {
   "cell_type": "markdown",
   "metadata": {},
   "source": [
    "It looks like the model does not overfit the data, but the accuracy is definitely very low. Now I want to create a model using the Polynomial Regression, but I already have 314 columns and this is definitely a bad idea. Thats why I will reshape my data removing the columns \"brand\" and \"model\" from the dataset I used in the first model and will perform a simple Linear Regression first and then a Polynomial Regression from 2-nd degree:"
   ]
  },
  {
   "cell_type": "code",
   "execution_count": 81,
   "metadata": {},
   "outputs": [],
   "source": [
    "car_data = car_data.drop(columns = [\"model\", \"brand\"])"
   ]
  },
  {
   "cell_type": "markdown",
   "metadata": {},
   "source": [
    "### 4.2 Tuned Simple Linear Regression"
   ]
  },
  {
   "cell_type": "markdown",
   "metadata": {},
   "source": [
    "For the next models I will need dummy variables, so I will first get my dummies, then will split again and will prepare the features and target column."
   ]
  },
  {
   "cell_type": "code",
   "execution_count": 84,
   "metadata": {},
   "outputs": [],
   "source": [
    "car_data_features = car_data.drop(\"price\", axis = 1)"
   ]
  },
  {
   "cell_type": "code",
   "execution_count": 85,
   "metadata": {},
   "outputs": [],
   "source": [
    "car_data_labels = car_data.price"
   ]
  },
  {
   "cell_type": "code",
   "execution_count": 86,
   "metadata": {},
   "outputs": [],
   "source": [
    "car_data_features = pd.get_dummies(car_data_features)"
   ]
  },
  {
   "cell_type": "code",
   "execution_count": 87,
   "metadata": {},
   "outputs": [
    {
     "data": {
      "text/plain": [
       "(265210, 25)"
      ]
     },
     "execution_count": 87,
     "metadata": {},
     "output_type": "execute_result"
    }
   ],
   "source": [
    "car_data_features.shape"
   ]
  },
  {
   "cell_type": "code",
   "execution_count": 88,
   "metadata": {},
   "outputs": [],
   "source": [
    "car_data_features_train, car_data_features_test, car_data_labels_train, car_data_labels_test = train_test_split(car_data_features, car_data_labels, train_size = 0.8)"
   ]
  },
  {
   "cell_type": "code",
   "execution_count": 89,
   "metadata": {},
   "outputs": [],
   "source": [
    "#model_2 = LinearRegression()"
   ]
  },
  {
   "cell_type": "code",
   "execution_count": 90,
   "metadata": {},
   "outputs": [],
   "source": [
    "#model_2.fit(car_data_features_train, car_data_labels_train)"
   ]
  },
  {
   "cell_type": "code",
   "execution_count": 91,
   "metadata": {},
   "outputs": [],
   "source": [
    "#with open (\"simple_linear_regression_fewer_features\", \"wb\") as f:\n",
    "    #pickle.dump(model_2, f)"
   ]
  },
  {
   "cell_type": "code",
   "execution_count": 92,
   "metadata": {},
   "outputs": [
    {
     "name": "stderr",
     "output_type": "stream",
     "text": [
      "/home/nikolay/anaconda3/lib/python3.7/site-packages/sklearn/base.py:306: UserWarning: Trying to unpickle estimator LinearRegression from version 0.20.3 when using version 0.21.2. This might lead to breaking code or invalid results. Use at your own risk.\n",
      "  UserWarning)\n"
     ]
    }
   ],
   "source": [
    "with open (\"models/simple_linear_regression_fewer_features\", \"rb\") as f:\n",
    "    model_2 = pickle.load(f)"
   ]
  },
  {
   "cell_type": "code",
   "execution_count": 93,
   "metadata": {},
   "outputs": [],
   "source": [
    "model_2_score_test = model_2.score(car_data_features_test, car_data_labels_test)"
   ]
  },
  {
   "cell_type": "code",
   "execution_count": 94,
   "metadata": {},
   "outputs": [
    {
     "data": {
      "text/plain": [
       "0.5180186795758199"
      ]
     },
     "execution_count": 94,
     "metadata": {},
     "output_type": "execute_result"
    }
   ],
   "source": [
    "model_2_score_test"
   ]
  },
  {
   "cell_type": "code",
   "execution_count": 95,
   "metadata": {},
   "outputs": [],
   "source": [
    "model_2_score_train = model_2.score(car_data_features_train, car_data_labels_train)"
   ]
  },
  {
   "cell_type": "code",
   "execution_count": 96,
   "metadata": {},
   "outputs": [
    {
     "data": {
      "text/plain": [
       "0.5072828441750286"
      ]
     },
     "execution_count": 96,
     "metadata": {},
     "output_type": "execute_result"
    }
   ],
   "source": [
    "model_2_score_train"
   ]
  },
  {
   "cell_type": "markdown",
   "metadata": {},
   "source": [
    "I got a result that is lower than the score of the model 1 which was expected, because we removed two important features. However, now I will perform a Polynomial regression and I  hope that I can improve the accuracy of the model:"
   ]
  },
  {
   "cell_type": "markdown",
   "metadata": {},
   "source": [
    "### 4.3 Polynomial regression"
   ]
  },
  {
   "cell_type": "code",
   "execution_count": 97,
   "metadata": {},
   "outputs": [],
   "source": [
    "poly_model = PolynomialFeatures(degree=2)"
   ]
  },
  {
   "cell_type": "code",
   "execution_count": 98,
   "metadata": {},
   "outputs": [],
   "source": [
    "poly_car_data_features = poly_model.fit_transform(car_data_features)"
   ]
  },
  {
   "cell_type": "code",
   "execution_count": 99,
   "metadata": {},
   "outputs": [],
   "source": [
    "poly_car_data_features_train, poly_car_data_features_test, poly_car_data_labels_train, poly_car_data_labels_test = train_test_split(poly_car_data_features, car_data_labels, train_size = 0.8)"
   ]
  },
  {
   "cell_type": "code",
   "execution_count": 100,
   "metadata": {},
   "outputs": [],
   "source": [
    "#model_3 = LinearRegression()"
   ]
  },
  {
   "cell_type": "code",
   "execution_count": 101,
   "metadata": {},
   "outputs": [],
   "source": [
    "#model_3.fit(poly_car_data_features_train, poly_car_data_labels_train)"
   ]
  },
  {
   "cell_type": "code",
   "execution_count": 102,
   "metadata": {},
   "outputs": [],
   "source": [
    "#with open (\"polynomial_regression\", \"wb\") as f:\n",
    "    #pickle.dump(model_3, f)"
   ]
  },
  {
   "cell_type": "code",
   "execution_count": 103,
   "metadata": {},
   "outputs": [
    {
     "name": "stderr",
     "output_type": "stream",
     "text": [
      "/home/nikolay/anaconda3/lib/python3.7/site-packages/sklearn/base.py:306: UserWarning: Trying to unpickle estimator LinearRegression from version 0.20.3 when using version 0.21.2. This might lead to breaking code or invalid results. Use at your own risk.\n",
      "  UserWarning)\n"
     ]
    }
   ],
   "source": [
    "with open (\"models/polynomial_regression\", \"rb\") as f:\n",
    "    model_3 = pickle.load(f)"
   ]
  },
  {
   "cell_type": "code",
   "execution_count": 104,
   "metadata": {},
   "outputs": [],
   "source": [
    "model_3_score_test = model_3.score(poly_car_data_features_test, poly_car_data_labels_test)"
   ]
  },
  {
   "cell_type": "code",
   "execution_count": 105,
   "metadata": {},
   "outputs": [
    {
     "data": {
      "text/plain": [
       "0.6726963427989642"
      ]
     },
     "execution_count": 105,
     "metadata": {},
     "output_type": "execute_result"
    }
   ],
   "source": [
    "model_3_score_test"
   ]
  },
  {
   "cell_type": "code",
   "execution_count": 106,
   "metadata": {},
   "outputs": [
    {
     "data": {
      "text/plain": [
       "0.6701301318892459"
      ]
     },
     "execution_count": 106,
     "metadata": {},
     "output_type": "execute_result"
    }
   ],
   "source": [
    "model_3.score(poly_car_data_features_train, poly_car_data_labels_train)"
   ]
  },
  {
   "cell_type": "markdown",
   "metadata": {},
   "source": [
    "### 4.4 Ridge Regression"
   ]
  },
  {
   "cell_type": "markdown",
   "metadata": {},
   "source": [
    "As next I will implement the Ridge regression in an attempt to increase my predicting score. Then I will test the model on both training and test data:"
   ]
  },
  {
   "cell_type": "code",
   "execution_count": 107,
   "metadata": {},
   "outputs": [],
   "source": [
    "#ridge = Ridge()"
   ]
  },
  {
   "cell_type": "code",
   "execution_count": 108,
   "metadata": {},
   "outputs": [],
   "source": [
    "#ridge.fit(poly_car_data_features_train,poly_car_data_labels_train)"
   ]
  },
  {
   "cell_type": "code",
   "execution_count": 109,
   "metadata": {},
   "outputs": [],
   "source": [
    "#with open (\"ridge_regression\", \"wb\") as f:\n",
    "    #pickle.dump(ridge, f)"
   ]
  },
  {
   "cell_type": "code",
   "execution_count": 110,
   "metadata": {},
   "outputs": [
    {
     "name": "stderr",
     "output_type": "stream",
     "text": [
      "/home/nikolay/anaconda3/lib/python3.7/site-packages/sklearn/base.py:306: UserWarning: Trying to unpickle estimator Ridge from version 0.20.3 when using version 0.21.2. This might lead to breaking code or invalid results. Use at your own risk.\n",
      "  UserWarning)\n"
     ]
    }
   ],
   "source": [
    "with open (\"models/ridge_regression\", \"rb\") as f:\n",
    "    ridge = pickle.load(f)"
   ]
  },
  {
   "cell_type": "code",
   "execution_count": 111,
   "metadata": {},
   "outputs": [],
   "source": [
    "ridge_score_test = ridge.score(poly_car_data_features_test, poly_car_data_labels_test)"
   ]
  },
  {
   "cell_type": "code",
   "execution_count": 112,
   "metadata": {},
   "outputs": [
    {
     "data": {
      "text/plain": [
       "0.6725294089164999"
      ]
     },
     "execution_count": 112,
     "metadata": {},
     "output_type": "execute_result"
    }
   ],
   "source": [
    "ridge_score_test"
   ]
  },
  {
   "cell_type": "code",
   "execution_count": 113,
   "metadata": {},
   "outputs": [
    {
     "data": {
      "text/plain": [
       "0.6656644495882897"
      ]
     },
     "execution_count": 113,
     "metadata": {},
     "output_type": "execute_result"
    }
   ],
   "source": [
    "ridge.score(poly_car_data_features_train, poly_car_data_labels_train)"
   ]
  },
  {
   "cell_type": "markdown",
   "metadata": {},
   "source": [
    "Well, the score is almost the same as in my Polynomial Regression. The last model I want to try out is the Lasso Regression:"
   ]
  },
  {
   "cell_type": "markdown",
   "metadata": {},
   "source": [
    "### 4.5 Lasso Regression "
   ]
  },
  {
   "cell_type": "code",
   "execution_count": 114,
   "metadata": {},
   "outputs": [],
   "source": [
    "#lasso = Lasso()"
   ]
  },
  {
   "cell_type": "code",
   "execution_count": 115,
   "metadata": {},
   "outputs": [],
   "source": [
    "#lasso.fit(poly_car_data_features_train,poly_car_data_labels_train)"
   ]
  },
  {
   "cell_type": "code",
   "execution_count": 116,
   "metadata": {},
   "outputs": [],
   "source": [
    "#with open (\"lasso_regression\", \"wb\") as f:\n",
    "    #pickle.dump(lasso, f)"
   ]
  },
  {
   "cell_type": "code",
   "execution_count": 117,
   "metadata": {},
   "outputs": [
    {
     "name": "stderr",
     "output_type": "stream",
     "text": [
      "/home/nikolay/anaconda3/lib/python3.7/site-packages/sklearn/base.py:306: UserWarning: Trying to unpickle estimator Lasso from version 0.20.3 when using version 0.21.2. This might lead to breaking code or invalid results. Use at your own risk.\n",
      "  UserWarning)\n"
     ]
    }
   ],
   "source": [
    "with open (\"models/lasso_regression\", \"rb\") as f:\n",
    "    lasso = pickle.load(f)"
   ]
  },
  {
   "cell_type": "code",
   "execution_count": 118,
   "metadata": {},
   "outputs": [],
   "source": [
    "lasso_score_test = lasso.score(poly_car_data_features_test, poly_car_data_labels_test)"
   ]
  },
  {
   "cell_type": "code",
   "execution_count": 119,
   "metadata": {},
   "outputs": [
    {
     "data": {
      "text/plain": [
       "0.6210944092044767"
      ]
     },
     "execution_count": 119,
     "metadata": {},
     "output_type": "execute_result"
    }
   ],
   "source": [
    "lasso_score_test"
   ]
  },
  {
   "cell_type": "code",
   "execution_count": 120,
   "metadata": {},
   "outputs": [
    {
     "data": {
      "text/plain": [
       "0.6105471635137065"
      ]
     },
     "execution_count": 120,
     "metadata": {},
     "output_type": "execute_result"
    }
   ],
   "source": [
    "lasso.score(poly_car_data_features_train, poly_car_data_labels_train)"
   ]
  },
  {
   "cell_type": "markdown",
   "metadata": {},
   "source": [
    "## 5. Models Comparison"
   ]
  },
  {
   "cell_type": "code",
   "execution_count": 121,
   "metadata": {},
   "outputs": [
    {
     "name": "stdout",
     "output_type": "stream",
     "text": [
      "Accuracy score:\n",
      "Simple Linear Regression: 0.61733329334049\n",
      "Tuned Simple Linear Regression: 0.5180186795758199\n",
      "Polynomial Regression: 0.6726963427989642\n",
      "Ridge Regression: 0.6725294089164999\n",
      "Lasso Regression: 0.6210944092044767\n"
     ]
    }
   ],
   "source": [
    "print(\"Accuracy score:\")\n",
    "print(\"Simple Linear Regression:\", model_1_score_test)\n",
    "print(\"Tuned Simple Linear Regression:\", model_2_score_test)\n",
    "print(\"Polynomial Regression:\", model_3_score_test)\n",
    "print(\"Ridge Regression:\", ridge_score_test)\n",
    "print(\"Lasso Regression:\", lasso_score_test)"
   ]
  },
  {
   "cell_type": "markdown",
   "metadata": {},
   "source": [
    "Definitely the Ridge Regression and the Polynomial Regression ar emy best performing models. Anyway, there are some reasons for that:\n",
    "- there are only 209 K observations for training. Imagine how many different car models there are. Some of them are much more luxurious. Thus even if an observation has the same paramteres..if it is Audi will be much more expensive than if it is Honda (for example).\n",
    "- there are many oltimers and these cars are very old, but cost tons of money and they are even more expensive than the a brand new luxurious car.\n",
    "\n",
    "These outliars definitely influence the model significantly and increase the bias. What I am interested here is to check the difference of the price if a car is damaged and if it is not. In this case I will use the third model (tuned polynomial regression):"
   ]
  },
  {
   "cell_type": "code",
   "execution_count": 122,
   "metadata": {},
   "outputs": [],
   "source": [
    "rep_car = [[2010, 6, 100000, 100, 0, 0, 0, 0, 0, 1, 0, 0, 0, 0, 0, 1, 0, 0, 0, 0, 1, 0, 1, 0, 1],\n",
    "              [2016, 6, 10000, 250, 0, 0, 0, 0, 0, 1, 0, 0, 0, 0, 0, 1, 0, 0, 0, 0, 1, 0, 1, 0, 1],\n",
    "              [2002, 6, 150000, 90, 0, 0, 0, 0, 0, 1, 0, 0, 0, 0, 0, 1, 0, 0, 0, 0, 1, 0, 1, 0, 1]]"
   ]
  },
  {
   "cell_type": "code",
   "execution_count": 123,
   "metadata": {},
   "outputs": [],
   "source": [
    "not_rep_car = [[2010, 6, 100000, 100, 0, 0, 0, 0, 0, 1, 0, 0, 0, 0, 0, 1, 0, 0, 0, 0, 1, 1, 0, 0, 1],\n",
    "              [2016, 6, 10000, 250, 0, 0, 0, 0, 0, 1, 0, 0, 0, 0, 0, 1, 0, 0, 0, 0, 1, 1, 0, 0, 1],\n",
    "              [2002, 6, 150000, 90, 0, 0, 0, 0, 0, 1, 0, 0, 0, 0, 0, 1, 0, 0, 0, 0, 1, 1, 0, 0, 1]]"
   ]
  },
  {
   "cell_type": "code",
   "execution_count": 124,
   "metadata": {},
   "outputs": [],
   "source": [
    "rep_car_poly = poly_model.fit_transform(rep_car)"
   ]
  },
  {
   "cell_type": "code",
   "execution_count": 125,
   "metadata": {},
   "outputs": [],
   "source": [
    "not_rep_car_poly = poly_model.fit_transform(not_rep_car)"
   ]
  },
  {
   "cell_type": "code",
   "execution_count": 126,
   "metadata": {},
   "outputs": [
    {
     "name": "stdout",
     "output_type": "stream",
     "text": [
      "Prices of not damaged vehicles:\n"
     ]
    },
    {
     "data": {
      "text/plain": [
       "array([ 8816.98978059, 42516.92995609,  1288.42387269])"
      ]
     },
     "execution_count": 126,
     "metadata": {},
     "output_type": "execute_result"
    }
   ],
   "source": [
    "print(\"Prices of not damaged vehicles:\")\n",
    "model_3.predict(rep_car_poly)"
   ]
  },
  {
   "cell_type": "code",
   "execution_count": 127,
   "metadata": {},
   "outputs": [
    {
     "name": "stdout",
     "output_type": "stream",
     "text": [
      "Prices of damaged vehicles:\n"
     ]
    },
    {
     "data": {
      "text/plain": [
       "array([ 6949.3499216 , 34626.72831741,   767.47508942])"
      ]
     },
     "execution_count": 127,
     "metadata": {},
     "output_type": "execute_result"
    }
   ],
   "source": [
    "print(\"Prices of damaged vehicles:\")\n",
    "model_3.predict(not_rep_car_poly)"
   ]
  },
  {
   "cell_type": "markdown",
   "metadata": {},
   "source": [
    "## 6. Conclusion"
   ]
  },
  {
   "cell_type": "markdown",
   "metadata": {},
   "source": [
    "Logically, damaged cars are cheaper, depending on the damage it might be up to 1.5-2 times cheaper than a not damaged car. Those cars are gold for car dealers in Eastern Europe where the standard of life is much lower than in Western Europe. Car dealers buy damaged cars mainly from Germany, repair them in their country and then resell then with profit. This works well, but very often they \"reduce the amortization\" of the vehicle as they return the mileage so that the car is more attractive. Furthermore, damaged cars have their airbags open already and there is no guarantee that the airbag will work again if the car has another accident. This can cost a human life, but I will explore furhter how important are the airbags during an accident thanks to the data in the upcoming dataset."
   ]
  },
  {
   "cell_type": "markdown",
   "metadata": {},
   "source": [
    "# IV. Airbag Dataset\n"
   ]
  },
  {
   "cell_type": "code",
   "execution_count": 128,
   "metadata": {},
   "outputs": [],
   "source": [
    "airbag_data = pd.read_csv(\"data/Kag_Airbag.csv\")"
   ]
  },
  {
   "cell_type": "code",
   "execution_count": 129,
   "metadata": {},
   "outputs": [
    {
     "data": {
      "text/html": [
       "<div>\n",
       "<style scoped>\n",
       "    .dataframe tbody tr th:only-of-type {\n",
       "        vertical-align: middle;\n",
       "    }\n",
       "\n",
       "    .dataframe tbody tr th {\n",
       "        vertical-align: top;\n",
       "    }\n",
       "\n",
       "    .dataframe thead th {\n",
       "        text-align: right;\n",
       "    }\n",
       "</style>\n",
       "<table border=\"1\" class=\"dataframe\">\n",
       "  <thead>\n",
       "    <tr style=\"text-align: right;\">\n",
       "      <th></th>\n",
       "      <th>Unnamed: 0</th>\n",
       "      <th>dvcat</th>\n",
       "      <th>weight</th>\n",
       "      <th>dead</th>\n",
       "      <th>airbag</th>\n",
       "      <th>seatbelt</th>\n",
       "      <th>frontal</th>\n",
       "      <th>sex</th>\n",
       "      <th>ageOFocc</th>\n",
       "      <th>yearacc</th>\n",
       "      <th>yearVeh</th>\n",
       "      <th>abcat</th>\n",
       "      <th>occRole</th>\n",
       "      <th>deploy</th>\n",
       "      <th>injSeverity</th>\n",
       "      <th>caseid</th>\n",
       "    </tr>\n",
       "  </thead>\n",
       "  <tbody>\n",
       "    <tr>\n",
       "      <th>0</th>\n",
       "      <td>1</td>\n",
       "      <td>25-39</td>\n",
       "      <td>25.069</td>\n",
       "      <td>alive</td>\n",
       "      <td>none</td>\n",
       "      <td>belted</td>\n",
       "      <td>1</td>\n",
       "      <td>f</td>\n",
       "      <td>26</td>\n",
       "      <td>1997</td>\n",
       "      <td>1990.0</td>\n",
       "      <td>unavail</td>\n",
       "      <td>driver</td>\n",
       "      <td>0</td>\n",
       "      <td>3.0</td>\n",
       "      <td>2:3:1</td>\n",
       "    </tr>\n",
       "    <tr>\n",
       "      <th>1</th>\n",
       "      <td>2</td>\n",
       "      <td>10-24</td>\n",
       "      <td>25.069</td>\n",
       "      <td>alive</td>\n",
       "      <td>airbag</td>\n",
       "      <td>belted</td>\n",
       "      <td>1</td>\n",
       "      <td>f</td>\n",
       "      <td>72</td>\n",
       "      <td>1997</td>\n",
       "      <td>1995.0</td>\n",
       "      <td>deploy</td>\n",
       "      <td>driver</td>\n",
       "      <td>1</td>\n",
       "      <td>1.0</td>\n",
       "      <td>2:3:2</td>\n",
       "    </tr>\n",
       "    <tr>\n",
       "      <th>2</th>\n",
       "      <td>3</td>\n",
       "      <td>10-24</td>\n",
       "      <td>32.379</td>\n",
       "      <td>alive</td>\n",
       "      <td>none</td>\n",
       "      <td>none</td>\n",
       "      <td>1</td>\n",
       "      <td>f</td>\n",
       "      <td>69</td>\n",
       "      <td>1997</td>\n",
       "      <td>1988.0</td>\n",
       "      <td>unavail</td>\n",
       "      <td>driver</td>\n",
       "      <td>0</td>\n",
       "      <td>4.0</td>\n",
       "      <td>2:5:1</td>\n",
       "    </tr>\n",
       "    <tr>\n",
       "      <th>3</th>\n",
       "      <td>4</td>\n",
       "      <td>25-39</td>\n",
       "      <td>495.444</td>\n",
       "      <td>alive</td>\n",
       "      <td>airbag</td>\n",
       "      <td>belted</td>\n",
       "      <td>1</td>\n",
       "      <td>f</td>\n",
       "      <td>53</td>\n",
       "      <td>1997</td>\n",
       "      <td>1995.0</td>\n",
       "      <td>deploy</td>\n",
       "      <td>driver</td>\n",
       "      <td>1</td>\n",
       "      <td>1.0</td>\n",
       "      <td>2:10:1</td>\n",
       "    </tr>\n",
       "    <tr>\n",
       "      <th>4</th>\n",
       "      <td>5</td>\n",
       "      <td>25-39</td>\n",
       "      <td>25.069</td>\n",
       "      <td>alive</td>\n",
       "      <td>none</td>\n",
       "      <td>belted</td>\n",
       "      <td>1</td>\n",
       "      <td>f</td>\n",
       "      <td>32</td>\n",
       "      <td>1997</td>\n",
       "      <td>1988.0</td>\n",
       "      <td>unavail</td>\n",
       "      <td>driver</td>\n",
       "      <td>0</td>\n",
       "      <td>3.0</td>\n",
       "      <td>2:11:1</td>\n",
       "    </tr>\n",
       "  </tbody>\n",
       "</table>\n",
       "</div>"
      ],
      "text/plain": [
       "   Unnamed: 0  dvcat   weight   dead  airbag seatbelt  frontal sex  ageOFocc  \\\n",
       "0           1  25-39   25.069  alive    none   belted        1   f        26   \n",
       "1           2  10-24   25.069  alive  airbag   belted        1   f        72   \n",
       "2           3  10-24   32.379  alive    none     none        1   f        69   \n",
       "3           4  25-39  495.444  alive  airbag   belted        1   f        53   \n",
       "4           5  25-39   25.069  alive    none   belted        1   f        32   \n",
       "\n",
       "   yearacc  yearVeh    abcat occRole  deploy  injSeverity  caseid  \n",
       "0     1997   1990.0  unavail  driver       0          3.0   2:3:1  \n",
       "1     1997   1995.0   deploy  driver       1          1.0   2:3:2  \n",
       "2     1997   1988.0  unavail  driver       0          4.0   2:5:1  \n",
       "3     1997   1995.0   deploy  driver       1          1.0  2:10:1  \n",
       "4     1997   1988.0  unavail  driver       0          3.0  2:11:1  "
      ]
     },
     "execution_count": 129,
     "metadata": {},
     "output_type": "execute_result"
    }
   ],
   "source": [
    "airbag_data.head()"
   ]
  },
  {
   "cell_type": "markdown",
   "metadata": {},
   "source": [
    "A drawback of this dataset is that it consists of only 26000 observations. Anyway, I will try to create a good model that can predict whether a person is alive or dead after the accident.\n",
    "\n",
    "Description of the features:\n",
    "\n",
    "- dvcat - ordered factor with levels (estimated impact speeds) 1-9km/h, 10-24, 25-39, 40-54, 55+\n",
    "- weight - Observation weights, albeit of uncertain accuracy, designed to account for varying sampling probabilities.\n",
    "- dead - factor with levels alive dead\n",
    "- airbag - a factor with levels none airbag\n",
    "- seatbelt - a factor with levels none belted\n",
    "- frontal - a numeric vector; 0 = non-frontal, 1=frontal impact\n",
    "- sex - a factor with levels f m\n",
    "- ageOFocc - age of occupant in years\n",
    "- yearacc - year of accident\n",
    "- yearVeh - Year of model of vehicle; a numeric vector\n",
    "- abcat - Did one or more (driver or passenger) airbag(s) deploy? This factor has levels deploy nodeploy unavail\n",
    "- occRole - a factor with levels driver pass\n",
    "- deploy - a numeric vector: 0 if an airbag was unavailable or did not deploy; 1 if one or more bags deployed.\n",
    "- injSeverity - a numeric vector; 0:none, 1:possible injury, 2:no incapacity, 3:incapacity, 4:killed; 5:unknown, 6:prior death\n",
    "- caseid - character, created by pasting together the populations sampling unit, the case number, and the vehicle number. Within each year, use this to uniquely identify the vehicle."
   ]
  },
  {
   "cell_type": "markdown",
   "metadata": {},
   "source": [
    "## 1. Data Cleaning and Manipulation"
   ]
  },
  {
   "cell_type": "markdown",
   "metadata": {},
   "source": [
    "In order to clean the dataset, I will perform the following operations:\n",
    "1. I will remove the features that wont be used in this research - caseid, Unnamed:0, dvcat, yearacc and weight, because it is either not clear how they are measured  / what they mean or they will not contribute to building a better performing model.\n",
    "2. I will check the dtypes\n",
    "3. I will rename the features\n",
    "4. I will replace the values in my target column so that the 1 represent the rare case."
   ]
  },
  {
   "cell_type": "code",
   "execution_count": 130,
   "metadata": {},
   "outputs": [],
   "source": [
    "airbag_data = airbag_data.drop([\"caseid\", \"Unnamed: 0\", \"weight\", \"yearacc\", \"injSeverity\", \"deploy\"], axis=1)"
   ]
  },
  {
   "cell_type": "code",
   "execution_count": 131,
   "metadata": {},
   "outputs": [
    {
     "data": {
      "text/html": [
       "<div>\n",
       "<style scoped>\n",
       "    .dataframe tbody tr th:only-of-type {\n",
       "        vertical-align: middle;\n",
       "    }\n",
       "\n",
       "    .dataframe tbody tr th {\n",
       "        vertical-align: top;\n",
       "    }\n",
       "\n",
       "    .dataframe thead th {\n",
       "        text-align: right;\n",
       "    }\n",
       "</style>\n",
       "<table border=\"1\" class=\"dataframe\">\n",
       "  <thead>\n",
       "    <tr style=\"text-align: right;\">\n",
       "      <th></th>\n",
       "      <th>dvcat</th>\n",
       "      <th>dead</th>\n",
       "      <th>airbag</th>\n",
       "      <th>seatbelt</th>\n",
       "      <th>frontal</th>\n",
       "      <th>sex</th>\n",
       "      <th>ageOFocc</th>\n",
       "      <th>yearVeh</th>\n",
       "      <th>abcat</th>\n",
       "      <th>occRole</th>\n",
       "    </tr>\n",
       "  </thead>\n",
       "  <tbody>\n",
       "    <tr>\n",
       "      <th>0</th>\n",
       "      <td>25-39</td>\n",
       "      <td>alive</td>\n",
       "      <td>none</td>\n",
       "      <td>belted</td>\n",
       "      <td>1</td>\n",
       "      <td>f</td>\n",
       "      <td>26</td>\n",
       "      <td>1990.0</td>\n",
       "      <td>unavail</td>\n",
       "      <td>driver</td>\n",
       "    </tr>\n",
       "    <tr>\n",
       "      <th>1</th>\n",
       "      <td>10-24</td>\n",
       "      <td>alive</td>\n",
       "      <td>airbag</td>\n",
       "      <td>belted</td>\n",
       "      <td>1</td>\n",
       "      <td>f</td>\n",
       "      <td>72</td>\n",
       "      <td>1995.0</td>\n",
       "      <td>deploy</td>\n",
       "      <td>driver</td>\n",
       "    </tr>\n",
       "    <tr>\n",
       "      <th>2</th>\n",
       "      <td>10-24</td>\n",
       "      <td>alive</td>\n",
       "      <td>none</td>\n",
       "      <td>none</td>\n",
       "      <td>1</td>\n",
       "      <td>f</td>\n",
       "      <td>69</td>\n",
       "      <td>1988.0</td>\n",
       "      <td>unavail</td>\n",
       "      <td>driver</td>\n",
       "    </tr>\n",
       "    <tr>\n",
       "      <th>3</th>\n",
       "      <td>25-39</td>\n",
       "      <td>alive</td>\n",
       "      <td>airbag</td>\n",
       "      <td>belted</td>\n",
       "      <td>1</td>\n",
       "      <td>f</td>\n",
       "      <td>53</td>\n",
       "      <td>1995.0</td>\n",
       "      <td>deploy</td>\n",
       "      <td>driver</td>\n",
       "    </tr>\n",
       "    <tr>\n",
       "      <th>4</th>\n",
       "      <td>25-39</td>\n",
       "      <td>alive</td>\n",
       "      <td>none</td>\n",
       "      <td>belted</td>\n",
       "      <td>1</td>\n",
       "      <td>f</td>\n",
       "      <td>32</td>\n",
       "      <td>1988.0</td>\n",
       "      <td>unavail</td>\n",
       "      <td>driver</td>\n",
       "    </tr>\n",
       "  </tbody>\n",
       "</table>\n",
       "</div>"
      ],
      "text/plain": [
       "   dvcat   dead  airbag seatbelt  frontal sex  ageOFocc  yearVeh    abcat  \\\n",
       "0  25-39  alive    none   belted        1   f        26   1990.0  unavail   \n",
       "1  10-24  alive  airbag   belted        1   f        72   1995.0   deploy   \n",
       "2  10-24  alive    none     none        1   f        69   1988.0  unavail   \n",
       "3  25-39  alive  airbag   belted        1   f        53   1995.0   deploy   \n",
       "4  25-39  alive    none   belted        1   f        32   1988.0  unavail   \n",
       "\n",
       "  occRole  \n",
       "0  driver  \n",
       "1  driver  \n",
       "2  driver  \n",
       "3  driver  \n",
       "4  driver  "
      ]
     },
     "execution_count": 131,
     "metadata": {},
     "output_type": "execute_result"
    }
   ],
   "source": [
    "airbag_data.head()"
   ]
  },
  {
   "cell_type": "code",
   "execution_count": 132,
   "metadata": {},
   "outputs": [
    {
     "data": {
      "text/plain": [
       "dvcat        object\n",
       "dead         object\n",
       "airbag       object\n",
       "seatbelt     object\n",
       "frontal       int64\n",
       "sex          object\n",
       "ageOFocc      int64\n",
       "yearVeh     float64\n",
       "abcat        object\n",
       "occRole      object\n",
       "dtype: object"
      ]
     },
     "execution_count": 132,
     "metadata": {},
     "output_type": "execute_result"
    }
   ],
   "source": [
    "airbag_data.dtypes"
   ]
  },
  {
   "cell_type": "code",
   "execution_count": 133,
   "metadata": {},
   "outputs": [],
   "source": [
    "airbag_data.columns = [\"speed_impact\", \"y\", \"is_airbag\", \"is_seatbelt\", \"is_frontal\", \"sex\", \"age\", \"vehicle_year\", \"airbag_deploy\", \"role\"]"
   ]
  },
  {
   "cell_type": "code",
   "execution_count": 134,
   "metadata": {},
   "outputs": [],
   "source": [
    "airbag_data = airbag_data[[\"role\", \"age\", \"sex\", \"vehicle_year\", \"is_frontal\", \"speed_impact\", \"is_seatbelt\", \"is_airbag\", \"airbag_deploy\", \"y\"]]"
   ]
  },
  {
   "cell_type": "code",
   "execution_count": 135,
   "metadata": {},
   "outputs": [],
   "source": [
    "airbag_data.y = airbag_data.y.replace({\"alive\":0, \"dead\":1})"
   ]
  },
  {
   "cell_type": "code",
   "execution_count": 136,
   "metadata": {},
   "outputs": [
    {
     "data": {
      "text/html": [
       "<div>\n",
       "<style scoped>\n",
       "    .dataframe tbody tr th:only-of-type {\n",
       "        vertical-align: middle;\n",
       "    }\n",
       "\n",
       "    .dataframe tbody tr th {\n",
       "        vertical-align: top;\n",
       "    }\n",
       "\n",
       "    .dataframe thead th {\n",
       "        text-align: right;\n",
       "    }\n",
       "</style>\n",
       "<table border=\"1\" class=\"dataframe\">\n",
       "  <thead>\n",
       "    <tr style=\"text-align: right;\">\n",
       "      <th></th>\n",
       "      <th>role</th>\n",
       "      <th>age</th>\n",
       "      <th>sex</th>\n",
       "      <th>vehicle_year</th>\n",
       "      <th>is_frontal</th>\n",
       "      <th>speed_impact</th>\n",
       "      <th>is_seatbelt</th>\n",
       "      <th>is_airbag</th>\n",
       "      <th>airbag_deploy</th>\n",
       "      <th>y</th>\n",
       "    </tr>\n",
       "  </thead>\n",
       "  <tbody>\n",
       "    <tr>\n",
       "      <th>0</th>\n",
       "      <td>driver</td>\n",
       "      <td>26</td>\n",
       "      <td>f</td>\n",
       "      <td>1990.0</td>\n",
       "      <td>1</td>\n",
       "      <td>25-39</td>\n",
       "      <td>belted</td>\n",
       "      <td>none</td>\n",
       "      <td>unavail</td>\n",
       "      <td>0</td>\n",
       "    </tr>\n",
       "    <tr>\n",
       "      <th>1</th>\n",
       "      <td>driver</td>\n",
       "      <td>72</td>\n",
       "      <td>f</td>\n",
       "      <td>1995.0</td>\n",
       "      <td>1</td>\n",
       "      <td>10-24</td>\n",
       "      <td>belted</td>\n",
       "      <td>airbag</td>\n",
       "      <td>deploy</td>\n",
       "      <td>0</td>\n",
       "    </tr>\n",
       "    <tr>\n",
       "      <th>2</th>\n",
       "      <td>driver</td>\n",
       "      <td>69</td>\n",
       "      <td>f</td>\n",
       "      <td>1988.0</td>\n",
       "      <td>1</td>\n",
       "      <td>10-24</td>\n",
       "      <td>none</td>\n",
       "      <td>none</td>\n",
       "      <td>unavail</td>\n",
       "      <td>0</td>\n",
       "    </tr>\n",
       "    <tr>\n",
       "      <th>3</th>\n",
       "      <td>driver</td>\n",
       "      <td>53</td>\n",
       "      <td>f</td>\n",
       "      <td>1995.0</td>\n",
       "      <td>1</td>\n",
       "      <td>25-39</td>\n",
       "      <td>belted</td>\n",
       "      <td>airbag</td>\n",
       "      <td>deploy</td>\n",
       "      <td>0</td>\n",
       "    </tr>\n",
       "    <tr>\n",
       "      <th>4</th>\n",
       "      <td>driver</td>\n",
       "      <td>32</td>\n",
       "      <td>f</td>\n",
       "      <td>1988.0</td>\n",
       "      <td>1</td>\n",
       "      <td>25-39</td>\n",
       "      <td>belted</td>\n",
       "      <td>none</td>\n",
       "      <td>unavail</td>\n",
       "      <td>0</td>\n",
       "    </tr>\n",
       "  </tbody>\n",
       "</table>\n",
       "</div>"
      ],
      "text/plain": [
       "     role  age sex  vehicle_year  is_frontal speed_impact is_seatbelt  \\\n",
       "0  driver   26   f        1990.0           1        25-39      belted   \n",
       "1  driver   72   f        1995.0           1        10-24      belted   \n",
       "2  driver   69   f        1988.0           1        10-24        none   \n",
       "3  driver   53   f        1995.0           1        25-39      belted   \n",
       "4  driver   32   f        1988.0           1        25-39      belted   \n",
       "\n",
       "  is_airbag airbag_deploy  y  \n",
       "0      none       unavail  0  \n",
       "1    airbag        deploy  0  \n",
       "2      none       unavail  0  \n",
       "3    airbag        deploy  0  \n",
       "4      none       unavail  0  "
      ]
     },
     "execution_count": 136,
     "metadata": {},
     "output_type": "execute_result"
    }
   ],
   "source": [
    "airbag_data.head()"
   ]
  },
  {
   "cell_type": "markdown",
   "metadata": {},
   "source": [
    "Ok, now my dataset is sorted, clean and ready for the check whether there are NaN values:"
   ]
  },
  {
   "cell_type": "code",
   "execution_count": 137,
   "metadata": {},
   "outputs": [
    {
     "data": {
      "text/plain": [
       "role             0\n",
       "age              0\n",
       "sex              0\n",
       "vehicle_year     1\n",
       "is_frontal       0\n",
       "speed_impact     0\n",
       "is_seatbelt      0\n",
       "is_airbag        0\n",
       "airbag_deploy    0\n",
       "y                0\n",
       "dtype: int64"
      ]
     },
     "execution_count": 137,
     "metadata": {},
     "output_type": "execute_result"
    }
   ],
   "source": [
    "airbag_data.isna().sum()"
   ]
  },
  {
   "cell_type": "markdown",
   "metadata": {},
   "source": [
    "Perfect, I will remove this one missing value. It will not have any influence on my models later. After that I will create some charts in order to visualize the data."
   ]
  },
  {
   "cell_type": "code",
   "execution_count": 138,
   "metadata": {},
   "outputs": [],
   "source": [
    "airbag_data = airbag_data.dropna()"
   ]
  },
  {
   "cell_type": "code",
   "execution_count": 139,
   "metadata": {},
   "outputs": [
    {
     "data": {
      "text/plain": [
       "(26216, 10)"
      ]
     },
     "execution_count": 139,
     "metadata": {},
     "output_type": "execute_result"
    }
   ],
   "source": [
    "airbag_data.shape"
   ]
  },
  {
   "cell_type": "markdown",
   "metadata": {},
   "source": [
    "## 2. Data Visualization"
   ]
  },
  {
   "cell_type": "markdown",
   "metadata": {},
   "source": [
    "First, I will visualize my target column to see whether a stratification will be needed:"
   ]
  },
  {
   "cell_type": "code",
   "execution_count": 140,
   "metadata": {},
   "outputs": [
    {
     "data": {
      "image/png": "[encoded data removed]",
      "text/plain": [
       "<Figure size 432x288 with 1 Axes>"
      ]
     },
     "metadata": {
      "needs_background": "light"
     },
     "output_type": "display_data"
    }
   ],
   "source": [
    "airbag_data.y.value_counts().plot.bar()\n",
    "plt.ylabel(\"Number of cases\", fontsize = 12)\n",
    "plt.xlabel(\"Output\", fontsize = 12)\n",
    "plt.title(\"Target value distribution\", fontsize = 18)\n",
    "plt.show()"
   ]
  },
  {
   "cell_type": "code",
   "execution_count": 141,
   "metadata": {},
   "outputs": [
    {
     "data": {
      "text/plain": [
       "0    95.498932\n",
       "1     4.501068\n",
       "Name: y, dtype: float64"
      ]
     },
     "execution_count": 141,
     "metadata": {},
     "output_type": "execute_result"
    }
   ],
   "source": [
    "airbag_data.y.value_counts()/len(airbag_data)*100"
   ]
  },
  {
   "cell_type": "markdown",
   "metadata": {},
   "source": [
    "It can be clearly seen that the output data is very imbalanced. Approximately 95.5% of the outputs are 0 (which means that the people are alive after the accident). This means that my model will have accuracy of 95.5% if it only predicts 0. I will consider this a bit later when I train my models.\n",
    "\n",
    "I will use the same approach to visualize the distribution of the categories in the other features and to see whether there is something interesting there:"
   ]
  },
  {
   "cell_type": "code",
   "execution_count": 142,
   "metadata": {},
   "outputs": [
    {
     "data": {
      "image/png": "[encoded data removed]",
      "text/plain": [
       "<Figure size 432x288 with 1 Axes>"
      ]
     },
     "metadata": {
      "needs_background": "light"
     },
     "output_type": "display_data"
    }
   ],
   "source": [
    "airbag_data.is_airbag.value_counts().plot.bar()\n",
    "plt.ylabel(\"Number of cases\", fontsize = 12)\n",
    "plt.xlabel(\"Output\", fontsize = 12)\n",
    "plt.title(\"Distribution of the cars with and without airbags\", fontsize = 18)\n",
    "plt.show()"
   ]
  },
  {
   "cell_type": "code",
   "execution_count": 143,
   "metadata": {},
   "outputs": [
    {
     "data": {
      "image/png": "[encoded data removed]",
      "text/plain": [
       "<Figure size 432x288 with 1 Axes>"
      ]
     },
     "metadata": {
      "needs_background": "light"
     },
     "output_type": "display_data"
    }
   ],
   "source": [
    "airbag_data.is_seatbelt.value_counts().plot.bar()\n",
    "plt.ylabel(\"Number of cases\", fontsize = 12)\n",
    "plt.xlabel(\"Output\", fontsize = 12)\n",
    "plt.title(\"Seatbelt usage\", fontsize = 18)\n",
    "plt.show()"
   ]
  },
  {
   "cell_type": "code",
   "execution_count": 144,
   "metadata": {},
   "outputs": [
    {
     "data": {
      "image/png": "[encoded data removed]",
      "text/plain": [
       "<Figure size 432x288 with 1 Axes>"
      ]
     },
     "metadata": {
      "needs_background": "light"
     },
     "output_type": "display_data"
    }
   ],
   "source": [
    "airbag_data.airbag_deploy.value_counts().plot.bar()\n",
    "plt.ylabel(\"Number of cases\", fontsize = 12)\n",
    "plt.xlabel(\"Output\", fontsize = 12)\n",
    "plt.title(\"Airbag deployment\", fontsize = 18)\n",
    "plt.show()"
   ]
  },
  {
   "cell_type": "code",
   "execution_count": 145,
   "metadata": {},
   "outputs": [
    {
     "data": {
      "text/plain": [
       "unavail     11798\n",
       "deploy       8835\n",
       "nodeploy     5583\n",
       "Name: airbag_deploy, dtype: int64"
      ]
     },
     "execution_count": 145,
     "metadata": {},
     "output_type": "execute_result"
    }
   ],
   "source": [
    "airbag_data.airbag_deploy.value_counts()"
   ]
  },
  {
   "cell_type": "code",
   "execution_count": 146,
   "metadata": {},
   "outputs": [
    {
     "data": {
      "image/png": "[encoded data removed]",
      "text/plain": [
       "<Figure size 432x288 with 1 Axes>"
      ]
     },
     "metadata": {
      "needs_background": "light"
     },
     "output_type": "display_data"
    }
   ],
   "source": [
    "airbag_data.sex.value_counts().plot.bar()\n",
    "plt.ylabel(\"Number of cases\", fontsize = 12)\n",
    "plt.xlabel(\"Output\", fontsize = 12)\n",
    "plt.title(\"Sex distribution\", fontsize = 18)\n",
    "plt.show()"
   ]
  },
  {
   "cell_type": "markdown",
   "metadata": {},
   "source": [
    "Looking at the charts, I can make 4 important suggestions:\n",
    "1. Almost 50% of the vehicles back then do not have an airbag at all.\n",
    "2. Approximately 2/3 of the people use seatbelt while driving.\n",
    "3. Even if the vehicle does have an airbag, there is about 40% probability that it will not open during an accident. Of course, this depends also on the accident severity.\n",
    "4. The dataset is very sex-balanced and there are almost that many female drivers as male drivers.\n",
    "\n",
    "Now I want to split the dataset into two parts - one consisting all the positive cases and another all the negative. Then I will look closer again what was the performance of the airbag in both groups. I expect that in the positive cases dataset, most of the vehicles did not have airbags or they did not deploy and this led to a death of a passanger. I dont expect any differences in the distribution when comparing the sex factor."
   ]
  },
  {
   "cell_type": "code",
   "execution_count": 147,
   "metadata": {},
   "outputs": [],
   "source": [
    "positive_cases = airbag_data[airbag_data[\"y\"] == 1]\n",
    "negative_cases = airbag_data[airbag_data[\"y\"] == 0]"
   ]
  },
  {
   "cell_type": "code",
   "execution_count": 148,
   "metadata": {},
   "outputs": [
    {
     "data": {
      "image/png": "[encoded data removed]",
      "text/plain": [
       "<Figure size 432x288 with 1 Axes>"
      ]
     },
     "metadata": {
      "needs_background": "light"
     },
     "output_type": "display_data"
    }
   ],
   "source": [
    "positive_cases.sex.value_counts().plot.bar()\n",
    "plt.ylabel(\"Number of cases\", fontsize = 12)\n",
    "plt.xlabel(\"Output\", fontsize = 12)\n",
    "plt.title(\"Sex distribution (positive cases)\", fontsize = 18)\n",
    "plt.show()"
   ]
  },
  {
   "cell_type": "code",
   "execution_count": 149,
   "metadata": {},
   "outputs": [
    {
     "data": {
      "image/png": "[encoded data removed]",
      "text/plain": [
       "<Figure size 432x288 with 1 Axes>"
      ]
     },
     "metadata": {
      "needs_background": "light"
     },
     "output_type": "display_data"
    }
   ],
   "source": [
    "negative_cases.sex.value_counts().plot.bar()\n",
    "plt.ylabel(\"Number of cases\", fontsize = 12)\n",
    "plt.xlabel(\"Output\", fontsize = 12)\n",
    "plt.title(\"Sex distribution (negative cases)\", fontsize = 18)\n",
    "plt.show()"
   ]
  },
  {
   "cell_type": "markdown",
   "metadata": {},
   "source": [
    "No significant difference in the distribution, but if comparing percentages, it looks like men die more often in an accident."
   ]
  },
  {
   "cell_type": "code",
   "execution_count": 150,
   "metadata": {},
   "outputs": [
    {
     "data": {
      "image/png": "[encoded data removed]",
      "text/plain": [
       "<Figure size 432x288 with 1 Axes>"
      ]
     },
     "metadata": {
      "needs_background": "light"
     },
     "output_type": "display_data"
    }
   ],
   "source": [
    "positive_cases.is_airbag.value_counts().plot.bar()\n",
    "plt.ylabel(\"Number of cases\", fontsize = 12)\n",
    "plt.xlabel(\"Output\", fontsize = 12)\n",
    "plt.title(\"Distribution of the cars with and without airbags (positive cases)\", fontsize = 18)\n",
    "plt.show()"
   ]
  },
  {
   "cell_type": "code",
   "execution_count": 151,
   "metadata": {},
   "outputs": [
    {
     "data": {
      "image/png": "[encoded data removed]",
      "text/plain": [
       "<Figure size 432x288 with 1 Axes>"
      ]
     },
     "metadata": {
      "needs_background": "light"
     },
     "output_type": "display_data"
    }
   ],
   "source": [
    "negative_cases.is_airbag.value_counts().plot.bar()\n",
    "plt.ylabel(\"Number of cases\", fontsize = 12)\n",
    "plt.xlabel(\"Output\", fontsize = 12)\n",
    "plt.title(\"Distribution of the cars with and without airbags (negative cases)\", fontsize = 18)\n",
    "plt.show()"
   ]
  },
  {
   "cell_type": "markdown",
   "metadata": {},
   "source": [
    "Yes, as predicted, most of the dead cases were people who drove a car without airbag. Now I will check whether the same goes for the seatbelt:"
   ]
  },
  {
   "cell_type": "code",
   "execution_count": 152,
   "metadata": {},
   "outputs": [
    {
     "data": {
      "image/png": "[encoded data removed]",
      "text/plain": [
       "<Figure size 432x288 with 1 Axes>"
      ]
     },
     "metadata": {
      "needs_background": "light"
     },
     "output_type": "display_data"
    }
   ],
   "source": [
    "positive_cases.is_seatbelt.value_counts().plot.bar()\n",
    "plt.ylabel(\"Number of cases\", fontsize = 12)\n",
    "plt.xlabel(\"Output\", fontsize = 12)\n",
    "plt.title(\"Seatbelt usage (positive cases)\", fontsize = 18)\n",
    "plt.show()"
   ]
  },
  {
   "cell_type": "code",
   "execution_count": 153,
   "metadata": {},
   "outputs": [
    {
     "data": {
      "image/png": "[encoded data removed]",
      "text/plain": [
       "<Figure size 432x288 with 1 Axes>"
      ]
     },
     "metadata": {
      "needs_background": "light"
     },
     "output_type": "display_data"
    }
   ],
   "source": [
    "negative_cases.is_seatbelt.value_counts().plot.bar()\n",
    "plt.ylabel(\"Number of cases\", fontsize = 12)\n",
    "plt.xlabel(\"Output\", fontsize = 12)\n",
    "plt.title(\"Seatbelt usage (negative cases)\", fontsize = 18)\n",
    "plt.show()"
   ]
  },
  {
   "cell_type": "markdown",
   "metadata": {},
   "source": [
    "And yes, most of the dead cases were not using a seatbelt during the accident. The last thing I will visualise before I test a hypothesis is the deployment distribution in both groups:"
   ]
  },
  {
   "cell_type": "code",
   "execution_count": 154,
   "metadata": {},
   "outputs": [
    {
     "data": {
      "image/png": "[encoded data removed]",
      "text/plain": [
       "<Figure size 432x288 with 1 Axes>"
      ]
     },
     "metadata": {
      "needs_background": "light"
     },
     "output_type": "display_data"
    }
   ],
   "source": [
    "positive_cases.airbag_deploy.value_counts().plot.bar()\n",
    "plt.ylabel(\"Number of cases\", fontsize = 12)\n",
    "plt.xlabel(\"Output\", fontsize = 12)\n",
    "plt.title(\"Airbag deployment (positive cases)\", fontsize = 18)\n",
    "plt.show()"
   ]
  },
  {
   "cell_type": "code",
   "execution_count": 155,
   "metadata": {},
   "outputs": [
    {
     "data": {
      "image/png": "[encoded data removed]",
      "text/plain": [
       "<Figure size 432x288 with 1 Axes>"
      ]
     },
     "metadata": {
      "needs_background": "light"
     },
     "output_type": "display_data"
    }
   ],
   "source": [
    "negative_cases.airbag_deploy.value_counts().plot.bar()\n",
    "plt.ylabel(\"Number of cases\", fontsize = 12)\n",
    "plt.xlabel(\"Output\", fontsize = 12)\n",
    "plt.title(\"Airbag deployment (negative cases)\", fontsize = 18)\n",
    "plt.show()"
   ]
  },
  {
   "cell_type": "markdown",
   "metadata": {},
   "source": [
    "It seems that there is no significant difference in the distribution.\n",
    "\n",
    "Now, when I know something more about the distribution of the data, I can start preparing the data for modelation and then I will train some models and compare them."
   ]
  },
  {
   "cell_type": "markdown",
   "metadata": {},
   "source": [
    "## 3. Hypothesis Testing "
   ]
  },
  {
   "cell_type": "markdown",
   "metadata": {},
   "source": [
    "__Unfortunately, the dataset is way too small in order to make better chisqured tests."
   ]
  },
  {
   "cell_type": "markdown",
   "metadata": {},
   "source": [
    "### 3.1 Female vs Male "
   ]
  },
  {
   "cell_type": "markdown",
   "metadata": {},
   "source": [
    "First I will test the independence of the sex factor. Here are my hypothesis:\n",
    "\n",
    "H0: Male and Female variables are independent.\n",
    "\n",
    "H1: Male and Female variables are dependent.\n",
    "\n",
    "First I will prepare my data and then I will use the Chisquare Test. The level of significance I will use is 0.01:"
   ]
  },
  {
   "cell_type": "code",
   "execution_count": 156,
   "metadata": {},
   "outputs": [],
   "source": [
    "positive_cases_sex = positive_cases.sex.value_counts()\n",
    "negative_cases_sex = negative_cases.sex.value_counts()"
   ]
  },
  {
   "cell_type": "code",
   "execution_count": 157,
   "metadata": {},
   "outputs": [
    {
     "data": {
      "text/plain": [
       "Power_divergenceResult(statistic=22732.955376472655, pvalue=0.0)"
      ]
     },
     "execution_count": 157,
     "metadata": {},
     "output_type": "execute_result"
    }
   ],
   "source": [
    "chisquare(positive_cases_sex, f_exp = negative_cases_sex)"
   ]
  },
  {
   "cell_type": "markdown",
   "metadata": {},
   "source": [
    "Well, the pvalue is less than the significance level, so I can reject the H0, stating that the male and female variable in my dataset are not independent."
   ]
  },
  {
   "cell_type": "markdown",
   "metadata": {},
   "source": [
    "### 3.2 Belted vs not Belted "
   ]
  },
  {
   "cell_type": "markdown",
   "metadata": {},
   "source": [
    "The next hypothesis test I will test is the indepenence of the seatbelt factor:\n",
    "\n",
    "H0: Belted and not Belted variables are independent.\n",
    "\n",
    "H1: Belted and not Belted variables are dependent.\n",
    "\n",
    "I will again prepare my data and then I will use the Chisquare Test with level of significance 0.01:"
   ]
  },
  {
   "cell_type": "code",
   "execution_count": 158,
   "metadata": {},
   "outputs": [],
   "source": [
    "positive_cases_belted = positive_cases.is_seatbelt.value_counts()\n",
    "negative_cases_belted = negative_cases.is_seatbelt.value_counts()"
   ]
  },
  {
   "cell_type": "code",
   "execution_count": 159,
   "metadata": {},
   "outputs": [
    {
     "data": {
      "text/plain": [
       "Power_divergenceResult(statistic=22737.485451391192, pvalue=0.0)"
      ]
     },
     "execution_count": 159,
     "metadata": {},
     "output_type": "execute_result"
    }
   ],
   "source": [
    "chisquare(positive_cases_belted, f_exp = negative_cases_belted)"
   ]
  },
  {
   "cell_type": "markdown",
   "metadata": {},
   "source": [
    "Same story, H0 can be rejected which means that there is dependence between the variables."
   ]
  },
  {
   "cell_type": "markdown",
   "metadata": {},
   "source": [
    "### 3.3 Airbag vs no Airbag "
   ]
  },
  {
   "cell_type": "markdown",
   "metadata": {},
   "source": [
    "The last hypothesis test I will test is the indepenence of the airbag factor:\n",
    "\n",
    "H0: Airbag vs no Airbag variables are independent.\n",
    "\n",
    "H1: Airbag vs no Airbag variables are dependent.\n",
    "\n",
    "I will again prepare my data and then I will use the Chisquare Test with level of significance 0.01:"
   ]
  },
  {
   "cell_type": "code",
   "execution_count": 160,
   "metadata": {},
   "outputs": [],
   "source": [
    "positive_cases_airbag = positive_cases.is_airbag.value_counts()\n",
    "negative_cases_airbag = negative_cases.is_airbag.value_counts()"
   ]
  },
  {
   "cell_type": "code",
   "execution_count": 161,
   "metadata": {},
   "outputs": [
    {
     "data": {
      "text/plain": [
       "none      669\n",
       "airbag    511\n",
       "Name: is_airbag, dtype: int64"
      ]
     },
     "execution_count": 161,
     "metadata": {},
     "output_type": "execute_result"
    }
   ],
   "source": [
    "positive_cases_airbag"
   ]
  },
  {
   "cell_type": "code",
   "execution_count": 162,
   "metadata": {},
   "outputs": [
    {
     "data": {
      "text/plain": [
       "airbag    13907\n",
       "none      11129\n",
       "Name: is_airbag, dtype: int64"
      ]
     },
     "execution_count": 162,
     "metadata": {},
     "output_type": "execute_result"
    }
   ],
   "source": [
    "negative_cases_airbag"
   ]
  },
  {
   "cell_type": "code",
   "execution_count": 163,
   "metadata": {},
   "outputs": [
    {
     "data": {
      "text/plain": [
       "Power_divergenceResult(statistic=22734.991970453277, pvalue=0.0)"
      ]
     },
     "execution_count": 163,
     "metadata": {},
     "output_type": "execute_result"
    }
   ],
   "source": [
    "chisquare([669, 511], f_exp = [11129,13907])"
   ]
  },
  {
   "cell_type": "markdown",
   "metadata": {},
   "source": [
    "And again, the H0 can be rejected. This means that the airbag variable is not independent."
   ]
  },
  {
   "cell_type": "markdown",
   "metadata": {},
   "source": [
    "## 4. Data modelation"
   ]
  },
  {
   "cell_type": "markdown",
   "metadata": {},
   "source": [
    "First, I will check the correlation between the different features:"
   ]
  },
  {
   "cell_type": "code",
   "execution_count": 164,
   "metadata": {},
   "outputs": [
    {
     "data": {
      "text/html": [
       "<div>\n",
       "<style scoped>\n",
       "    .dataframe tbody tr th:only-of-type {\n",
       "        vertical-align: middle;\n",
       "    }\n",
       "\n",
       "    .dataframe tbody tr th {\n",
       "        vertical-align: top;\n",
       "    }\n",
       "\n",
       "    .dataframe thead th {\n",
       "        text-align: right;\n",
       "    }\n",
       "</style>\n",
       "<table border=\"1\" class=\"dataframe\">\n",
       "  <thead>\n",
       "    <tr style=\"text-align: right;\">\n",
       "      <th></th>\n",
       "      <th>age</th>\n",
       "      <th>vehicle_year</th>\n",
       "      <th>is_frontal</th>\n",
       "      <th>y</th>\n",
       "    </tr>\n",
       "  </thead>\n",
       "  <tbody>\n",
       "    <tr>\n",
       "      <th>age</th>\n",
       "      <td>1.000000</td>\n",
       "      <td>0.016451</td>\n",
       "      <td>-0.044237</td>\n",
       "      <td>0.089809</td>\n",
       "    </tr>\n",
       "    <tr>\n",
       "      <th>vehicle_year</th>\n",
       "      <td>0.016451</td>\n",
       "      <td>1.000000</td>\n",
       "      <td>-0.028896</td>\n",
       "      <td>-0.052435</td>\n",
       "    </tr>\n",
       "    <tr>\n",
       "      <th>is_frontal</th>\n",
       "      <td>-0.044237</td>\n",
       "      <td>-0.028896</td>\n",
       "      <td>1.000000</td>\n",
       "      <td>-0.068022</td>\n",
       "    </tr>\n",
       "    <tr>\n",
       "      <th>y</th>\n",
       "      <td>0.089809</td>\n",
       "      <td>-0.052435</td>\n",
       "      <td>-0.068022</td>\n",
       "      <td>1.000000</td>\n",
       "    </tr>\n",
       "  </tbody>\n",
       "</table>\n",
       "</div>"
      ],
      "text/plain": [
       "                   age  vehicle_year  is_frontal         y\n",
       "age           1.000000      0.016451   -0.044237  0.089809\n",
       "vehicle_year  0.016451      1.000000   -0.028896 -0.052435\n",
       "is_frontal   -0.044237     -0.028896    1.000000 -0.068022\n",
       "y             0.089809     -0.052435   -0.068022  1.000000"
      ]
     },
     "execution_count": 164,
     "metadata": {},
     "output_type": "execute_result"
    }
   ],
   "source": [
    "airbag_data.corr()"
   ]
  },
  {
   "cell_type": "markdown",
   "metadata": {},
   "source": [
    "Looks like there is no single correlation, even a light one.\n",
    "\n",
    "Now I will make all the features to be categorical (boolean) and then I will create my features variable and my target variable:"
   ]
  },
  {
   "cell_type": "code",
   "execution_count": 165,
   "metadata": {},
   "outputs": [],
   "source": [
    "airbag_data = pd.get_dummies(airbag_data)"
   ]
  },
  {
   "cell_type": "code",
   "execution_count": 166,
   "metadata": {},
   "outputs": [],
   "source": [
    "airbag_data_features = airbag_data.drop(\"y\", axis = 1)\n",
    "airbag_data_target = airbag_data.y"
   ]
  },
  {
   "cell_type": "markdown",
   "metadata": {},
   "source": [
    "Now I will need to scale my data, because most of the features have values 0 and 1 only, but some of them (like the age or the year of the vehicle) have values that are much higher. For this reason, I will perform the normalization of the data using the MinMaxScaler:"
   ]
  },
  {
   "cell_type": "code",
   "execution_count": 167,
   "metadata": {},
   "outputs": [],
   "source": [
    "scaler = MinMaxScaler()"
   ]
  },
  {
   "cell_type": "code",
   "execution_count": 168,
   "metadata": {},
   "outputs": [],
   "source": [
    "airbag_data_features = scaler.fit_transform(airbag_data_features)"
   ]
  },
  {
   "cell_type": "markdown",
   "metadata": {},
   "source": [
    "Now it is time to split the dataset into train and test data. I will use the standard split - 70/30%. When splitting I will stratify the data, because it is highly imbalanced (as I have already shown a bit earlier). Then I will check the shapes of the 4 new variables so that I am sure I did not make any mistake."
   ]
  },
  {
   "cell_type": "code",
   "execution_count": 169,
   "metadata": {},
   "outputs": [],
   "source": [
    "airbag_data_features_train, airbag_data_features_test, airbag_data_target_train, airbag_data_target_test = train_test_split(airbag_data_features, airbag_data_target, train_size = 0.7,random_state = 42, stratify = airbag_data_target)"
   ]
  },
  {
   "cell_type": "code",
   "execution_count": 170,
   "metadata": {},
   "outputs": [
    {
     "data": {
      "text/plain": [
       "(18351, 19)"
      ]
     },
     "execution_count": 170,
     "metadata": {},
     "output_type": "execute_result"
    }
   ],
   "source": [
    "airbag_data_features_train.shape"
   ]
  },
  {
   "cell_type": "code",
   "execution_count": 171,
   "metadata": {},
   "outputs": [
    {
     "data": {
      "text/plain": [
       "(18351,)"
      ]
     },
     "execution_count": 171,
     "metadata": {},
     "output_type": "execute_result"
    }
   ],
   "source": [
    "airbag_data_target_train.shape"
   ]
  },
  {
   "cell_type": "code",
   "execution_count": 172,
   "metadata": {},
   "outputs": [
    {
     "data": {
      "text/plain": [
       "(7865, 19)"
      ]
     },
     "execution_count": 172,
     "metadata": {},
     "output_type": "execute_result"
    }
   ],
   "source": [
    "airbag_data_features_test.shape"
   ]
  },
  {
   "cell_type": "code",
   "execution_count": 173,
   "metadata": {},
   "outputs": [
    {
     "data": {
      "text/plain": [
       "(7865,)"
      ]
     },
     "execution_count": 173,
     "metadata": {},
     "output_type": "execute_result"
    }
   ],
   "source": [
    "airbag_data_target_test.shape"
   ]
  },
  {
   "cell_type": "markdown",
   "metadata": {},
   "source": [
    "The last thing I will do before I start training different models is to prepare a Kfold split parameter, which will be used later in the model training part. I will set the splits to be 10 so that the testing fold consist of approximately 1800 observations. This should be a good starting point."
   ]
  },
  {
   "cell_type": "code",
   "execution_count": 174,
   "metadata": {},
   "outputs": [],
   "source": [
    "k_fold = StratifiedKFold(n_splits=10)"
   ]
  },
  {
   "cell_type": "markdown",
   "metadata": {},
   "source": [
    "### 4.1 Logistic regression"
   ]
  },
  {
   "cell_type": "markdown",
   "metadata": {},
   "source": [
    "The data is prepared for modelation. The first method I will use for this classification problem will be the logistic regression. I will give some values for the parameter C and using the Grid search I will optimize my model. I will not use the accuracy score to evaluate it though, because I already showed that it will be almost 96% even if the model always predicts 0 as output. "
   ]
  },
  {
   "cell_type": "code",
   "execution_count": 175,
   "metadata": {},
   "outputs": [],
   "source": [
    "#parameters = {\"C\": [0.01, 0.1, 1, 10, 100], \n",
    "#              \"max_iter\": [50, 100, 300], \n",
    "#              \"fit_intercept\": [True, False]}\n",
    "\n",
    "#grid_search = GridSearchCV(estimator = LogisticRegression(), param_grid = parameters, scoring = make_scorer(f1_score), cv = k_fold)\n",
    "#grid_search.fit(airbag_data_features_train, airbag_data_target_train)"
   ]
  },
  {
   "cell_type": "code",
   "execution_count": 176,
   "metadata": {},
   "outputs": [],
   "source": [
    "#grid_search.best_estimator_"
   ]
  },
  {
   "cell_type": "markdown",
   "metadata": {},
   "source": [
    "After the first attempt I can see that C = 10000 (the highest one), max_iter = 50 (the lowest one) and fit_intercept is set to True. This means that I can make another attempt using higher values for C and lower values for max_iter. Now I will try again with different parameters:"
   ]
  },
  {
   "cell_type": "code",
   "execution_count": 185,
   "metadata": {},
   "outputs": [],
   "source": [
    "#parameters = {\"C\": [1, 2, 5, 10, 20], \n",
    "#              \"max_iter\": [2, 5, 10, 20], \n",
    "#              \"fit_intercept\": [True, False]}\n",
    "\n",
    "#grid_search = GridSearchCV(estimator = LogisticRegression(), param_grid = parameters, scoring = make_scorer(f1_score), cv = k_fold)\n",
    "#grid_search.fit(airbag_data_features_train, airbag_data_target_train)"
   ]
  },
  {
   "cell_type": "code",
   "execution_count": 187,
   "metadata": {},
   "outputs": [],
   "source": [
    "#grid_search.best_estimator_"
   ]
  },
  {
   "cell_type": "markdown",
   "metadata": {},
   "source": [
    "Finally, I found the paraemters that optimize my model. Now I will save this model to a variable so that I can compare it on a lter stage. Then I will evaluate my model using the f1 score."
   ]
  },
  {
   "cell_type": "code",
   "execution_count": 360,
   "metadata": {},
   "outputs": [],
   "source": [
    "#logistic_regr = grid_search.best_estimator_"
   ]
  },
  {
   "cell_type": "code",
   "execution_count": 361,
   "metadata": {},
   "outputs": [],
   "source": [
    "#with open (\"logistic_regression\", \"wb\") as f:\n",
    "#    pickle.dump(logistic_regr, f)"
   ]
  },
  {
   "cell_type": "code",
   "execution_count": 177,
   "metadata": {},
   "outputs": [
    {
     "name": "stderr",
     "output_type": "stream",
     "text": [
      "/home/nikolay/anaconda3/lib/python3.7/site-packages/sklearn/base.py:306: UserWarning: Trying to unpickle estimator LogisticRegression from version 0.20.3 when using version 0.21.2. This might lead to breaking code or invalid results. Use at your own risk.\n",
      "  UserWarning)\n"
     ]
    }
   ],
   "source": [
    "with open (\"models/logistic_regression\", \"rb\") as f:\n",
    "    logistic_regr = pickle.load(f)"
   ]
  },
  {
   "cell_type": "code",
   "execution_count": 178,
   "metadata": {},
   "outputs": [],
   "source": [
    "predictions = logistic_regr.predict(airbag_data_features_train)"
   ]
  },
  {
   "cell_type": "code",
   "execution_count": 179,
   "metadata": {},
   "outputs": [
    {
     "name": "stdout",
     "output_type": "stream",
     "text": [
      "              precision    recall  f1-score   support\n",
      "\n",
      "           0       0.96      1.00      0.98     17525\n",
      "           1       0.48      0.09      0.15       826\n",
      "\n",
      "    accuracy                           0.95     18351\n",
      "   macro avg       0.72      0.54      0.56     18351\n",
      "weighted avg       0.94      0.95      0.94     18351\n",
      "\n"
     ]
    }
   ],
   "source": [
    "print(classification_report(airbag_data_target_train, predictions))"
   ]
  },
  {
   "cell_type": "markdown",
   "metadata": {},
   "source": [
    "Terrible performance of the model. If I use accuracy to evaluate my model I would get a very high score, but in fact my model does not perform well. The reason might be not enough features, not enough data etc. Now I want to test another algorithm on the same data."
   ]
  },
  {
   "cell_type": "markdown",
   "metadata": {},
   "source": [
    "### 4.2 Decision Tree"
   ]
  },
  {
   "cell_type": "code",
   "execution_count": 194,
   "metadata": {},
   "outputs": [],
   "source": [
    "#parameters = {\"max_depth\": [10, 15, 20, 25, 30], \n",
    "#              \"min_samples_leaf\": [1, 3, 5, 7], \n",
    "#              \"max_leaf_nodes\": [325, 350, 375, 400, 450]}\n",
    "\n",
    "#grid_search = GridSearchCV(estimator = DecisionTreeClassifier(), param_grid = parameters, scoring = make_scorer(f1_score), cv = k_fold)\n",
    "#grid_search.fit(airbag_data_features_train, airbag_data_target_train)"
   ]
  },
  {
   "cell_type": "code",
   "execution_count": 195,
   "metadata": {},
   "outputs": [],
   "source": [
    "#grid_search.best_estimator_"
   ]
  },
  {
   "cell_type": "code",
   "execution_count": 191,
   "metadata": {},
   "outputs": [],
   "source": [
    "#decision_tree = grid_search.best_estimator_"
   ]
  },
  {
   "cell_type": "markdown",
   "metadata": {},
   "source": [
    "Decision tree algorithm performs slightly better than the logistic regression. After many attempts, I found the optimal paramteres and the f1 score is almost 0.18. Now I will call again the classification report to look closer:"
   ]
  },
  {
   "cell_type": "code",
   "execution_count": 196,
   "metadata": {},
   "outputs": [],
   "source": [
    "#with open (\"decision_tree\", \"wb\") as f:\n",
    "#    pickle.dump(decision_tree, f)"
   ]
  },
  {
   "cell_type": "code",
   "execution_count": 180,
   "metadata": {},
   "outputs": [
    {
     "name": "stderr",
     "output_type": "stream",
     "text": [
      "/home/nikolay/anaconda3/lib/python3.7/site-packages/sklearn/base.py:306: UserWarning: Trying to unpickle estimator DecisionTreeClassifier from version 0.20.3 when using version 0.21.2. This might lead to breaking code or invalid results. Use at your own risk.\n",
      "  UserWarning)\n"
     ]
    }
   ],
   "source": [
    "with open (\"models/decision_tree\", \"rb\") as f:\n",
    "    decision_tree = pickle.load(f)"
   ]
  },
  {
   "cell_type": "code",
   "execution_count": 181,
   "metadata": {},
   "outputs": [],
   "source": [
    "predictions = decision_tree.predict(airbag_data_features_train)"
   ]
  },
  {
   "cell_type": "code",
   "execution_count": 182,
   "metadata": {},
   "outputs": [
    {
     "name": "stdout",
     "output_type": "stream",
     "text": [
      "              precision    recall  f1-score   support\n",
      "\n",
      "           0       0.98      1.00      0.99     17525\n",
      "           1       0.92      0.48      0.63       826\n",
      "\n",
      "    accuracy                           0.97     18351\n",
      "   macro avg       0.95      0.74      0.81     18351\n",
      "weighted avg       0.97      0.97      0.97     18351\n",
      "\n"
     ]
    }
   ],
   "source": [
    "print(classification_report(airbag_data_target_train, predictions))"
   ]
  },
  {
   "cell_type": "markdown",
   "metadata": {},
   "source": [
    "Obviously, the weak point is again the recall of the class 1. It is much better than the logistic regression, but it is still too low. For this reason I  want to continue with another algorithm - the Random Forest. I will manipulate only 2 parameters - the n_estimators (the number of the trees in my frest) and the max_depth (the depth of the trees). I want to create many weak learners and combine them in one strong learner. I believe this will help me create an appropriate model for this data."
   ]
  },
  {
   "cell_type": "markdown",
   "metadata": {},
   "source": [
    "### 4.3 Random Forest "
   ]
  },
  {
   "cell_type": "code",
   "execution_count": 183,
   "metadata": {},
   "outputs": [],
   "source": [
    "#parameters = {\"n_estimators\": [25, 35, 50, 75, 100], \n",
    "#              \"max_depth\": [10, 15, 20, 25, 30, 35]}\n",
    "\n",
    "#grid_search = GridSearchCV(estimator = RandomForestClassifier(), param_grid = parameters, scoring = make_scorer(f1_score), cv = k_fold)\n",
    "#grid_search.fit(airbag_data_features_train, airbag_data_target_train)"
   ]
  },
  {
   "cell_type": "code",
   "execution_count": 212,
   "metadata": {},
   "outputs": [],
   "source": [
    "#grid_search.best_estimator_"
   ]
  },
  {
   "cell_type": "markdown",
   "metadata": {},
   "source": [
    "Perfect, looks like I found the optimal paramters for my model - max_depth = 20 and n_estimators = 15. Now I will save the model in a variable and will show the score, will visualise the classification report for a closer look:"
   ]
  },
  {
   "cell_type": "code",
   "execution_count": 213,
   "metadata": {},
   "outputs": [],
   "source": [
    "#random_forest = grid_search.best_estimator_"
   ]
  },
  {
   "cell_type": "code",
   "execution_count": 214,
   "metadata": {},
   "outputs": [],
   "source": [
    "#with open (\"random_forest\", \"wb\") as f:\n",
    "#    pickle.dump(random_forest, f)"
   ]
  },
  {
   "cell_type": "code",
   "execution_count": 184,
   "metadata": {},
   "outputs": [
    {
     "name": "stderr",
     "output_type": "stream",
     "text": [
      "/home/nikolay/anaconda3/lib/python3.7/site-packages/sklearn/base.py:306: UserWarning: Trying to unpickle estimator DecisionTreeClassifier from version 0.20.3 when using version 0.21.2. This might lead to breaking code or invalid results. Use at your own risk.\n",
      "  UserWarning)\n",
      "/home/nikolay/anaconda3/lib/python3.7/site-packages/sklearn/base.py:306: UserWarning: Trying to unpickle estimator RandomForestClassifier from version 0.20.3 when using version 0.21.2. This might lead to breaking code or invalid results. Use at your own risk.\n",
      "  UserWarning)\n"
     ]
    }
   ],
   "source": [
    "with open (\"models/random_forest\", \"rb\") as f:\n",
    "    random_forest = pickle.load(f)"
   ]
  },
  {
   "cell_type": "code",
   "execution_count": 185,
   "metadata": {},
   "outputs": [],
   "source": [
    "predictions = random_forest.predict(airbag_data_features_train)"
   ]
  },
  {
   "cell_type": "code",
   "execution_count": 186,
   "metadata": {},
   "outputs": [
    {
     "name": "stdout",
     "output_type": "stream",
     "text": [
      "              precision    recall  f1-score   support\n",
      "\n",
      "           0       1.00      1.00      1.00     17525\n",
      "           1       0.98      0.90      0.93       826\n",
      "\n",
      "    accuracy                           0.99     18351\n",
      "   macro avg       0.99      0.95      0.97     18351\n",
      "weighted avg       0.99      0.99      0.99     18351\n",
      "\n"
     ]
    }
   ],
   "source": [
    "print(classification_report(airbag_data_target_train, predictions))"
   ]
  },
  {
   "cell_type": "markdown",
   "metadata": {},
   "source": [
    "As supposed, the random forest performs even better than the decision tree, but I still need a better recall rate, so I will try to obtain it thanks to a boosting algorithm - the AdaBoost"
   ]
  },
  {
   "cell_type": "markdown",
   "metadata": {},
   "source": [
    "### 4.4 AdaBoost Classifier"
   ]
  },
  {
   "cell_type": "markdown",
   "metadata": {},
   "source": [
    "The next algorithm I want to implement is the AdaBoost algorithm, which is very good performer when there is a classification problem. I will manipulate only 2 of the parameters here - the n_estimators and the learning_rate."
   ]
  },
  {
   "cell_type": "code",
   "execution_count": 251,
   "metadata": {},
   "outputs": [],
   "source": [
    "#parameters = {\"n_estimators\": [1, 3, 5, 10, 15, 20, 35, 50, 60, 75, 100], \n",
    "#              \"learning_rate\": [0.01, 0.015, 0.02, 0.04, 0.05, 0.06, 0.075]}\n",
    "#tree = DecisionTreeClassifier()\n",
    "#grid_search = GridSearchCV(estimator = AdaBoostClassifier(tree), param_grid = parameters, scoring = make_scorer(f1_score), cv = k_fold)\n",
    "#grid_search.fit(airbag_data_features_train, airbag_data_target_train)"
   ]
  },
  {
   "cell_type": "code",
   "execution_count": 252,
   "metadata": {},
   "outputs": [],
   "source": [
    "#grid_search.best_estimator_"
   ]
  },
  {
   "cell_type": "code",
   "execution_count": 253,
   "metadata": {},
   "outputs": [],
   "source": [
    "#ada_boost = grid_search.best_estimator_"
   ]
  },
  {
   "cell_type": "code",
   "execution_count": 254,
   "metadata": {},
   "outputs": [],
   "source": [
    "#with open (\"ada_boost\", \"wb\") as f:\n",
    "#    pickle.dump(ada_boost, f)"
   ]
  },
  {
   "cell_type": "code",
   "execution_count": 187,
   "metadata": {},
   "outputs": [
    {
     "name": "stderr",
     "output_type": "stream",
     "text": [
      "/home/nikolay/anaconda3/lib/python3.7/site-packages/sklearn/base.py:306: UserWarning: Trying to unpickle estimator DecisionTreeClassifier from version 0.20.3 when using version 0.21.2. This might lead to breaking code or invalid results. Use at your own risk.\n",
      "  UserWarning)\n",
      "/home/nikolay/anaconda3/lib/python3.7/site-packages/sklearn/base.py:306: UserWarning: Trying to unpickle estimator AdaBoostClassifier from version 0.20.3 when using version 0.21.2. This might lead to breaking code or invalid results. Use at your own risk.\n",
      "  UserWarning)\n"
     ]
    }
   ],
   "source": [
    "with open (\"models/ada_boost\", \"rb\") as f:\n",
    "    ada_boost = pickle.load(f)"
   ]
  },
  {
   "cell_type": "code",
   "execution_count": 188,
   "metadata": {},
   "outputs": [],
   "source": [
    "predictions = ada_boost.predict(airbag_data_features_train)"
   ]
  },
  {
   "cell_type": "code",
   "execution_count": 189,
   "metadata": {},
   "outputs": [
    {
     "name": "stdout",
     "output_type": "stream",
     "text": [
      "              precision    recall  f1-score   support\n",
      "\n",
      "           0       0.99      1.00      1.00     17525\n",
      "           1       1.00      0.89      0.94       826\n",
      "\n",
      "    accuracy                           0.99     18351\n",
      "   macro avg       1.00      0.94      0.97     18351\n",
      "weighted avg       1.00      0.99      0.99     18351\n",
      "\n"
     ]
    }
   ],
   "source": [
    "print(classification_report(airbag_data_target_train, predictions))"
   ]
  },
  {
   "cell_type": "markdown",
   "metadata": {},
   "source": [
    "After multiple trainings, I finally got kind of optimal parameters for the model. I already provided all the paramters I tried out till I reach the best combination. All the tested parameters are in the commented code above:\n",
    "\"n_estimators\": [1, 3, 5, 10, 15, 20, 35, 50, 60, 75, 100], \"learning_rate\": [0.01, 0.015, 0.02, 0.04, 0.05, 0.06, 0.075]"
   ]
  },
  {
   "cell_type": "markdown",
   "metadata": {},
   "source": [
    "### 4.5 Gaussian SVM"
   ]
  },
  {
   "cell_type": "markdown",
   "metadata": {},
   "source": [
    "The last algorithm I will use in order to search for even better algorithm is the gaussian SVM, where I will manipulate two of the parameters - the C and the gamma."
   ]
  },
  {
   "cell_type": "code",
   "execution_count": 275,
   "metadata": {},
   "outputs": [],
   "source": [
    "#parameters = {\"C\": [10, 15, 20, 50, 75, 100, 125, 150, 175, 200], \n",
    "#              \"gamma\": [0.001, 0.01, 0.1, 0.2, 0.3, 0.4, 0.5, 0.6, 1, 10, 25, 30, 35, 40, 50, 75, 100]}\n",
    "\n",
    "#grid_search = GridSearchCV(estimator = SVC(kernel=\"rbf\"), param_grid = parameters, scoring = make_scorer(f1_score), cv = k_fold)\n",
    "#grid_search.fit(airbag_data_features_train, airbag_data_target_train)"
   ]
  },
  {
   "cell_type": "code",
   "execution_count": 276,
   "metadata": {},
   "outputs": [],
   "source": [
    "#grid_search.best_estimator_"
   ]
  },
  {
   "cell_type": "code",
   "execution_count": 277,
   "metadata": {},
   "outputs": [],
   "source": [
    "#gaussian_svm = grid_search.best_estimator_"
   ]
  },
  {
   "cell_type": "markdown",
   "metadata": {},
   "source": [
    "Many optimization were needed and I tried many valies for each of the parameters in order to optimize my model. The values I tried are:\"C\": [10, 15, 20, 50, 75, 100, 125, 150, 175, 200], \"gamma\": [0.001, 0.01, 0.1, 0.2, 0.3, 0.4, 0.5, 0.6, 1, 10, 25, 30, 35, 40, 50, 75, 100]"
   ]
  },
  {
   "cell_type": "code",
   "execution_count": 268,
   "metadata": {},
   "outputs": [],
   "source": [
    "#with open (\"gaussian_svm\", \"wb\") as f:\n",
    "#    pickle.dump(gaussian_svm, f)"
   ]
  },
  {
   "cell_type": "code",
   "execution_count": 190,
   "metadata": {},
   "outputs": [
    {
     "name": "stderr",
     "output_type": "stream",
     "text": [
      "/home/nikolay/anaconda3/lib/python3.7/site-packages/sklearn/base.py:306: UserWarning: Trying to unpickle estimator SVC from version 0.20.3 when using version 0.21.2. This might lead to breaking code or invalid results. Use at your own risk.\n",
      "  UserWarning)\n"
     ]
    }
   ],
   "source": [
    "with open (\"models/gaussian_svm\", \"rb\") as f:\n",
    "    gaussian_svm = pickle.load(f)"
   ]
  },
  {
   "cell_type": "code",
   "execution_count": 191,
   "metadata": {},
   "outputs": [],
   "source": [
    "predictions = gaussian_svm.predict(airbag_data_features_train)"
   ]
  },
  {
   "cell_type": "code",
   "execution_count": 192,
   "metadata": {},
   "outputs": [
    {
     "name": "stdout",
     "output_type": "stream",
     "text": [
      "              precision    recall  f1-score   support\n",
      "\n",
      "           0       0.98      1.00      0.99     17525\n",
      "           1       0.93      0.48      0.63       826\n",
      "\n",
      "    accuracy                           0.97     18351\n",
      "   macro avg       0.95      0.74      0.81     18351\n",
      "weighted avg       0.97      0.97      0.97     18351\n",
      "\n"
     ]
    }
   ],
   "source": [
    "print(classification_report(airbag_data_target_train, predictions))"
   ]
  },
  {
   "cell_type": "markdown",
   "metadata": {},
   "source": [
    "Pretty low recall rate. Anyway, I already have two very good performing models - the Random forest and the AdaBoost. Now I want to test my model on the test data and check whether some of them did not overfit the training data."
   ]
  },
  {
   "cell_type": "markdown",
   "metadata": {},
   "source": [
    "## 5. Models Comparison on Test Data "
   ]
  },
  {
   "cell_type": "code",
   "execution_count": 193,
   "metadata": {},
   "outputs": [],
   "source": [
    "logistic_regr_predictions = logistic_regr.predict(airbag_data_features_test)\n",
    "decision_tree_predictions = decision_tree.predict(airbag_data_features_test)\n",
    "random_forest_predictions = random_forest.predict(airbag_data_features_test)\n",
    "ada_boost_predictions = ada_boost.predict(airbag_data_features_test)\n",
    "gaussian_svm_predictions = gaussian_svm.predict(airbag_data_features_test)\n",
    "\n",
    "logistic_regr_score = f1_score(logistic_regr_predictions, airbag_data_target_test)\n",
    "decision_tree_score = f1_score(decision_tree_predictions, airbag_data_target_test)\n",
    "random_score_score = f1_score(random_forest_predictions, airbag_data_target_test)\n",
    "ada_boost_score = f1_score(ada_boost_predictions, airbag_data_target_test)\n",
    "gaussian_svm_score = f1_score(gaussian_svm_predictions, airbag_data_target_test)"
   ]
  },
  {
   "cell_type": "code",
   "execution_count": 194,
   "metadata": {},
   "outputs": [
    {
     "name": "stdout",
     "output_type": "stream",
     "text": [
      "Testing f1-scores:\n",
      "Logistic regression: 0.17577197149643706\n",
      "Decision tree: 0.20577617328519854\n",
      "Random forest: 0.1798165137614679\n",
      "AdaBoost: 0.19793205317577547\n",
      "Gaussian SVM: 0.17073170731707318\n"
     ]
    }
   ],
   "source": [
    "print(\"Testing f1-scores:\")\n",
    "print(\"Logistic regression:\", logistic_regr_score)\n",
    "print(\"Decision tree:\", decision_tree_score)\n",
    "print(\"Random forest:\", random_score_score)\n",
    "print(\"AdaBoost:\", ada_boost_score)\n",
    "print(\"Gaussian SVM:\", gaussian_svm_score)"
   ]
  },
  {
   "cell_type": "markdown",
   "metadata": {},
   "source": [
    "Well, all of the models show pretty low f1 score on the test data which means that the models are not reliable. Some of them showed very high scores on the training data (they overfit the training data), but on the testing data all the models show very low f1 score. The reason for this might be that there are not enough observations to train a good model, not enough features etc. One thing that I can do is to apply PolynomialFeatures in order to get more features and thus create a new model. And I will do this a bit later. First, I want to take the top performer - the AdaBoost and analyze the result."
   ]
  },
  {
   "cell_type": "code",
   "execution_count": 195,
   "metadata": {},
   "outputs": [
    {
     "name": "stdout",
     "output_type": "stream",
     "text": [
      "              precision    recall  f1-score   support\n",
      "\n",
      "           0       0.96      0.97      0.96      7511\n",
      "           1       0.21      0.19      0.20       354\n",
      "\n",
      "    accuracy                           0.93      7865\n",
      "   macro avg       0.58      0.58      0.58      7865\n",
      "weighted avg       0.93      0.93      0.93      7865\n",
      "\n"
     ]
    }
   ],
   "source": [
    "print(classification_report(airbag_data_target_test, ada_boost_predictions))"
   ]
  },
  {
   "cell_type": "code",
   "execution_count": 196,
   "metadata": {},
   "outputs": [
    {
     "data": {
      "text/plain": [
       "array([[7255,  256],\n",
       "       [ 287,   67]])"
      ]
     },
     "execution_count": 196,
     "metadata": {},
     "output_type": "execute_result"
    }
   ],
   "source": [
    "confusion_matrix(airbag_data_target_test, ada_boost_predictions)"
   ]
  },
  {
   "cell_type": "markdown",
   "metadata": {},
   "source": [
    "As supposed, my model can not predict the 1 as output. It performs excellent when predicting 0-s, but in my case it is important to predict the 1-s (people who died).\n",
    "\n",
    "Before tuning my best performing model I will visualise the Roc curve of the AdaBoost model:"
   ]
  },
  {
   "cell_type": "code",
   "execution_count": 197,
   "metadata": {},
   "outputs": [
    {
     "ename": "NameError",
     "evalue": "name 'skplt' is not defined",
     "output_type": "error",
     "traceback": [
      "\u001b[0;31m---------------------------------------------------------------------------\u001b[0m",
      "\u001b[0;31mNameError\u001b[0m                                 Traceback (most recent call last)",
      "\u001b[0;32m<ipython-input-197-df6d5475e99b>\u001b[0m in \u001b[0;36m<module>\u001b[0;34m\u001b[0m\n\u001b[1;32m      1\u001b[0m \u001b[0my_true\u001b[0m \u001b[0;34m=\u001b[0m \u001b[0mairbag_data_target_test\u001b[0m\u001b[0;34m\u001b[0m\u001b[0;34m\u001b[0m\u001b[0m\n\u001b[1;32m      2\u001b[0m \u001b[0my_probas\u001b[0m \u001b[0;34m=\u001b[0m \u001b[0mada_boost\u001b[0m\u001b[0;34m.\u001b[0m\u001b[0mpredict_proba\u001b[0m\u001b[0;34m(\u001b[0m\u001b[0mairbag_data_features_test\u001b[0m\u001b[0;34m)\u001b[0m\u001b[0;34m\u001b[0m\u001b[0;34m\u001b[0m\u001b[0m\n\u001b[0;32m----> 3\u001b[0;31m \u001b[0mskplt\u001b[0m\u001b[0;34m.\u001b[0m\u001b[0mmetrics\u001b[0m\u001b[0;34m.\u001b[0m\u001b[0mplot_roc_curve\u001b[0m\u001b[0;34m(\u001b[0m\u001b[0my_true\u001b[0m\u001b[0;34m,\u001b[0m \u001b[0my_probas\u001b[0m\u001b[0;34m)\u001b[0m\u001b[0;34m\u001b[0m\u001b[0;34m\u001b[0m\u001b[0m\n\u001b[0m\u001b[1;32m      4\u001b[0m \u001b[0mplt\u001b[0m\u001b[0;34m.\u001b[0m\u001b[0mshow\u001b[0m\u001b[0;34m(\u001b[0m\u001b[0;34m)\u001b[0m\u001b[0;34m\u001b[0m\u001b[0;34m\u001b[0m\u001b[0m\n",
      "\u001b[0;31mNameError\u001b[0m: name 'skplt' is not defined"
     ]
    }
   ],
   "source": [
    "y_true = airbag_data_target_test\n",
    "y_probas = ada_boost.predict_proba(airbag_data_features_test)\n",
    "skplt.metrics.plot_roc_curve(y_true, y_probas)\n",
    "plt.show()"
   ]
  },
  {
   "cell_type": "markdown",
   "metadata": {},
   "source": [
    "We can see the the Roc score for both classes is 0.71. The micro-average Roc curve shows very good score, but as the data is imbalanced, this should not be taken as an appropriate measure."
   ]
  },
  {
   "cell_type": "markdown",
   "metadata": {},
   "source": [
    "## 6. Bonus Tuning "
   ]
  },
  {
   "cell_type": "markdown",
   "metadata": {},
   "source": [
    "After the analysis of the best performing model, I want to try once again to improve its performance even more. For this reason I will create a polynomial features set which will be used for training and I hope that increasing the features (I will use 2-nd degree only in this work) will increase also the performance of my model. I will use only one training algorithm - the best performer so far, the AdaBoost."
   ]
  },
  {
   "cell_type": "code",
   "execution_count": 198,
   "metadata": {},
   "outputs": [],
   "source": [
    "poly_model = PolynomialFeatures(degree=2)"
   ]
  },
  {
   "cell_type": "code",
   "execution_count": 199,
   "metadata": {},
   "outputs": [],
   "source": [
    "poly_airbag_data_features = poly_model.fit_transform(airbag_data_features)"
   ]
  },
  {
   "cell_type": "code",
   "execution_count": 200,
   "metadata": {},
   "outputs": [],
   "source": [
    "poly_airbag_data_features_train, poly_airbag_data_features_test, poly_airbag_data_labels_train, poly_airbag_data_labels_test = train_test_split(poly_airbag_data_features, airbag_data_target, stratify = airbag_data_target, train_size = 0.7)"
   ]
  },
  {
   "cell_type": "code",
   "execution_count": 201,
   "metadata": {},
   "outputs": [],
   "source": [
    "#parameters = {\"n_estimators\": [2, 4, 5, 10, 15, 20, 35, 50], \n",
    "#              \"learning_rate\": [0.02, 0.035, 0.05, 0.075, 0.1]}\n",
    "#tree = DecisionTreeClassifier()\n",
    "#grid_search = GridSearchCV(estimator = AdaBoostClassifier(tree), param_grid = parameters, scoring = make_scorer(f1_score), cv = k_fold)\n",
    "#grid_search.fit(poly_airbag_data_features_train, poly_airbag_data_labels_train)"
   ]
  },
  {
   "cell_type": "code",
   "execution_count": 202,
   "metadata": {},
   "outputs": [],
   "source": [
    "#grid_search.best_estimator_"
   ]
  },
  {
   "cell_type": "code",
   "execution_count": 334,
   "metadata": {},
   "outputs": [],
   "source": [
    "#ada_boost_tuned = grid_search.best_estimator_"
   ]
  },
  {
   "cell_type": "code",
   "execution_count": 335,
   "metadata": {},
   "outputs": [],
   "source": [
    "#with open (\"ada_boost_tuned\", \"wb\") as f:\n",
    "#    pickle.dump(ada_boost_tuned, f)"
   ]
  },
  {
   "cell_type": "code",
   "execution_count": 203,
   "metadata": {},
   "outputs": [
    {
     "name": "stderr",
     "output_type": "stream",
     "text": [
      "/home/nikolay/anaconda3/lib/python3.7/site-packages/sklearn/base.py:306: UserWarning: Trying to unpickle estimator DecisionTreeClassifier from version 0.20.3 when using version 0.21.2. This might lead to breaking code or invalid results. Use at your own risk.\n",
      "  UserWarning)\n",
      "/home/nikolay/anaconda3/lib/python3.7/site-packages/sklearn/base.py:306: UserWarning: Trying to unpickle estimator AdaBoostClassifier from version 0.20.3 when using version 0.21.2. This might lead to breaking code or invalid results. Use at your own risk.\n",
      "  UserWarning)\n"
     ]
    }
   ],
   "source": [
    "with open (\"models/ada_boost_tuned\", \"rb\") as f:\n",
    "    ada_boost_tuned = pickle.load(f)"
   ]
  },
  {
   "cell_type": "markdown",
   "metadata": {},
   "source": [
    "After I optimized the model, I will first show the classification report using the training data and then will use the test data in order to check how my model handles new data and how good it is in predicting it."
   ]
  },
  {
   "cell_type": "code",
   "execution_count": 204,
   "metadata": {},
   "outputs": [],
   "source": [
    "predictions = ada_boost_tuned.predict(poly_airbag_data_features_train)"
   ]
  },
  {
   "cell_type": "code",
   "execution_count": 205,
   "metadata": {},
   "outputs": [
    {
     "name": "stdout",
     "output_type": "stream",
     "text": [
      "              precision    recall  f1-score   support\n",
      "\n",
      "           0       0.98      0.99      0.99     17525\n",
      "           1       0.77      0.65      0.71       826\n",
      "\n",
      "    accuracy                           0.98     18351\n",
      "   macro avg       0.88      0.82      0.85     18351\n",
      "weighted avg       0.97      0.98      0.97     18351\n",
      "\n"
     ]
    }
   ],
   "source": [
    "print(classification_report(poly_airbag_data_labels_train, predictions))"
   ]
  },
  {
   "cell_type": "code",
   "execution_count": 206,
   "metadata": {},
   "outputs": [],
   "source": [
    "ada_boost_tuned_predictions = ada_boost_tuned.predict(poly_airbag_data_features_test)"
   ]
  },
  {
   "cell_type": "code",
   "execution_count": 207,
   "metadata": {},
   "outputs": [],
   "source": [
    "ada_boost_tuned_score = f1_score(poly_airbag_data_labels_test, ada_boost_tuned_predictions)"
   ]
  },
  {
   "cell_type": "code",
   "execution_count": 208,
   "metadata": {},
   "outputs": [
    {
     "name": "stdout",
     "output_type": "stream",
     "text": [
      "AdaBoost score:  0.7270072992700729\n"
     ]
    }
   ],
   "source": [
    "print(\"AdaBoost score: \", ada_boost_tuned_score)"
   ]
  },
  {
   "cell_type": "code",
   "execution_count": 209,
   "metadata": {},
   "outputs": [
    {
     "name": "stdout",
     "output_type": "stream",
     "text": [
      "              precision    recall  f1-score   support\n",
      "\n",
      "           0       0.99      0.99      0.99      7511\n",
      "           1       0.75      0.70      0.73       354\n",
      "\n",
      "    accuracy                           0.98      7865\n",
      "   macro avg       0.87      0.85      0.86      7865\n",
      "weighted avg       0.98      0.98      0.98      7865\n",
      "\n"
     ]
    }
   ],
   "source": [
    "print(classification_report(poly_airbag_data_labels_test, ada_boost_tuned_predictions))"
   ]
  },
  {
   "cell_type": "markdown",
   "metadata": {},
   "source": [
    "In fact, using the polynomial features did not improve the model performance, it is even a bit worse."
   ]
  },
  {
   "cell_type": "markdown",
   "metadata": {},
   "source": [
    "## 7. Conclusion "
   ]
  },
  {
   "cell_type": "markdown",
   "metadata": {},
   "source": [
    "After this deep exploration of the dataset, after creating so many models, after all these optimizations, I still dont have a good performing model on new (unknown) data and my model has difficulties to predict correctly new data. Some of them, though, showed great performance on the training data. In this case, the dataset has too few features and the features that were explored were not so cruicial for the outcome (wheter a person died in the accident or not). In order to create a model that works much better and correctly predicts the output, there is a need of data collection with more complex features. For example, the speed before the accident, the area where the accident happened and the speed limit there, the type of the vehicle etc."
   ]
  },
  {
   "cell_type": "markdown",
   "metadata": {},
   "source": [
    "# V. Conclusion"
   ]
  },
  {
   "cell_type": "markdown",
   "metadata": {},
   "source": [
    "To sum up, damaged cars are very popular for car dealers especially in Eastern Europe. People buy damaged cars from Germany, UK and other countries in Wester Europe, repair them in Eastern Europe and resell them with profit. However, most of the cars are with damaged airbags and the repair costs for this are very high. For this reason, many cars are being resold with unrepaired airbags or without airbags at all. As seen, airbags and seatbelts are very important especially during an accident. People who use seatbelt and have airbags in the cars have much better chance to stay alive after the accident even with injury.\n",
    "Saving a few thousands euro when buying a car is a great deal, but does a life cost a few thousand euro? I leave this question here without answer, but you better think about it before making a \"great deal\" and buy the \"perfect\" car in Bulgaria."
   ]
  },
  {
   "cell_type": "markdown",
   "metadata": {},
   "source": [
    "# VI. Limitations"
   ]
  },
  {
   "cell_type": "markdown",
   "metadata": {},
   "source": [
    "This project explored data that was very imbalanced. I did not manipulate the data itself. I tried to handle the data with different methods. Furhter ideas to create better models might be using oversampling of the positive cases. Another method I did not use is the dimensionalty reduction. The reason for that is the few important features I have in both datasets. If I use the PCA method it might cut another feature or 2, but this will not improve the performance of my models significantly or will not speed up the training significantly.\n",
    "\n",
    "Another data limitations: The Airbag dataset does not consist of data sampled in Eastern Europe; The Car dataset consist of cars that have not been sold on the price which is in the dataset and this means that the price might differ in some cases."
   ]
  },
  {
   "cell_type": "markdown",
   "metadata": {},
   "source": [
    "# VII. Implementation Ideas"
   ]
  },
  {
   "cell_type": "raw",
   "metadata": {},
   "source": [
    "The models that have been created can be used in many areas. Just a few examples:\n",
    "Insurance: Based on that whether a car is had some damages in the past, the insurance price could be higher, because there is the chance that the airbag does not exist or is damaged.\n",
    "Automotive industry: It can be created a software model that predicts what would happen in case of accident. For example if a person is driving a car with 50 km/h over the speed limit a sofware in the car can make a sound or show a picture that in case of accident the driver and the passangers will most probably die. On the other side in case of driving with 20 km/h over the speed limit the software can predict that the driver will be injured heavy in case of accident or there is a chance to get a fine 200 euro (for exxample)."
   ]
  },
  {
   "cell_type": "code",
   "execution_count": null,
   "metadata": {},
   "outputs": [],
   "source": []
  }
 ],
 "metadata": {
  "kernelspec": {
   "display_name": "Python 3",
   "language": "python",
   "name": "python3"
  },
  "language_info": {
   "codemirror_mode": {
    "name": "ipython",
    "version": 3
   },
   "file_extension": ".py",
   "mimetype": "text/x-python",
   "name": "python",
   "nbconvert_exporter": "python",
   "pygments_lexer": "ipython3",
   "version": "3.7.3"
  }
 },
 "nbformat": 4,
 "nbformat_minor": 2
}
